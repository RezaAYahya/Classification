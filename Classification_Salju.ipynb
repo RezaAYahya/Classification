{
 "cells": [
  {
   "cell_type": "markdown",
   "metadata": {},
   "source": [
    "# Tugas Besar Machine Learning (Tahap 2)\n",
    "---\n",
    "1. Nama : Izzan Faikar Ramadhy\n",
    "<br>NIM : 1301184216\n",
    "<br>Kelas : IF-42-12\n",
    "\n",
    "2. Nama : Reza Ahmad Yahya\n",
    "<br>NIM : 1301184403\n",
    "<br>Kelas : IF-42-12"
   ]
  },
  {
   "cell_type": "markdown",
   "metadata": {},
   "source": [
    "## Import Library"
   ]
  },
  {
   "cell_type": "code",
   "execution_count": 1,
   "metadata": {},
   "outputs": [],
   "source": [
    "import pandas as pd\n",
    "import numpy as np\n",
    "import seaborn as sns\n",
    "import matplotlib.pyplot as plt\n",
    "import matplotlib as mpl\n",
    "from tqdm import tqdm\n",
    "import io\n",
    "import requests\n",
    "from sklearn.preprocessing import LabelEncoder\n",
    "\n",
    "%matplotlib inline\n",
    "%config IPCompleter.greedy=True\n",
    "\n",
    "mpl.style.use(['ggplot']) "
   ]
  },
  {
   "cell_type": "markdown",
   "metadata": {},
   "source": [
    "## Load Data"
   ]
  },
  {
   "cell_type": "code",
   "execution_count": 2,
   "metadata": {},
   "outputs": [
    {
     "data": {
      "text/html": [
       "<div>\n",
       "<style scoped>\n",
       "    .dataframe tbody tr th:only-of-type {\n",
       "        vertical-align: middle;\n",
       "    }\n",
       "\n",
       "    .dataframe tbody tr th {\n",
       "        vertical-align: top;\n",
       "    }\n",
       "\n",
       "    .dataframe thead th {\n",
       "        text-align: right;\n",
       "    }\n",
       "</style>\n",
       "<table border=\"1\" class=\"dataframe\">\n",
       "  <thead>\n",
       "    <tr style=\"text-align: right;\">\n",
       "      <th></th>\n",
       "      <th>id</th>\n",
       "      <th>Tanggal</th>\n",
       "      <th>KodeLokasi</th>\n",
       "      <th>SuhuMin</th>\n",
       "      <th>SuhuMax</th>\n",
       "      <th>Hujan</th>\n",
       "      <th>Penguapan</th>\n",
       "      <th>SinarMatahari</th>\n",
       "      <th>ArahAnginTerkencang</th>\n",
       "      <th>KecepatanAnginTerkencang</th>\n",
       "      <th>...</th>\n",
       "      <th>Kelembaban9am</th>\n",
       "      <th>Kelembaban3pm</th>\n",
       "      <th>Tekanan9am</th>\n",
       "      <th>Tekanan3pm</th>\n",
       "      <th>Awan9am</th>\n",
       "      <th>Awan3pm</th>\n",
       "      <th>Suhu9am</th>\n",
       "      <th>Suhu3pm</th>\n",
       "      <th>BersaljuHariIni</th>\n",
       "      <th>BersaljuBesok</th>\n",
       "    </tr>\n",
       "  </thead>\n",
       "  <tbody>\n",
       "    <tr>\n",
       "      <th>0</th>\n",
       "      <td>1</td>\n",
       "      <td>01/06/2014</td>\n",
       "      <td>C4</td>\n",
       "      <td>10.4</td>\n",
       "      <td>15.5</td>\n",
       "      <td>4.8</td>\n",
       "      <td>NaN</td>\n",
       "      <td>NaN</td>\n",
       "      <td>WSW</td>\n",
       "      <td>24.0</td>\n",
       "      <td>...</td>\n",
       "      <td>78.0</td>\n",
       "      <td>76.0</td>\n",
       "      <td>1020.1</td>\n",
       "      <td>1018.5</td>\n",
       "      <td>NaN</td>\n",
       "      <td>NaN</td>\n",
       "      <td>13.1</td>\n",
       "      <td>15.0</td>\n",
       "      <td>Ya</td>\n",
       "      <td>Tidak</td>\n",
       "    </tr>\n",
       "    <tr>\n",
       "      <th>1</th>\n",
       "      <td>2</td>\n",
       "      <td>15/07/2014</td>\n",
       "      <td>C10</td>\n",
       "      <td>9.0</td>\n",
       "      <td>17.0</td>\n",
       "      <td>8.0</td>\n",
       "      <td>2.6</td>\n",
       "      <td>7.4</td>\n",
       "      <td>NaN</td>\n",
       "      <td>NaN</td>\n",
       "      <td>...</td>\n",
       "      <td>80.0</td>\n",
       "      <td>61.0</td>\n",
       "      <td>1015.2</td>\n",
       "      <td>1014.6</td>\n",
       "      <td>7.0</td>\n",
       "      <td>5.0</td>\n",
       "      <td>11.9</td>\n",
       "      <td>15.5</td>\n",
       "      <td>Ya</td>\n",
       "      <td>Ya</td>\n",
       "    </tr>\n",
       "    <tr>\n",
       "      <th>2</th>\n",
       "      <td>3</td>\n",
       "      <td>16/02/2011</td>\n",
       "      <td>C46</td>\n",
       "      <td>18.2</td>\n",
       "      <td>32.0</td>\n",
       "      <td>0.0</td>\n",
       "      <td>NaN</td>\n",
       "      <td>NaN</td>\n",
       "      <td>ESE</td>\n",
       "      <td>44.0</td>\n",
       "      <td>...</td>\n",
       "      <td>62.0</td>\n",
       "      <td>42.0</td>\n",
       "      <td>NaN</td>\n",
       "      <td>NaN</td>\n",
       "      <td>NaN</td>\n",
       "      <td>NaN</td>\n",
       "      <td>23.8</td>\n",
       "      <td>29.6</td>\n",
       "      <td>Tidak</td>\n",
       "      <td>Tidak</td>\n",
       "    </tr>\n",
       "    <tr>\n",
       "      <th>3</th>\n",
       "      <td>4</td>\n",
       "      <td>08/08/2012</td>\n",
       "      <td>C36</td>\n",
       "      <td>7.3</td>\n",
       "      <td>24.5</td>\n",
       "      <td>0.0</td>\n",
       "      <td>8.4</td>\n",
       "      <td>10.4</td>\n",
       "      <td>SSW</td>\n",
       "      <td>54.0</td>\n",
       "      <td>...</td>\n",
       "      <td>25.0</td>\n",
       "      <td>17.0</td>\n",
       "      <td>1019.2</td>\n",
       "      <td>1016.9</td>\n",
       "      <td>1.0</td>\n",
       "      <td>7.0</td>\n",
       "      <td>15.3</td>\n",
       "      <td>23.2</td>\n",
       "      <td>Tidak</td>\n",
       "      <td>Tidak</td>\n",
       "    </tr>\n",
       "    <tr>\n",
       "      <th>4</th>\n",
       "      <td>5</td>\n",
       "      <td>29/10/2016</td>\n",
       "      <td>C7</td>\n",
       "      <td>5.9</td>\n",
       "      <td>20.3</td>\n",
       "      <td>0.0</td>\n",
       "      <td>3.6</td>\n",
       "      <td>12.6</td>\n",
       "      <td>N</td>\n",
       "      <td>37.0</td>\n",
       "      <td>...</td>\n",
       "      <td>55.0</td>\n",
       "      <td>48.0</td>\n",
       "      <td>1019.7</td>\n",
       "      <td>1014.7</td>\n",
       "      <td>2.0</td>\n",
       "      <td>6.0</td>\n",
       "      <td>12.4</td>\n",
       "      <td>18.1</td>\n",
       "      <td>Tidak</td>\n",
       "      <td>Tidak</td>\n",
       "    </tr>\n",
       "  </tbody>\n",
       "</table>\n",
       "<p>5 rows × 24 columns</p>\n",
       "</div>"
      ],
      "text/plain": [
       "   id     Tanggal KodeLokasi  SuhuMin  SuhuMax  Hujan  Penguapan  \\\n",
       "0   1  01/06/2014         C4     10.4     15.5    4.8        NaN   \n",
       "1   2  15/07/2014        C10      9.0     17.0    8.0        2.6   \n",
       "2   3  16/02/2011        C46     18.2     32.0    0.0        NaN   \n",
       "3   4  08/08/2012        C36      7.3     24.5    0.0        8.4   \n",
       "4   5  29/10/2016         C7      5.9     20.3    0.0        3.6   \n",
       "\n",
       "   SinarMatahari ArahAnginTerkencang  KecepatanAnginTerkencang  ...  \\\n",
       "0            NaN                 WSW                      24.0  ...   \n",
       "1            7.4                 NaN                       NaN  ...   \n",
       "2            NaN                 ESE                      44.0  ...   \n",
       "3           10.4                 SSW                      54.0  ...   \n",
       "4           12.6                   N                      37.0  ...   \n",
       "\n",
       "  Kelembaban9am Kelembaban3pm  Tekanan9am  Tekanan3pm  Awan9am  Awan3pm  \\\n",
       "0          78.0          76.0      1020.1      1018.5      NaN      NaN   \n",
       "1          80.0          61.0      1015.2      1014.6      7.0      5.0   \n",
       "2          62.0          42.0         NaN         NaN      NaN      NaN   \n",
       "3          25.0          17.0      1019.2      1016.9      1.0      7.0   \n",
       "4          55.0          48.0      1019.7      1014.7      2.0      6.0   \n",
       "\n",
       "   Suhu9am  Suhu3pm  BersaljuHariIni  BersaljuBesok  \n",
       "0     13.1     15.0               Ya          Tidak  \n",
       "1     11.9     15.5               Ya             Ya  \n",
       "2     23.8     29.6            Tidak          Tidak  \n",
       "3     15.3     23.2            Tidak          Tidak  \n",
       "4     12.4     18.1            Tidak          Tidak  \n",
       "\n",
       "[5 rows x 24 columns]"
      ]
     },
     "execution_count": 2,
     "metadata": {},
     "output_type": "execute_result"
    }
   ],
   "source": [
    "# Load data training salju\n",
    "url = \"https://raw.githubusercontent.com/RezaAYahya/Classification/main/salju_train.csv\"\n",
    "download = requests.get(url).content\n",
    "\n",
    "df_train = pd.read_csv(io.StringIO(download.decode('utf-8')))\n",
    "df_train.head()"
   ]
  },
  {
   "cell_type": "code",
   "execution_count": 3,
   "metadata": {},
   "outputs": [
    {
     "data": {
      "text/html": [
       "<div>\n",
       "<style scoped>\n",
       "    .dataframe tbody tr th:only-of-type {\n",
       "        vertical-align: middle;\n",
       "    }\n",
       "\n",
       "    .dataframe tbody tr th {\n",
       "        vertical-align: top;\n",
       "    }\n",
       "\n",
       "    .dataframe thead th {\n",
       "        text-align: right;\n",
       "    }\n",
       "</style>\n",
       "<table border=\"1\" class=\"dataframe\">\n",
       "  <thead>\n",
       "    <tr style=\"text-align: right;\">\n",
       "      <th></th>\n",
       "      <th>Tanggal</th>\n",
       "      <th>KodeLokasi</th>\n",
       "      <th>SuhuMin</th>\n",
       "      <th>SuhuMax</th>\n",
       "      <th>Hujan</th>\n",
       "      <th>Penguapan</th>\n",
       "      <th>SinarMatahari</th>\n",
       "      <th>ArahAnginTerkencang</th>\n",
       "      <th>KecepatanAnginTerkencang</th>\n",
       "      <th>ArahAngin9am</th>\n",
       "      <th>...</th>\n",
       "      <th>Kelembaban9am</th>\n",
       "      <th>Kelembaban3pm</th>\n",
       "      <th>Tekanan9am</th>\n",
       "      <th>Tekanan3pm</th>\n",
       "      <th>Awan9am</th>\n",
       "      <th>Awan3pm</th>\n",
       "      <th>Suhu9am</th>\n",
       "      <th>Suhu3pm</th>\n",
       "      <th>BersaljuHariIni</th>\n",
       "      <th>BersaljuBesok</th>\n",
       "    </tr>\n",
       "  </thead>\n",
       "  <tbody>\n",
       "    <tr>\n",
       "      <th>0</th>\n",
       "      <td>04/11/2010</td>\n",
       "      <td>C39</td>\n",
       "      <td>11.0</td>\n",
       "      <td>27.5</td>\n",
       "      <td>0.0</td>\n",
       "      <td>NaN</td>\n",
       "      <td>6.4</td>\n",
       "      <td>WSW</td>\n",
       "      <td>46.0</td>\n",
       "      <td>W</td>\n",
       "      <td>...</td>\n",
       "      <td>39.0</td>\n",
       "      <td>56.0</td>\n",
       "      <td>1013.0</td>\n",
       "      <td>1012.4</td>\n",
       "      <td>4.0</td>\n",
       "      <td>7.0</td>\n",
       "      <td>25.7</td>\n",
       "      <td>23.6</td>\n",
       "      <td>No</td>\n",
       "      <td>No</td>\n",
       "    </tr>\n",
       "    <tr>\n",
       "      <th>1</th>\n",
       "      <td>26/03/2015</td>\n",
       "      <td>C35</td>\n",
       "      <td>10.0</td>\n",
       "      <td>19.9</td>\n",
       "      <td>0.2</td>\n",
       "      <td>NaN</td>\n",
       "      <td>NaN</td>\n",
       "      <td>WNW</td>\n",
       "      <td>56.0</td>\n",
       "      <td>W</td>\n",
       "      <td>...</td>\n",
       "      <td>76.0</td>\n",
       "      <td>32.0</td>\n",
       "      <td>1017.0</td>\n",
       "      <td>1015.2</td>\n",
       "      <td>8.0</td>\n",
       "      <td>1.0</td>\n",
       "      <td>10.7</td>\n",
       "      <td>18.9</td>\n",
       "      <td>No</td>\n",
       "      <td>Yes</td>\n",
       "    </tr>\n",
       "    <tr>\n",
       "      <th>2</th>\n",
       "      <td>22/03/2016</td>\n",
       "      <td>C18</td>\n",
       "      <td>9.2</td>\n",
       "      <td>27.2</td>\n",
       "      <td>0.0</td>\n",
       "      <td>5.2</td>\n",
       "      <td>10.4</td>\n",
       "      <td>SSW</td>\n",
       "      <td>33.0</td>\n",
       "      <td>NE</td>\n",
       "      <td>...</td>\n",
       "      <td>89.0</td>\n",
       "      <td>27.0</td>\n",
       "      <td>1018.6</td>\n",
       "      <td>1015.7</td>\n",
       "      <td>0.0</td>\n",
       "      <td>1.0</td>\n",
       "      <td>13.9</td>\n",
       "      <td>26.3</td>\n",
       "      <td>No</td>\n",
       "      <td>No</td>\n",
       "    </tr>\n",
       "    <tr>\n",
       "      <th>3</th>\n",
       "      <td>09/12/2011</td>\n",
       "      <td>C31</td>\n",
       "      <td>17.7</td>\n",
       "      <td>27.0</td>\n",
       "      <td>0.0</td>\n",
       "      <td>4.6</td>\n",
       "      <td>6.7</td>\n",
       "      <td>SW</td>\n",
       "      <td>35.0</td>\n",
       "      <td>E</td>\n",
       "      <td>...</td>\n",
       "      <td>55.0</td>\n",
       "      <td>41.0</td>\n",
       "      <td>1010.2</td>\n",
       "      <td>1008.6</td>\n",
       "      <td>7.0</td>\n",
       "      <td>6.0</td>\n",
       "      <td>22.3</td>\n",
       "      <td>26.4</td>\n",
       "      <td>No</td>\n",
       "      <td>No</td>\n",
       "    </tr>\n",
       "    <tr>\n",
       "      <th>4</th>\n",
       "      <td>20/05/2017</td>\n",
       "      <td>C14</td>\n",
       "      <td>2.3</td>\n",
       "      <td>7.9</td>\n",
       "      <td>88.0</td>\n",
       "      <td>NaN</td>\n",
       "      <td>NaN</td>\n",
       "      <td>NW</td>\n",
       "      <td>46.0</td>\n",
       "      <td>W</td>\n",
       "      <td>...</td>\n",
       "      <td>98.0</td>\n",
       "      <td>95.0</td>\n",
       "      <td>NaN</td>\n",
       "      <td>NaN</td>\n",
       "      <td>NaN</td>\n",
       "      <td>NaN</td>\n",
       "      <td>4.4</td>\n",
       "      <td>6.0</td>\n",
       "      <td>Yes</td>\n",
       "      <td>No</td>\n",
       "    </tr>\n",
       "  </tbody>\n",
       "</table>\n",
       "<p>5 rows × 23 columns</p>\n",
       "</div>"
      ],
      "text/plain": [
       "      Tanggal KodeLokasi  SuhuMin  SuhuMax  Hujan  Penguapan  SinarMatahari  \\\n",
       "0  04/11/2010        C39     11.0     27.5    0.0        NaN            6.4   \n",
       "1  26/03/2015        C35     10.0     19.9    0.2        NaN            NaN   \n",
       "2  22/03/2016        C18      9.2     27.2    0.0        5.2           10.4   \n",
       "3  09/12/2011        C31     17.7     27.0    0.0        4.6            6.7   \n",
       "4  20/05/2017        C14      2.3      7.9   88.0        NaN            NaN   \n",
       "\n",
       "  ArahAnginTerkencang  KecepatanAnginTerkencang ArahAngin9am  ...  \\\n",
       "0                 WSW                      46.0            W  ...   \n",
       "1                 WNW                      56.0            W  ...   \n",
       "2                 SSW                      33.0           NE  ...   \n",
       "3                  SW                      35.0            E  ...   \n",
       "4                  NW                      46.0            W  ...   \n",
       "\n",
       "  Kelembaban9am  Kelembaban3pm  Tekanan9am  Tekanan3pm  Awan9am  Awan3pm  \\\n",
       "0          39.0           56.0      1013.0      1012.4      4.0      7.0   \n",
       "1          76.0           32.0      1017.0      1015.2      8.0      1.0   \n",
       "2          89.0           27.0      1018.6      1015.7      0.0      1.0   \n",
       "3          55.0           41.0      1010.2      1008.6      7.0      6.0   \n",
       "4          98.0           95.0         NaN         NaN      NaN      NaN   \n",
       "\n",
       "   Suhu9am  Suhu3pm  BersaljuHariIni  BersaljuBesok  \n",
       "0     25.7     23.6               No             No  \n",
       "1     10.7     18.9               No            Yes  \n",
       "2     13.9     26.3               No             No  \n",
       "3     22.3     26.4               No             No  \n",
       "4      4.4      6.0              Yes             No  \n",
       "\n",
       "[5 rows x 23 columns]"
      ]
     },
     "execution_count": 3,
     "metadata": {},
     "output_type": "execute_result"
    }
   ],
   "source": [
    "# Load data testing salju\n",
    "url2 = \"https://raw.githubusercontent.com/RezaAYahya/Classification/main/salju_test.csv\"\n",
    "download2 = requests.get(url2).content\n",
    "\n",
    "df_test = pd.read_csv(io.StringIO(download2.decode('utf-8')))\n",
    "df_test.head()"
   ]
  },
  {
   "cell_type": "markdown",
   "metadata": {},
   "source": [
    "## Eksplorasi Data\n",
    "1. Identifikasi Data <br>\n",
    "    a. Dimensi Data <br>\n",
    "    b. Info Data <br>\n",
    "    c. Missing Values <br>\n",
    "2. Univariate Analysis (Explore Kolom Target)\n",
    "3. Bivariate Analysis\n",
    "4. Multivariate Analysis"
   ]
  },
  {
   "cell_type": "markdown",
   "metadata": {},
   "source": [
    "### Identifikasi Data"
   ]
  },
  {
   "cell_type": "markdown",
   "metadata": {},
   "source": [
    "#### Dimensi Data"
   ]
  },
  {
   "cell_type": "code",
   "execution_count": 4,
   "metadata": {},
   "outputs": [
    {
     "data": {
      "text/plain": [
       "(109095, 24)"
      ]
     },
     "execution_count": 4,
     "metadata": {},
     "output_type": "execute_result"
    }
   ],
   "source": [
    "# Melihat jumlah baris dan kolom data train salju\n",
    "df_train.shape"
   ]
  },
  {
   "cell_type": "code",
   "execution_count": 5,
   "metadata": {},
   "outputs": [
    {
     "data": {
      "text/plain": [
       "(18182, 23)"
      ]
     },
     "execution_count": 5,
     "metadata": {},
     "output_type": "execute_result"
    }
   ],
   "source": [
    "# Melihat jumlah baris dan kolom data test salju\n",
    "df_test.shape"
   ]
  },
  {
   "cell_type": "markdown",
   "metadata": {},
   "source": [
    "#### Info Data"
   ]
  },
  {
   "cell_type": "code",
   "execution_count": 6,
   "metadata": {},
   "outputs": [
    {
     "name": "stdout",
     "output_type": "stream",
     "text": [
      "<class 'pandas.core.frame.DataFrame'>\n",
      "RangeIndex: 109095 entries, 0 to 109094\n",
      "Data columns (total 24 columns):\n",
      " #   Column                    Non-Null Count   Dtype  \n",
      "---  ------                    --------------   -----  \n",
      " 0   id                        109095 non-null  int64  \n",
      " 1   Tanggal                   109095 non-null  object \n",
      " 2   KodeLokasi                109095 non-null  object \n",
      " 3   SuhuMin                   107973 non-null  float64\n",
      " 4   SuhuMax                   108166 non-null  float64\n",
      " 5   Hujan                     106664 non-null  float64\n",
      " 6   Penguapan                 62071 non-null   float64\n",
      " 7   SinarMatahari             56716 non-null   float64\n",
      " 8   ArahAnginTerkencang       101351 non-null  object \n",
      " 9   KecepatanAnginTerkencang  101399 non-null  float64\n",
      " 10  ArahAngin9am              101172 non-null  object \n",
      " 11  ArahAngin3pm              105898 non-null  object \n",
      " 12  KecepatanAngin9am         107742 non-null  float64\n",
      " 13  KecepatanAngin3pm         106792 non-null  float64\n",
      " 14  Kelembaban9am             107093 non-null  float64\n",
      " 15  Kelembaban3pm             105721 non-null  float64\n",
      " 16  Tekanan9am                97768 non-null   float64\n",
      " 17  Tekanan3pm                97787 non-null   float64\n",
      " 18  Awan9am                   67251 non-null   float64\n",
      " 19  Awan3pm                   64624 non-null   float64\n",
      " 20  Suhu9am                   107755 non-null  float64\n",
      " 21  Suhu3pm                   106397 non-null  float64\n",
      " 22  BersaljuHariIni           106664 non-null  object \n",
      " 23  BersaljuBesok             106664 non-null  object \n",
      "dtypes: float64(16), int64(1), object(7)\n",
      "memory usage: 17.1+ MB\n"
     ]
    }
   ],
   "source": [
    "# Melihat informasi dari data train salju\n",
    "df_train.info()"
   ]
  },
  {
   "cell_type": "code",
   "execution_count": 7,
   "metadata": {},
   "outputs": [
    {
     "name": "stdout",
     "output_type": "stream",
     "text": [
      "<class 'pandas.core.frame.DataFrame'>\n",
      "RangeIndex: 18182 entries, 0 to 18181\n",
      "Data columns (total 23 columns):\n",
      " #   Column                    Non-Null Count  Dtype  \n",
      "---  ------                    --------------  -----  \n",
      " 0   Tanggal                   18182 non-null  object \n",
      " 1   KodeLokasi                18182 non-null  object \n",
      " 2   SuhuMin                   18017 non-null  float64\n",
      " 3   SuhuMax                   18017 non-null  float64\n",
      " 4   Hujan                     17795 non-null  float64\n",
      " 5   Penguapan                 10326 non-null  float64\n",
      " 6   SinarMatahari             9464 non-null   float64\n",
      " 7   ArahAnginTerkencang       16901 non-null  object \n",
      " 8   KecepatanAnginTerkencang  16908 non-null  float64\n",
      " 9   ArahAngin9am              16874 non-null  object \n",
      " 10  ArahAngin3pm              17686 non-null  object \n",
      " 11  KecepatanAngin9am         17984 non-null  float64\n",
      " 12  KecepatanAngin3pm         17828 non-null  float64\n",
      " 13  Kelembaban9am             17852 non-null  float64\n",
      " 14  Kelembaban3pm             17634 non-null  float64\n",
      " 15  Tekanan9am                16317 non-null  float64\n",
      " 16  Tekanan3pm                16329 non-null  float64\n",
      " 17  Awan9am                   11140 non-null  float64\n",
      " 18  Awan3pm                   10726 non-null  float64\n",
      " 19  Suhu9am                   17963 non-null  float64\n",
      " 20  Suhu3pm                   17740 non-null  float64\n",
      " 21  BersaljuHariIni           17795 non-null  object \n",
      " 22  BersaljuBesok             17763 non-null  object \n",
      "dtypes: float64(16), object(7)\n",
      "memory usage: 2.7+ MB\n"
     ]
    }
   ],
   "source": [
    "# Melihat informasi dari data test salju\n",
    "df_test.info()"
   ]
  },
  {
   "cell_type": "markdown",
   "metadata": {},
   "source": [
    "#### Missing Values"
   ]
  },
  {
   "cell_type": "code",
   "execution_count": 8,
   "metadata": {},
   "outputs": [
    {
     "data": {
      "text/plain": [
       "id                              0\n",
       "Tanggal                         0\n",
       "KodeLokasi                      0\n",
       "SuhuMin                      1122\n",
       "SuhuMax                       929\n",
       "Hujan                        2431\n",
       "Penguapan                   47024\n",
       "SinarMatahari               52379\n",
       "ArahAnginTerkencang          7744\n",
       "KecepatanAnginTerkencang     7696\n",
       "ArahAngin9am                 7923\n",
       "ArahAngin3pm                 3197\n",
       "KecepatanAngin9am            1353\n",
       "KecepatanAngin3pm            2303\n",
       "Kelembaban9am                2002\n",
       "Kelembaban3pm                3374\n",
       "Tekanan9am                  11327\n",
       "Tekanan3pm                  11308\n",
       "Awan9am                     41844\n",
       "Awan3pm                     44471\n",
       "Suhu9am                      1340\n",
       "Suhu3pm                      2698\n",
       "BersaljuHariIni              2431\n",
       "BersaljuBesok                2431\n",
       "dtype: int64"
      ]
     },
     "execution_count": 8,
     "metadata": {},
     "output_type": "execute_result"
    }
   ],
   "source": [
    "# Mengecheck nilai null dari data train salju\n",
    "df_train.isnull().sum()"
   ]
  },
  {
   "cell_type": "code",
   "execution_count": 9,
   "metadata": {},
   "outputs": [
    {
     "data": {
      "text/plain": [
       "Tanggal                        0\n",
       "KodeLokasi                     0\n",
       "SuhuMin                      165\n",
       "SuhuMax                      165\n",
       "Hujan                        387\n",
       "Penguapan                   7856\n",
       "SinarMatahari               8718\n",
       "ArahAnginTerkencang         1281\n",
       "KecepatanAnginTerkencang    1274\n",
       "ArahAngin9am                1308\n",
       "ArahAngin3pm                 496\n",
       "KecepatanAngin9am            198\n",
       "KecepatanAngin3pm            354\n",
       "Kelembaban9am                330\n",
       "Kelembaban3pm                548\n",
       "Tekanan9am                  1865\n",
       "Tekanan3pm                  1853\n",
       "Awan9am                     7042\n",
       "Awan3pm                     7456\n",
       "Suhu9am                      219\n",
       "Suhu3pm                      442\n",
       "BersaljuHariIni              387\n",
       "BersaljuBesok                419\n",
       "dtype: int64"
      ]
     },
     "execution_count": 9,
     "metadata": {},
     "output_type": "execute_result"
    }
   ],
   "source": [
    "df_test.isnull().sum()"
   ]
  },
  {
   "cell_type": "markdown",
   "metadata": {},
   "source": [
    "### Univariate Analysis\n",
    "> Explore kolom target (BersaljuBesok)\n",
    "1. Check Missing Values\n",
    "2. Check Unique Values\n",
    "3. Check Distribusi Data"
   ]
  },
  {
   "cell_type": "markdown",
   "metadata": {},
   "source": [
    "#### Missing Values"
   ]
  },
  {
   "cell_type": "code",
   "execution_count": 10,
   "metadata": {},
   "outputs": [
    {
     "data": {
      "text/plain": [
       "2431"
      ]
     },
     "execution_count": 10,
     "metadata": {},
     "output_type": "execute_result"
    }
   ],
   "source": [
    "df_train['BersaljuBesok'].isnull().sum()"
   ]
  },
  {
   "cell_type": "markdown",
   "metadata": {},
   "source": [
    "Terdapat 2431 missing values pada data train."
   ]
  },
  {
   "cell_type": "code",
   "execution_count": 11,
   "metadata": {},
   "outputs": [
    {
     "data": {
      "text/plain": [
       "419"
      ]
     },
     "execution_count": 11,
     "metadata": {},
     "output_type": "execute_result"
    }
   ],
   "source": [
    "df_test['BersaljuBesok'].isnull().sum()"
   ]
  },
  {
   "cell_type": "markdown",
   "metadata": {},
   "source": [
    "Terdapat 419 missing values pada data test."
   ]
  },
  {
   "cell_type": "markdown",
   "metadata": {},
   "source": [
    "#### Unique Values"
   ]
  },
  {
   "cell_type": "code",
   "execution_count": 12,
   "metadata": {},
   "outputs": [
    {
     "data": {
      "text/plain": [
       "array(['Tidak', 'Ya', nan], dtype=object)"
      ]
     },
     "execution_count": 12,
     "metadata": {},
     "output_type": "execute_result"
    }
   ],
   "source": [
    "df_train['BersaljuBesok'].unique()"
   ]
  },
  {
   "cell_type": "code",
   "execution_count": 13,
   "metadata": {},
   "outputs": [
    {
     "data": {
      "text/plain": [
       "array(['No', 'Yes', nan], dtype=object)"
      ]
     },
     "execution_count": 13,
     "metadata": {},
     "output_type": "execute_result"
    }
   ],
   "source": [
    "df_test['BersaljuBesok'].unique()"
   ]
  },
  {
   "cell_type": "markdown",
   "metadata": {},
   "source": [
    "Data class pada training dan testing masih belum konsisten nilainya, pada data train nilainya adalah 'Tidak' dan 'Ya' sedangkan pada data test nilainya adalah 'No' dan 'Yes'."
   ]
  },
  {
   "cell_type": "markdown",
   "metadata": {},
   "source": [
    "#### Distribusi Data"
   ]
  },
  {
   "cell_type": "code",
   "execution_count": 14,
   "metadata": {},
   "outputs": [
    {
     "data": {
      "text/plain": [
       "Tidak    82701\n",
       "Ya       23963\n",
       "Name: BersaljuBesok, dtype: int64"
      ]
     },
     "execution_count": 14,
     "metadata": {},
     "output_type": "execute_result"
    }
   ],
   "source": [
    "df_train['BersaljuBesok'].value_counts()"
   ]
  },
  {
   "cell_type": "code",
   "execution_count": 15,
   "metadata": {},
   "outputs": [
    {
     "data": {
      "image/png": "[encoded data removed]",
      "text/plain": [
       "<Figure size 432x576 with 1 Axes>"
      ]
     },
     "metadata": {},
     "output_type": "display_data"
    }
   ],
   "source": [
    "f, ax = plt.subplots(figsize=(6, 8))\n",
    "ax = sns.countplot(x=\"BersaljuBesok\", data=df_train, palette=\"Set1\")\n",
    "plt.show()"
   ]
  },
  {
   "cell_type": "markdown",
   "metadata": {},
   "source": [
    "Kolom target pada data training masih imbalance."
   ]
  },
  {
   "cell_type": "markdown",
   "metadata": {},
   "source": [
    "### Bivariate Analysis\n",
    "1. Datetime\n",
    "2. Categorical\n",
    "3. Numerical"
   ]
  },
  {
   "cell_type": "code",
   "execution_count": 16,
   "metadata": {},
   "outputs": [
    {
     "data": {
      "text/plain": [
       "id                            int64\n",
       "Tanggal                      object\n",
       "KodeLokasi                   object\n",
       "SuhuMin                     float64\n",
       "SuhuMax                     float64\n",
       "Hujan                       float64\n",
       "Penguapan                   float64\n",
       "SinarMatahari               float64\n",
       "ArahAnginTerkencang          object\n",
       "KecepatanAnginTerkencang    float64\n",
       "ArahAngin9am                 object\n",
       "ArahAngin3pm                 object\n",
       "KecepatanAngin9am           float64\n",
       "KecepatanAngin3pm           float64\n",
       "Kelembaban9am               float64\n",
       "Kelembaban3pm               float64\n",
       "Tekanan9am                  float64\n",
       "Tekanan3pm                  float64\n",
       "Awan9am                     float64\n",
       "Awan3pm                     float64\n",
       "Suhu9am                     float64\n",
       "Suhu3pm                     float64\n",
       "BersaljuHariIni              object\n",
       "BersaljuBesok                object\n",
       "dtype: object"
      ]
     },
     "execution_count": 16,
     "metadata": {},
     "output_type": "execute_result"
    }
   ],
   "source": [
    "# Melihat tipe data dari data train salju\n",
    "df_train.dtypes"
   ]
  },
  {
   "cell_type": "code",
   "execution_count": 17,
   "metadata": {},
   "outputs": [
    {
     "data": {
      "text/plain": [
       "Tanggal                      object\n",
       "KodeLokasi                   object\n",
       "SuhuMin                     float64\n",
       "SuhuMax                     float64\n",
       "Hujan                       float64\n",
       "Penguapan                   float64\n",
       "SinarMatahari               float64\n",
       "ArahAnginTerkencang          object\n",
       "KecepatanAnginTerkencang    float64\n",
       "ArahAngin9am                 object\n",
       "ArahAngin3pm                 object\n",
       "KecepatanAngin9am           float64\n",
       "KecepatanAngin3pm           float64\n",
       "Kelembaban9am               float64\n",
       "Kelembaban3pm               float64\n",
       "Tekanan9am                  float64\n",
       "Tekanan3pm                  float64\n",
       "Awan9am                     float64\n",
       "Awan3pm                     float64\n",
       "Suhu9am                     float64\n",
       "Suhu3pm                     float64\n",
       "BersaljuHariIni              object\n",
       "BersaljuBesok                object\n",
       "dtype: object"
      ]
     },
     "execution_count": 17,
     "metadata": {},
     "output_type": "execute_result"
    }
   ],
   "source": [
    "# Melihat tipe data dari data train salju\n",
    "df_test.dtypes"
   ]
  },
  {
   "cell_type": "markdown",
   "metadata": {},
   "source": [
    "#### Datetime"
   ]
  },
  {
   "cell_type": "code",
   "execution_count": 18,
   "metadata": {},
   "outputs": [],
   "source": [
    "# Merubah type data tanggal menjadi date\n",
    "df_train['Tanggal'] = pd.to_datetime(df_train['Tanggal'])\n",
    "df_test['Tanggal'] = pd.to_datetime(df_test['Tanggal'])"
   ]
  },
  {
   "cell_type": "markdown",
   "metadata": {},
   "source": [
    "#### Categorical"
   ]
  },
  {
   "cell_type": "code",
   "execution_count": 19,
   "metadata": {},
   "outputs": [
    {
     "name": "stdout",
     "output_type": "stream",
     "text": [
      "Terdapat 6 categorical variables di data train salju\n",
      "\n",
      "Contohnya adalah : ['KodeLokasi', 'ArahAnginTerkencang', 'ArahAngin9am', 'ArahAngin3pm', 'BersaljuHariIni', 'BersaljuBesok']\n"
     ]
    }
   ],
   "source": [
    "# Melihat data yang bertipe kategorical di data train salju\n",
    "categorical_train = [var for var in df_train.columns if df_train[var].dtype=='O']\n",
    "print('Terdapat {} categorical variables di data train salju\\n'.format(len(categorical_train)))\n",
    "print('Contohnya adalah :', categorical_train)"
   ]
  },
  {
   "cell_type": "code",
   "execution_count": 20,
   "metadata": {},
   "outputs": [
    {
     "name": "stdout",
     "output_type": "stream",
     "text": [
      "Terdapat 6 categorical variables di data test salju\n",
      "\n",
      "Contohnya adalah : ['KodeLokasi', 'ArahAnginTerkencang', 'ArahAngin9am', 'ArahAngin3pm', 'BersaljuHariIni', 'BersaljuBesok']\n"
     ]
    }
   ],
   "source": [
    "# Melihat data yang bertipe kategorical di data test salju\n",
    "categorical_test = [var for var in df_test.columns if df_test[var].dtype=='O']\n",
    "print('Terdapat {} categorical variables di data test salju\\n'.format(len(categorical_test)))\n",
    "print('Contohnya adalah :', categorical_test)"
   ]
  },
  {
   "cell_type": "markdown",
   "metadata": {},
   "source": [
    "#### Numerical"
   ]
  },
  {
   "cell_type": "code",
   "execution_count": 21,
   "metadata": {},
   "outputs": [
    {
     "name": "stdout",
     "output_type": "stream",
     "text": [
      "Terdapat 18 numerical variables di data train salju\n",
      "\n",
      "Contohnya adalah : ['id', 'Tanggal', 'SuhuMin', 'SuhuMax', 'Hujan', 'Penguapan', 'SinarMatahari', 'KecepatanAnginTerkencang', 'KecepatanAngin9am', 'KecepatanAngin3pm', 'Kelembaban9am', 'Kelembaban3pm', 'Tekanan9am', 'Tekanan3pm', 'Awan9am', 'Awan3pm', 'Suhu9am', 'Suhu3pm']\n"
     ]
    }
   ],
   "source": [
    "# Melihat data yang bertipe numerical di data train salju\n",
    "numerical_train = [var for var in df_train.columns if df_train[var].dtype!='O']\n",
    "print('Terdapat {} numerical variables di data train salju\\n'.format(len(numerical_train)))\n",
    "print('Contohnya adalah :', numerical_train)"
   ]
  },
  {
   "cell_type": "code",
   "execution_count": 22,
   "metadata": {},
   "outputs": [
    {
     "name": "stdout",
     "output_type": "stream",
     "text": [
      "Terdapat 17 numerical variables di data test salju\n",
      "\n",
      "Contohnya adalah : ['Tanggal', 'SuhuMin', 'SuhuMax', 'Hujan', 'Penguapan', 'SinarMatahari', 'KecepatanAnginTerkencang', 'KecepatanAngin9am', 'KecepatanAngin3pm', 'Kelembaban9am', 'Kelembaban3pm', 'Tekanan9am', 'Tekanan3pm', 'Awan9am', 'Awan3pm', 'Suhu9am', 'Suhu3pm']\n"
     ]
    }
   ],
   "source": [
    "# Melihat data yang bertipe numerical di data test salju\n",
    "numerical_test = [var for var in df_test.columns if df_test[var].dtype!='O']\n",
    "print('Terdapat {} numerical variables di data test salju\\n'.format(len(numerical_test)))\n",
    "print('Contohnya adalah :', numerical_test)"
   ]
  },
  {
   "cell_type": "markdown",
   "metadata": {},
   "source": [
    "### Multivariate Analysis"
   ]
  },
  {
   "cell_type": "code",
   "execution_count": 23,
   "metadata": {},
   "outputs": [
    {
     "data": {
      "text/html": [
       "<div>\n",
       "<style scoped>\n",
       "    .dataframe tbody tr th:only-of-type {\n",
       "        vertical-align: middle;\n",
       "    }\n",
       "\n",
       "    .dataframe tbody tr th {\n",
       "        vertical-align: top;\n",
       "    }\n",
       "\n",
       "    .dataframe thead th {\n",
       "        text-align: right;\n",
       "    }\n",
       "</style>\n",
       "<table border=\"1\" class=\"dataframe\">\n",
       "  <thead>\n",
       "    <tr style=\"text-align: right;\">\n",
       "      <th></th>\n",
       "      <th>SuhuMin</th>\n",
       "      <th>SuhuMax</th>\n",
       "      <th>Hujan</th>\n",
       "      <th>Penguapan</th>\n",
       "      <th>SinarMatahari</th>\n",
       "      <th>KecepatanAnginTerkencang</th>\n",
       "      <th>KecepatanAngin9am</th>\n",
       "      <th>KecepatanAngin3pm</th>\n",
       "      <th>Kelembaban9am</th>\n",
       "      <th>Kelembaban3pm</th>\n",
       "      <th>Tekanan9am</th>\n",
       "      <th>Tekanan3pm</th>\n",
       "      <th>Awan9am</th>\n",
       "      <th>Awan3pm</th>\n",
       "      <th>Suhu9am</th>\n",
       "      <th>Suhu3pm</th>\n",
       "    </tr>\n",
       "  </thead>\n",
       "  <tbody>\n",
       "    <tr>\n",
       "      <th>SuhuMin</th>\n",
       "      <td>1.000000</td>\n",
       "      <td>0.735500</td>\n",
       "      <td>0.104391</td>\n",
       "      <td>0.465508</td>\n",
       "      <td>0.072501</td>\n",
       "      <td>0.177627</td>\n",
       "      <td>0.174358</td>\n",
       "      <td>0.174122</td>\n",
       "      <td>-0.232101</td>\n",
       "      <td>0.007974</td>\n",
       "      <td>-0.449684</td>\n",
       "      <td>-0.459596</td>\n",
       "      <td>0.077349</td>\n",
       "      <td>0.021105</td>\n",
       "      <td>0.901208</td>\n",
       "      <td>0.707578</td>\n",
       "    </tr>\n",
       "    <tr>\n",
       "      <th>SuhuMax</th>\n",
       "      <td>0.735500</td>\n",
       "      <td>1.000000</td>\n",
       "      <td>-0.074669</td>\n",
       "      <td>0.585475</td>\n",
       "      <td>0.470991</td>\n",
       "      <td>0.068244</td>\n",
       "      <td>0.013632</td>\n",
       "      <td>0.050793</td>\n",
       "      <td>-0.504014</td>\n",
       "      <td>-0.507921</td>\n",
       "      <td>-0.331431</td>\n",
       "      <td>-0.426012</td>\n",
       "      <td>-0.291573</td>\n",
       "      <td>-0.279039</td>\n",
       "      <td>0.886984</td>\n",
       "      <td>0.984434</td>\n",
       "    </tr>\n",
       "    <tr>\n",
       "      <th>Hujan</th>\n",
       "      <td>0.104391</td>\n",
       "      <td>-0.074669</td>\n",
       "      <td>1.000000</td>\n",
       "      <td>-0.058940</td>\n",
       "      <td>-0.226845</td>\n",
       "      <td>0.135081</td>\n",
       "      <td>0.087157</td>\n",
       "      <td>0.059562</td>\n",
       "      <td>0.223661</td>\n",
       "      <td>0.254898</td>\n",
       "      <td>-0.168638</td>\n",
       "      <td>-0.127506</td>\n",
       "      <td>0.195540</td>\n",
       "      <td>0.170791</td>\n",
       "      <td>0.011781</td>\n",
       "      <td>-0.079160</td>\n",
       "    </tr>\n",
       "    <tr>\n",
       "      <th>Penguapan</th>\n",
       "      <td>0.465508</td>\n",
       "      <td>0.585475</td>\n",
       "      <td>-0.058940</td>\n",
       "      <td>1.000000</td>\n",
       "      <td>0.364745</td>\n",
       "      <td>0.198965</td>\n",
       "      <td>0.188950</td>\n",
       "      <td>0.128217</td>\n",
       "      <td>-0.499698</td>\n",
       "      <td>-0.387161</td>\n",
       "      <td>-0.268648</td>\n",
       "      <td>-0.291740</td>\n",
       "      <td>-0.181615</td>\n",
       "      <td>-0.181563</td>\n",
       "      <td>0.542808</td>\n",
       "      <td>0.570758</td>\n",
       "    </tr>\n",
       "    <tr>\n",
       "      <th>SinarMatahari</th>\n",
       "      <td>0.072501</td>\n",
       "      <td>0.470991</td>\n",
       "      <td>-0.226845</td>\n",
       "      <td>0.364745</td>\n",
       "      <td>1.000000</td>\n",
       "      <td>-0.035040</td>\n",
       "      <td>0.002004</td>\n",
       "      <td>0.051812</td>\n",
       "      <td>-0.489242</td>\n",
       "      <td>-0.627920</td>\n",
       "      <td>0.041321</td>\n",
       "      <td>-0.020052</td>\n",
       "      <td>-0.676965</td>\n",
       "      <td>-0.703482</td>\n",
       "      <td>0.291601</td>\n",
       "      <td>0.490993</td>\n",
       "    </tr>\n",
       "    <tr>\n",
       "      <th>KecepatanAnginTerkencang</th>\n",
       "      <td>0.177627</td>\n",
       "      <td>0.068244</td>\n",
       "      <td>0.135081</td>\n",
       "      <td>0.198965</td>\n",
       "      <td>-0.035040</td>\n",
       "      <td>1.000000</td>\n",
       "      <td>0.604677</td>\n",
       "      <td>0.686629</td>\n",
       "      <td>-0.214062</td>\n",
       "      <td>-0.026049</td>\n",
       "      <td>-0.460665</td>\n",
       "      <td>-0.415953</td>\n",
       "      <td>0.071323</td>\n",
       "      <td>0.105835</td>\n",
       "      <td>0.150043</td>\n",
       "      <td>0.033001</td>\n",
       "    </tr>\n",
       "    <tr>\n",
       "      <th>KecepatanAngin9am</th>\n",
       "      <td>0.174358</td>\n",
       "      <td>0.013632</td>\n",
       "      <td>0.087157</td>\n",
       "      <td>0.188950</td>\n",
       "      <td>0.002004</td>\n",
       "      <td>0.604677</td>\n",
       "      <td>1.000000</td>\n",
       "      <td>0.518093</td>\n",
       "      <td>-0.272566</td>\n",
       "      <td>-0.032366</td>\n",
       "      <td>-0.229197</td>\n",
       "      <td>-0.176461</td>\n",
       "      <td>0.024425</td>\n",
       "      <td>0.051593</td>\n",
       "      <td>0.127675</td>\n",
       "      <td>0.004132</td>\n",
       "    </tr>\n",
       "    <tr>\n",
       "      <th>KecepatanAngin3pm</th>\n",
       "      <td>0.174122</td>\n",
       "      <td>0.050793</td>\n",
       "      <td>0.059562</td>\n",
       "      <td>0.128217</td>\n",
       "      <td>0.051812</td>\n",
       "      <td>0.686629</td>\n",
       "      <td>0.518093</td>\n",
       "      <td>1.000000</td>\n",
       "      <td>-0.144640</td>\n",
       "      <td>0.016263</td>\n",
       "      <td>-0.298189</td>\n",
       "      <td>-0.257869</td>\n",
       "      <td>0.050446</td>\n",
       "      <td>0.023239</td>\n",
       "      <td>0.162047</td>\n",
       "      <td>0.027859</td>\n",
       "    </tr>\n",
       "    <tr>\n",
       "      <th>Kelembaban9am</th>\n",
       "      <td>-0.232101</td>\n",
       "      <td>-0.504014</td>\n",
       "      <td>0.223661</td>\n",
       "      <td>-0.499698</td>\n",
       "      <td>-0.489242</td>\n",
       "      <td>-0.214062</td>\n",
       "      <td>-0.272566</td>\n",
       "      <td>-0.144640</td>\n",
       "      <td>1.000000</td>\n",
       "      <td>0.667101</td>\n",
       "      <td>0.138628</td>\n",
       "      <td>0.185534</td>\n",
       "      <td>0.452897</td>\n",
       "      <td>0.356101</td>\n",
       "      <td>-0.471206</td>\n",
       "      <td>-0.498840</td>\n",
       "    </tr>\n",
       "    <tr>\n",
       "      <th>Kelembaban3pm</th>\n",
       "      <td>0.007974</td>\n",
       "      <td>-0.507921</td>\n",
       "      <td>0.254898</td>\n",
       "      <td>-0.387161</td>\n",
       "      <td>-0.627920</td>\n",
       "      <td>-0.026049</td>\n",
       "      <td>-0.032366</td>\n",
       "      <td>0.016263</td>\n",
       "      <td>0.667101</td>\n",
       "      <td>1.000000</td>\n",
       "      <td>-0.028295</td>\n",
       "      <td>0.050983</td>\n",
       "      <td>0.517553</td>\n",
       "      <td>0.523358</td>\n",
       "      <td>-0.219775</td>\n",
       "      <td>-0.557240</td>\n",
       "    </tr>\n",
       "    <tr>\n",
       "      <th>Tekanan9am</th>\n",
       "      <td>-0.449684</td>\n",
       "      <td>-0.331431</td>\n",
       "      <td>-0.168638</td>\n",
       "      <td>-0.268648</td>\n",
       "      <td>0.041321</td>\n",
       "      <td>-0.460665</td>\n",
       "      <td>-0.229197</td>\n",
       "      <td>-0.298189</td>\n",
       "      <td>0.138628</td>\n",
       "      <td>-0.028295</td>\n",
       "      <td>1.000000</td>\n",
       "      <td>0.961395</td>\n",
       "      <td>-0.128340</td>\n",
       "      <td>-0.145674</td>\n",
       "      <td>-0.421864</td>\n",
       "      <td>-0.285568</td>\n",
       "    </tr>\n",
       "    <tr>\n",
       "      <th>Tekanan3pm</th>\n",
       "      <td>-0.459596</td>\n",
       "      <td>-0.426012</td>\n",
       "      <td>-0.127506</td>\n",
       "      <td>-0.291740</td>\n",
       "      <td>-0.020052</td>\n",
       "      <td>-0.415953</td>\n",
       "      <td>-0.176461</td>\n",
       "      <td>-0.257869</td>\n",
       "      <td>0.185534</td>\n",
       "      <td>0.050983</td>\n",
       "      <td>0.961395</td>\n",
       "      <td>1.000000</td>\n",
       "      <td>-0.060072</td>\n",
       "      <td>-0.083186</td>\n",
       "      <td>-0.469039</td>\n",
       "      <td>-0.387910</td>\n",
       "    </tr>\n",
       "    <tr>\n",
       "      <th>Awan9am</th>\n",
       "      <td>0.077349</td>\n",
       "      <td>-0.291573</td>\n",
       "      <td>0.195540</td>\n",
       "      <td>-0.181615</td>\n",
       "      <td>-0.676965</td>\n",
       "      <td>0.071323</td>\n",
       "      <td>0.024425</td>\n",
       "      <td>0.050446</td>\n",
       "      <td>0.452897</td>\n",
       "      <td>0.517553</td>\n",
       "      <td>-0.128340</td>\n",
       "      <td>-0.060072</td>\n",
       "      <td>1.000000</td>\n",
       "      <td>0.602034</td>\n",
       "      <td>-0.138669</td>\n",
       "      <td>-0.304298</td>\n",
       "    </tr>\n",
       "    <tr>\n",
       "      <th>Awan3pm</th>\n",
       "      <td>0.021105</td>\n",
       "      <td>-0.279039</td>\n",
       "      <td>0.170791</td>\n",
       "      <td>-0.181563</td>\n",
       "      <td>-0.703482</td>\n",
       "      <td>0.105835</td>\n",
       "      <td>0.051593</td>\n",
       "      <td>0.023239</td>\n",
       "      <td>0.356101</td>\n",
       "      <td>0.523358</td>\n",
       "      <td>-0.145674</td>\n",
       "      <td>-0.083186</td>\n",
       "      <td>0.602034</td>\n",
       "      <td>1.000000</td>\n",
       "      <td>-0.126781</td>\n",
       "      <td>-0.318489</td>\n",
       "    </tr>\n",
       "    <tr>\n",
       "      <th>Suhu9am</th>\n",
       "      <td>0.901208</td>\n",
       "      <td>0.886984</td>\n",
       "      <td>0.011781</td>\n",
       "      <td>0.542808</td>\n",
       "      <td>0.291601</td>\n",
       "      <td>0.150043</td>\n",
       "      <td>0.127675</td>\n",
       "      <td>0.162047</td>\n",
       "      <td>-0.471206</td>\n",
       "      <td>-0.219775</td>\n",
       "      <td>-0.421864</td>\n",
       "      <td>-0.469039</td>\n",
       "      <td>-0.138669</td>\n",
       "      <td>-0.126781</td>\n",
       "      <td>1.000000</td>\n",
       "      <td>0.860194</td>\n",
       "    </tr>\n",
       "    <tr>\n",
       "      <th>Suhu3pm</th>\n",
       "      <td>0.707578</td>\n",
       "      <td>0.984434</td>\n",
       "      <td>-0.079160</td>\n",
       "      <td>0.570758</td>\n",
       "      <td>0.490993</td>\n",
       "      <td>0.033001</td>\n",
       "      <td>0.004132</td>\n",
       "      <td>0.027859</td>\n",
       "      <td>-0.498840</td>\n",
       "      <td>-0.557240</td>\n",
       "      <td>-0.285568</td>\n",
       "      <td>-0.387910</td>\n",
       "      <td>-0.304298</td>\n",
       "      <td>-0.318489</td>\n",
       "      <td>0.860194</td>\n",
       "      <td>1.000000</td>\n",
       "    </tr>\n",
       "  </tbody>\n",
       "</table>\n",
       "</div>"
      ],
      "text/plain": [
       "                           SuhuMin   SuhuMax     Hujan  Penguapan  \\\n",
       "SuhuMin                   1.000000  0.735500  0.104391   0.465508   \n",
       "SuhuMax                   0.735500  1.000000 -0.074669   0.585475   \n",
       "Hujan                     0.104391 -0.074669  1.000000  -0.058940   \n",
       "Penguapan                 0.465508  0.585475 -0.058940   1.000000   \n",
       "SinarMatahari             0.072501  0.470991 -0.226845   0.364745   \n",
       "KecepatanAnginTerkencang  0.177627  0.068244  0.135081   0.198965   \n",
       "KecepatanAngin9am         0.174358  0.013632  0.087157   0.188950   \n",
       "KecepatanAngin3pm         0.174122  0.050793  0.059562   0.128217   \n",
       "Kelembaban9am            -0.232101 -0.504014  0.223661  -0.499698   \n",
       "Kelembaban3pm             0.007974 -0.507921  0.254898  -0.387161   \n",
       "Tekanan9am               -0.449684 -0.331431 -0.168638  -0.268648   \n",
       "Tekanan3pm               -0.459596 -0.426012 -0.127506  -0.291740   \n",
       "Awan9am                   0.077349 -0.291573  0.195540  -0.181615   \n",
       "Awan3pm                   0.021105 -0.279039  0.170791  -0.181563   \n",
       "Suhu9am                   0.901208  0.886984  0.011781   0.542808   \n",
       "Suhu3pm                   0.707578  0.984434 -0.079160   0.570758   \n",
       "\n",
       "                          SinarMatahari  KecepatanAnginTerkencang  \\\n",
       "SuhuMin                        0.072501                  0.177627   \n",
       "SuhuMax                        0.470991                  0.068244   \n",
       "Hujan                         -0.226845                  0.135081   \n",
       "Penguapan                      0.364745                  0.198965   \n",
       "SinarMatahari                  1.000000                 -0.035040   \n",
       "KecepatanAnginTerkencang      -0.035040                  1.000000   \n",
       "KecepatanAngin9am              0.002004                  0.604677   \n",
       "KecepatanAngin3pm              0.051812                  0.686629   \n",
       "Kelembaban9am                 -0.489242                 -0.214062   \n",
       "Kelembaban3pm                 -0.627920                 -0.026049   \n",
       "Tekanan9am                     0.041321                 -0.460665   \n",
       "Tekanan3pm                    -0.020052                 -0.415953   \n",
       "Awan9am                       -0.676965                  0.071323   \n",
       "Awan3pm                       -0.703482                  0.105835   \n",
       "Suhu9am                        0.291601                  0.150043   \n",
       "Suhu3pm                        0.490993                  0.033001   \n",
       "\n",
       "                          KecepatanAngin9am  KecepatanAngin3pm  Kelembaban9am  \\\n",
       "SuhuMin                            0.174358           0.174122      -0.232101   \n",
       "SuhuMax                            0.013632           0.050793      -0.504014   \n",
       "Hujan                              0.087157           0.059562       0.223661   \n",
       "Penguapan                          0.188950           0.128217      -0.499698   \n",
       "SinarMatahari                      0.002004           0.051812      -0.489242   \n",
       "KecepatanAnginTerkencang           0.604677           0.686629      -0.214062   \n",
       "KecepatanAngin9am                  1.000000           0.518093      -0.272566   \n",
       "KecepatanAngin3pm                  0.518093           1.000000      -0.144640   \n",
       "Kelembaban9am                     -0.272566          -0.144640       1.000000   \n",
       "Kelembaban3pm                     -0.032366           0.016263       0.667101   \n",
       "Tekanan9am                        -0.229197          -0.298189       0.138628   \n",
       "Tekanan3pm                        -0.176461          -0.257869       0.185534   \n",
       "Awan9am                            0.024425           0.050446       0.452897   \n",
       "Awan3pm                            0.051593           0.023239       0.356101   \n",
       "Suhu9am                            0.127675           0.162047      -0.471206   \n",
       "Suhu3pm                            0.004132           0.027859      -0.498840   \n",
       "\n",
       "                          Kelembaban3pm  Tekanan9am  Tekanan3pm   Awan9am  \\\n",
       "SuhuMin                        0.007974   -0.449684   -0.459596  0.077349   \n",
       "SuhuMax                       -0.507921   -0.331431   -0.426012 -0.291573   \n",
       "Hujan                          0.254898   -0.168638   -0.127506  0.195540   \n",
       "Penguapan                     -0.387161   -0.268648   -0.291740 -0.181615   \n",
       "SinarMatahari                 -0.627920    0.041321   -0.020052 -0.676965   \n",
       "KecepatanAnginTerkencang      -0.026049   -0.460665   -0.415953  0.071323   \n",
       "KecepatanAngin9am             -0.032366   -0.229197   -0.176461  0.024425   \n",
       "KecepatanAngin3pm              0.016263   -0.298189   -0.257869  0.050446   \n",
       "Kelembaban9am                  0.667101    0.138628    0.185534  0.452897   \n",
       "Kelembaban3pm                  1.000000   -0.028295    0.050983  0.517553   \n",
       "Tekanan9am                    -0.028295    1.000000    0.961395 -0.128340   \n",
       "Tekanan3pm                     0.050983    0.961395    1.000000 -0.060072   \n",
       "Awan9am                        0.517553   -0.128340   -0.060072  1.000000   \n",
       "Awan3pm                        0.523358   -0.145674   -0.083186  0.602034   \n",
       "Suhu9am                       -0.219775   -0.421864   -0.469039 -0.138669   \n",
       "Suhu3pm                       -0.557240   -0.285568   -0.387910 -0.304298   \n",
       "\n",
       "                           Awan3pm   Suhu9am   Suhu3pm  \n",
       "SuhuMin                   0.021105  0.901208  0.707578  \n",
       "SuhuMax                  -0.279039  0.886984  0.984434  \n",
       "Hujan                     0.170791  0.011781 -0.079160  \n",
       "Penguapan                -0.181563  0.542808  0.570758  \n",
       "SinarMatahari            -0.703482  0.291601  0.490993  \n",
       "KecepatanAnginTerkencang  0.105835  0.150043  0.033001  \n",
       "KecepatanAngin9am         0.051593  0.127675  0.004132  \n",
       "KecepatanAngin3pm         0.023239  0.162047  0.027859  \n",
       "Kelembaban9am             0.356101 -0.471206 -0.498840  \n",
       "Kelembaban3pm             0.523358 -0.219775 -0.557240  \n",
       "Tekanan9am               -0.145674 -0.421864 -0.285568  \n",
       "Tekanan3pm               -0.083186 -0.469039 -0.387910  \n",
       "Awan9am                   0.602034 -0.138669 -0.304298  \n",
       "Awan3pm                   1.000000 -0.126781 -0.318489  \n",
       "Suhu9am                  -0.126781  1.000000  0.860194  \n",
       "Suhu3pm                  -0.318489  0.860194  1.000000  "
      ]
     },
     "execution_count": 23,
     "metadata": {},
     "output_type": "execute_result"
    }
   ],
   "source": [
    "korelasi = df_train.select_dtypes(include = ['float64']).iloc[:, :].corr()\n",
    "korelasi"
   ]
  },
  {
   "cell_type": "code",
   "execution_count": 24,
   "metadata": {},
   "outputs": [
    {
     "data": {
      "image/png": "[encoded data removed]",
      "text/plain": [
       "<Figure size 1080x1080 with 2 Axes>"
      ]
     },
     "metadata": {},
     "output_type": "display_data"
    }
   ],
   "source": [
    "# Visualisasi korelasi\n",
    "plt.figure(figsize=(15, 15))\n",
    "sns.heatmap(korelasi, vmax=1, square=True, fmt='.1g', annot=True)\n",
    "plt.show()"
   ]
  },
  {
   "cell_type": "markdown",
   "metadata": {},
   "source": [
    "## Preprocessing\n",
    "1. Handling Class Imbalance"
   ]
  },
  {
   "cell_type": "markdown",
   "metadata": {},
   "source": [
    "### Handling Class Imbalance"
   ]
  },
  {
   "cell_type": "code",
   "execution_count": 25,
   "metadata": {},
   "outputs": [],
   "source": [
    "df_train['BersaljuHariIni'].replace({'Tidak': 0, 'Ya': 1},inplace = True)\n",
    "df_train['BersaljuBesok'].replace({'Tidak': 0, 'Ya': 1},inplace = True)"
   ]
  },
  {
   "cell_type": "markdown",
   "metadata": {},
   "source": [
    "Convert 'Ya' dan 'Tidak' ke binary 1/0."
   ]
  },
  {
   "cell_type": "code",
   "execution_count": 26,
   "metadata": {},
   "outputs": [],
   "source": [
    "from sklearn.utils import resample\n",
    "\n",
    "tidak = df_train[df_train.BersaljuBesok == 0]\n",
    "ya = df_train[df_train.BersaljuBesok == 1]\n",
    "ya_oversampled = resample(ya, replace=True, n_samples=len(tidak), random_state=123)\n",
    "oversampled = pd.concat([tidak, ya_oversampled])"
   ]
  },
  {
   "cell_type": "code",
   "execution_count": 27,
   "metadata": {},
   "outputs": [
    {
     "data": {
      "image/png": "[encoded data removed]",
      "text/plain": [
       "<Figure size 576x360 with 1 Axes>"
      ]
     },
     "metadata": {},
     "output_type": "display_data"
    }
   ],
   "source": [
    "fig = plt.figure(figsize = (8,5))\n",
    "df_train.BersaljuBesok.value_counts(normalize = True).plot(kind='bar', color= ['skyblue','navy'], alpha = 0.9, rot=0)\n",
    "plt.title('BersaljuBesok Sebelum Oversampling (Imbalanced Dataset)')\n",
    "plt.show()"
   ]
  },
  {
   "cell_type": "code",
   "execution_count": 28,
   "metadata": {},
   "outputs": [
    {
     "data": {
      "image/png": "[encoded data removed]",
      "text/plain": [
       "<Figure size 576x360 with 1 Axes>"
      ]
     },
     "metadata": {},
     "output_type": "display_data"
    }
   ],
   "source": [
    "fig = plt.figure(figsize = (8,5))\n",
    "oversampled.BersaljuBesok.value_counts(normalize = True).plot(kind='bar', color= ['skyblue','navy'], alpha = 0.9, rot=0)\n",
    "plt.title('BersaljuBesok Setelah Oversampling (Balanced Dataset)')\n",
    "plt.show()"
   ]
  },
  {
   "cell_type": "code",
   "execution_count": 29,
   "metadata": {},
   "outputs": [],
   "source": [
    "oversampled.reset_index(drop=True, inplace=True)"
   ]
  },
  {
   "cell_type": "markdown",
   "metadata": {},
   "source": [
    "### Convert Tahun"
   ]
  },
  {
   "cell_type": "code",
   "execution_count": 30,
   "metadata": {},
   "outputs": [
    {
     "data": {
      "text/plain": [
       "0    2014\n",
       "1    2014\n",
       "2    2011\n",
       "3    2012\n",
       "4    2016\n",
       "Name: Tahun, dtype: int64"
      ]
     },
     "execution_count": 30,
     "metadata": {},
     "output_type": "execute_result"
    }
   ],
   "source": [
    "# Convert tanggal menjadi satuan tahun di data train salju\n",
    "df_train['Tahun'] = df_train['Tanggal'].dt.year\n",
    "df_train['Tahun'].head()"
   ]
  },
  {
   "cell_type": "code",
   "execution_count": 31,
   "metadata": {},
   "outputs": [
    {
     "data": {
      "text/plain": [
       "0    2010\n",
       "1    2015\n",
       "2    2016\n",
       "3    2011\n",
       "4    2017\n",
       "Name: Tahun, dtype: int64"
      ]
     },
     "execution_count": 31,
     "metadata": {},
     "output_type": "execute_result"
    }
   ],
   "source": [
    "# Convert tanggal menjadi satuan tahun di data test salju\n",
    "df_test['Tahun'] = df_test['Tanggal'].dt.year\n",
    "df_test['Tahun'].head()"
   ]
  },
  {
   "cell_type": "markdown",
   "metadata": {},
   "source": [
    "### Convert Bulan"
   ]
  },
  {
   "cell_type": "code",
   "execution_count": 32,
   "metadata": {},
   "outputs": [
    {
     "data": {
      "text/plain": [
       "0     1\n",
       "1     7\n",
       "2     2\n",
       "3     8\n",
       "4    10\n",
       "Name: Bulan, dtype: int64"
      ]
     },
     "execution_count": 32,
     "metadata": {},
     "output_type": "execute_result"
    }
   ],
   "source": [
    "# Convert tanggal menjadi satuan bulan di data train salju\n",
    "df_train['Bulan'] = df_train['Tanggal'].dt.month\n",
    "df_train['Bulan'].head()"
   ]
  },
  {
   "cell_type": "code",
   "execution_count": 33,
   "metadata": {},
   "outputs": [
    {
     "data": {
      "text/plain": [
       "0    4\n",
       "1    3\n",
       "2    3\n",
       "3    9\n",
       "4    5\n",
       "Name: Bulan, dtype: int64"
      ]
     },
     "execution_count": 33,
     "metadata": {},
     "output_type": "execute_result"
    }
   ],
   "source": [
    "# Convert tanggal menjadi satuan bulan di data test salju\n",
    "df_test['Bulan'] = df_test['Tanggal'].dt.month\n",
    "df_test['Bulan'].head()"
   ]
  },
  {
   "cell_type": "markdown",
   "metadata": {},
   "source": [
    "### Convert Hari"
   ]
  },
  {
   "cell_type": "code",
   "execution_count": 34,
   "metadata": {},
   "outputs": [
    {
     "data": {
      "text/plain": [
       "0     6\n",
       "1    15\n",
       "2    16\n",
       "3     8\n",
       "4    29\n",
       "Name: Hari, dtype: int64"
      ]
     },
     "execution_count": 34,
     "metadata": {},
     "output_type": "execute_result"
    }
   ],
   "source": [
    "# Convert tanggal menjadi satuan hari di data train salju\n",
    "df_train['Hari'] = df_train['Tanggal'].dt.day\n",
    "df_train['Hari'].head()"
   ]
  },
  {
   "cell_type": "code",
   "execution_count": 35,
   "metadata": {},
   "outputs": [
    {
     "data": {
      "text/plain": [
       "0    11\n",
       "1    26\n",
       "2    22\n",
       "3    12\n",
       "4    20\n",
       "Name: Hari, dtype: int64"
      ]
     },
     "execution_count": 35,
     "metadata": {},
     "output_type": "execute_result"
    }
   ],
   "source": [
    "# Convert tanggal menjadi satuan hari di data train salju\n",
    "df_test['Hari'] = df_test['Tanggal'].dt.day\n",
    "df_test['Hari'].head()"
   ]
  },
  {
   "cell_type": "markdown",
   "metadata": {},
   "source": [
    "### Drop Kolom"
   ]
  },
  {
   "cell_type": "code",
   "execution_count": 38,
   "metadata": {},
   "outputs": [],
   "source": [
    "# Drop kolom dari data train dan data test\n",
    "df_train.drop(['id', 'Tanggal'], axis=1, inplace = True)\n",
    "df_test.drop(['Tanggal'], axis=1, inplace = True)"
   ]
  },
  {
   "cell_type": "code",
   "execution_count": null,
   "metadata": {},
   "outputs": [],
   "source": []
  }
 ],
 "metadata": {
  "kernelspec": {
   "display_name": "Python 3",
   "language": "python",
   "name": "python3"
  },
  "language_info": {
   "codemirror_mode": {
    "name": "ipython",
    "version": 3
   },
   "file_extension": ".py",
   "mimetype": "text/x-python",
   "name": "python",
   "nbconvert_exporter": "python",
   "pygments_lexer": "ipython3",
   "version": "3.8.2"
  }
 },
 "nbformat": 4,
 "nbformat_minor": 4
}
