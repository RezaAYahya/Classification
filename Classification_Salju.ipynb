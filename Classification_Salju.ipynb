{
 "cells": [
  {
   "cell_type": "markdown",
   "metadata": {},
   "source": [
    "# Tugas Besar Machine Learning (Tahap 2)\n",
    "---\n",
    "1. Nama : Izzan Faikar Ramadhy\n",
    "<br>NIM : 1301184216\n",
    "<br>Kelas : IF-42-12\n",
    "\n",
    "2. Nama : Reza Ahmad Yahya\n",
    "<br>NIM : 1301184403\n",
    "<br>Kelas : IF-42-12"
   ]
  },
  {
   "cell_type": "markdown",
   "metadata": {},
   "source": [
    "## Import Library"
   ]
  },
  {
   "cell_type": "code",
   "execution_count": 2,
   "metadata": {},
   "outputs": [],
   "source": [
    "import pandas as pd\n",
    "import numpy as np\n",
    "import seaborn as sns\n",
    "import matplotlib.pyplot as plt\n",
    "import matplotlib as mpl\n",
    "from tqdm import tqdm\n",
    "import io\n",
    "import requests\n",
    "from sklearn.preprocessing import LabelEncoder\n",
    "\n",
    "%matplotlib inline\n",
    "%config IPCompleter.greedy=True\n",
    "\n",
    "mpl.style.use(['ggplot']) "
   ]
  },
  {
   "cell_type": "markdown",
   "metadata": {},
   "source": [
    "## Load Data"
   ]
  },
  {
   "cell_type": "code",
   "execution_count": 3,
   "metadata": {},
   "outputs": [
    {
     "data": {
      "text/html": [
       "<div>\n",
       "<style scoped>\n",
       "    .dataframe tbody tr th:only-of-type {\n",
       "        vertical-align: middle;\n",
       "    }\n",
       "\n",
       "    .dataframe tbody tr th {\n",
       "        vertical-align: top;\n",
       "    }\n",
       "\n",
       "    .dataframe thead th {\n",
       "        text-align: right;\n",
       "    }\n",
       "</style>\n",
       "<table border=\"1\" class=\"dataframe\">\n",
       "  <thead>\n",
       "    <tr style=\"text-align: right;\">\n",
       "      <th></th>\n",
       "      <th>id</th>\n",
       "      <th>Tanggal</th>\n",
       "      <th>KodeLokasi</th>\n",
       "      <th>SuhuMin</th>\n",
       "      <th>SuhuMax</th>\n",
       "      <th>Hujan</th>\n",
       "      <th>Penguapan</th>\n",
       "      <th>SinarMatahari</th>\n",
       "      <th>ArahAnginTerkencang</th>\n",
       "      <th>KecepatanAnginTerkencang</th>\n",
       "      <th>...</th>\n",
       "      <th>Kelembaban9am</th>\n",
       "      <th>Kelembaban3pm</th>\n",
       "      <th>Tekanan9am</th>\n",
       "      <th>Tekanan3pm</th>\n",
       "      <th>Awan9am</th>\n",
       "      <th>Awan3pm</th>\n",
       "      <th>Suhu9am</th>\n",
       "      <th>Suhu3pm</th>\n",
       "      <th>BersaljuHariIni</th>\n",
       "      <th>BersaljuBesok</th>\n",
       "    </tr>\n",
       "  </thead>\n",
       "  <tbody>\n",
       "    <tr>\n",
       "      <th>0</th>\n",
       "      <td>1</td>\n",
       "      <td>01/06/2014</td>\n",
       "      <td>C4</td>\n",
       "      <td>10.4</td>\n",
       "      <td>15.5</td>\n",
       "      <td>4.8</td>\n",
       "      <td>NaN</td>\n",
       "      <td>NaN</td>\n",
       "      <td>WSW</td>\n",
       "      <td>24.0</td>\n",
       "      <td>...</td>\n",
       "      <td>78.0</td>\n",
       "      <td>76.0</td>\n",
       "      <td>1020.1</td>\n",
       "      <td>1018.5</td>\n",
       "      <td>NaN</td>\n",
       "      <td>NaN</td>\n",
       "      <td>13.1</td>\n",
       "      <td>15.0</td>\n",
       "      <td>Ya</td>\n",
       "      <td>Tidak</td>\n",
       "    </tr>\n",
       "    <tr>\n",
       "      <th>1</th>\n",
       "      <td>2</td>\n",
       "      <td>15/07/2014</td>\n",
       "      <td>C10</td>\n",
       "      <td>9.0</td>\n",
       "      <td>17.0</td>\n",
       "      <td>8.0</td>\n",
       "      <td>2.6</td>\n",
       "      <td>7.4</td>\n",
       "      <td>NaN</td>\n",
       "      <td>NaN</td>\n",
       "      <td>...</td>\n",
       "      <td>80.0</td>\n",
       "      <td>61.0</td>\n",
       "      <td>1015.2</td>\n",
       "      <td>1014.6</td>\n",
       "      <td>7.0</td>\n",
       "      <td>5.0</td>\n",
       "      <td>11.9</td>\n",
       "      <td>15.5</td>\n",
       "      <td>Ya</td>\n",
       "      <td>Ya</td>\n",
       "    </tr>\n",
       "    <tr>\n",
       "      <th>2</th>\n",
       "      <td>3</td>\n",
       "      <td>16/02/2011</td>\n",
       "      <td>C46</td>\n",
       "      <td>18.2</td>\n",
       "      <td>32.0</td>\n",
       "      <td>0.0</td>\n",
       "      <td>NaN</td>\n",
       "      <td>NaN</td>\n",
       "      <td>ESE</td>\n",
       "      <td>44.0</td>\n",
       "      <td>...</td>\n",
       "      <td>62.0</td>\n",
       "      <td>42.0</td>\n",
       "      <td>NaN</td>\n",
       "      <td>NaN</td>\n",
       "      <td>NaN</td>\n",
       "      <td>NaN</td>\n",
       "      <td>23.8</td>\n",
       "      <td>29.6</td>\n",
       "      <td>Tidak</td>\n",
       "      <td>Tidak</td>\n",
       "    </tr>\n",
       "    <tr>\n",
       "      <th>3</th>\n",
       "      <td>4</td>\n",
       "      <td>08/08/2012</td>\n",
       "      <td>C36</td>\n",
       "      <td>7.3</td>\n",
       "      <td>24.5</td>\n",
       "      <td>0.0</td>\n",
       "      <td>8.4</td>\n",
       "      <td>10.4</td>\n",
       "      <td>SSW</td>\n",
       "      <td>54.0</td>\n",
       "      <td>...</td>\n",
       "      <td>25.0</td>\n",
       "      <td>17.0</td>\n",
       "      <td>1019.2</td>\n",
       "      <td>1016.9</td>\n",
       "      <td>1.0</td>\n",
       "      <td>7.0</td>\n",
       "      <td>15.3</td>\n",
       "      <td>23.2</td>\n",
       "      <td>Tidak</td>\n",
       "      <td>Tidak</td>\n",
       "    </tr>\n",
       "    <tr>\n",
       "      <th>4</th>\n",
       "      <td>5</td>\n",
       "      <td>29/10/2016</td>\n",
       "      <td>C7</td>\n",
       "      <td>5.9</td>\n",
       "      <td>20.3</td>\n",
       "      <td>0.0</td>\n",
       "      <td>3.6</td>\n",
       "      <td>12.6</td>\n",
       "      <td>N</td>\n",
       "      <td>37.0</td>\n",
       "      <td>...</td>\n",
       "      <td>55.0</td>\n",
       "      <td>48.0</td>\n",
       "      <td>1019.7</td>\n",
       "      <td>1014.7</td>\n",
       "      <td>2.0</td>\n",
       "      <td>6.0</td>\n",
       "      <td>12.4</td>\n",
       "      <td>18.1</td>\n",
       "      <td>Tidak</td>\n",
       "      <td>Tidak</td>\n",
       "    </tr>\n",
       "  </tbody>\n",
       "</table>\n",
       "<p>5 rows × 24 columns</p>\n",
       "</div>"
      ],
      "text/plain": [
       "   id     Tanggal KodeLokasi  SuhuMin  SuhuMax  Hujan  Penguapan  \\\n",
       "0   1  01/06/2014         C4     10.4     15.5    4.8        NaN   \n",
       "1   2  15/07/2014        C10      9.0     17.0    8.0        2.6   \n",
       "2   3  16/02/2011        C46     18.2     32.0    0.0        NaN   \n",
       "3   4  08/08/2012        C36      7.3     24.5    0.0        8.4   \n",
       "4   5  29/10/2016         C7      5.9     20.3    0.0        3.6   \n",
       "\n",
       "   SinarMatahari ArahAnginTerkencang  KecepatanAnginTerkencang  ...  \\\n",
       "0            NaN                 WSW                      24.0  ...   \n",
       "1            7.4                 NaN                       NaN  ...   \n",
       "2            NaN                 ESE                      44.0  ...   \n",
       "3           10.4                 SSW                      54.0  ...   \n",
       "4           12.6                   N                      37.0  ...   \n",
       "\n",
       "  Kelembaban9am Kelembaban3pm  Tekanan9am  Tekanan3pm  Awan9am  Awan3pm  \\\n",
       "0          78.0          76.0      1020.1      1018.5      NaN      NaN   \n",
       "1          80.0          61.0      1015.2      1014.6      7.0      5.0   \n",
       "2          62.0          42.0         NaN         NaN      NaN      NaN   \n",
       "3          25.0          17.0      1019.2      1016.9      1.0      7.0   \n",
       "4          55.0          48.0      1019.7      1014.7      2.0      6.0   \n",
       "\n",
       "   Suhu9am  Suhu3pm  BersaljuHariIni  BersaljuBesok  \n",
       "0     13.1     15.0               Ya          Tidak  \n",
       "1     11.9     15.5               Ya             Ya  \n",
       "2     23.8     29.6            Tidak          Tidak  \n",
       "3     15.3     23.2            Tidak          Tidak  \n",
       "4     12.4     18.1            Tidak          Tidak  \n",
       "\n",
       "[5 rows x 24 columns]"
      ]
     },
     "execution_count": 3,
     "metadata": {},
     "output_type": "execute_result"
    }
   ],
   "source": [
    "# Load data training salju\n",
    "url = \"https://raw.githubusercontent.com/RezaAYahya/Classification/main/salju_train.csv\"\n",
    "download = requests.get(url).content\n",
    "\n",
    "df_train = pd.read_csv(io.StringIO(download.decode('utf-8')))\n",
    "df_train.head()"
   ]
  },
  {
   "cell_type": "code",
   "execution_count": 4,
   "metadata": {},
   "outputs": [
    {
     "data": {
      "text/html": [
       "<div>\n",
       "<style scoped>\n",
       "    .dataframe tbody tr th:only-of-type {\n",
       "        vertical-align: middle;\n",
       "    }\n",
       "\n",
       "    .dataframe tbody tr th {\n",
       "        vertical-align: top;\n",
       "    }\n",
       "\n",
       "    .dataframe thead th {\n",
       "        text-align: right;\n",
       "    }\n",
       "</style>\n",
       "<table border=\"1\" class=\"dataframe\">\n",
       "  <thead>\n",
       "    <tr style=\"text-align: right;\">\n",
       "      <th></th>\n",
       "      <th>Tanggal</th>\n",
       "      <th>KodeLokasi</th>\n",
       "      <th>SuhuMin</th>\n",
       "      <th>SuhuMax</th>\n",
       "      <th>Hujan</th>\n",
       "      <th>Penguapan</th>\n",
       "      <th>SinarMatahari</th>\n",
       "      <th>ArahAnginTerkencang</th>\n",
       "      <th>KecepatanAnginTerkencang</th>\n",
       "      <th>ArahAngin9am</th>\n",
       "      <th>...</th>\n",
       "      <th>Kelembaban9am</th>\n",
       "      <th>Kelembaban3pm</th>\n",
       "      <th>Tekanan9am</th>\n",
       "      <th>Tekanan3pm</th>\n",
       "      <th>Awan9am</th>\n",
       "      <th>Awan3pm</th>\n",
       "      <th>Suhu9am</th>\n",
       "      <th>Suhu3pm</th>\n",
       "      <th>BersaljuHariIni</th>\n",
       "      <th>BersaljuBesok</th>\n",
       "    </tr>\n",
       "  </thead>\n",
       "  <tbody>\n",
       "    <tr>\n",
       "      <th>0</th>\n",
       "      <td>04/11/2010</td>\n",
       "      <td>C39</td>\n",
       "      <td>11.0</td>\n",
       "      <td>27.5</td>\n",
       "      <td>0.0</td>\n",
       "      <td>NaN</td>\n",
       "      <td>6.4</td>\n",
       "      <td>WSW</td>\n",
       "      <td>46.0</td>\n",
       "      <td>W</td>\n",
       "      <td>...</td>\n",
       "      <td>39.0</td>\n",
       "      <td>56.0</td>\n",
       "      <td>1013.0</td>\n",
       "      <td>1012.4</td>\n",
       "      <td>4.0</td>\n",
       "      <td>7.0</td>\n",
       "      <td>25.7</td>\n",
       "      <td>23.6</td>\n",
       "      <td>No</td>\n",
       "      <td>No</td>\n",
       "    </tr>\n",
       "    <tr>\n",
       "      <th>1</th>\n",
       "      <td>26/03/2015</td>\n",
       "      <td>C35</td>\n",
       "      <td>10.0</td>\n",
       "      <td>19.9</td>\n",
       "      <td>0.2</td>\n",
       "      <td>NaN</td>\n",
       "      <td>NaN</td>\n",
       "      <td>WNW</td>\n",
       "      <td>56.0</td>\n",
       "      <td>W</td>\n",
       "      <td>...</td>\n",
       "      <td>76.0</td>\n",
       "      <td>32.0</td>\n",
       "      <td>1017.0</td>\n",
       "      <td>1015.2</td>\n",
       "      <td>8.0</td>\n",
       "      <td>1.0</td>\n",
       "      <td>10.7</td>\n",
       "      <td>18.9</td>\n",
       "      <td>No</td>\n",
       "      <td>Yes</td>\n",
       "    </tr>\n",
       "    <tr>\n",
       "      <th>2</th>\n",
       "      <td>22/03/2016</td>\n",
       "      <td>C18</td>\n",
       "      <td>9.2</td>\n",
       "      <td>27.2</td>\n",
       "      <td>0.0</td>\n",
       "      <td>5.2</td>\n",
       "      <td>10.4</td>\n",
       "      <td>SSW</td>\n",
       "      <td>33.0</td>\n",
       "      <td>NE</td>\n",
       "      <td>...</td>\n",
       "      <td>89.0</td>\n",
       "      <td>27.0</td>\n",
       "      <td>1018.6</td>\n",
       "      <td>1015.7</td>\n",
       "      <td>0.0</td>\n",
       "      <td>1.0</td>\n",
       "      <td>13.9</td>\n",
       "      <td>26.3</td>\n",
       "      <td>No</td>\n",
       "      <td>No</td>\n",
       "    </tr>\n",
       "    <tr>\n",
       "      <th>3</th>\n",
       "      <td>09/12/2011</td>\n",
       "      <td>C31</td>\n",
       "      <td>17.7</td>\n",
       "      <td>27.0</td>\n",
       "      <td>0.0</td>\n",
       "      <td>4.6</td>\n",
       "      <td>6.7</td>\n",
       "      <td>SW</td>\n",
       "      <td>35.0</td>\n",
       "      <td>E</td>\n",
       "      <td>...</td>\n",
       "      <td>55.0</td>\n",
       "      <td>41.0</td>\n",
       "      <td>1010.2</td>\n",
       "      <td>1008.6</td>\n",
       "      <td>7.0</td>\n",
       "      <td>6.0</td>\n",
       "      <td>22.3</td>\n",
       "      <td>26.4</td>\n",
       "      <td>No</td>\n",
       "      <td>No</td>\n",
       "    </tr>\n",
       "    <tr>\n",
       "      <th>4</th>\n",
       "      <td>20/05/2017</td>\n",
       "      <td>C14</td>\n",
       "      <td>2.3</td>\n",
       "      <td>7.9</td>\n",
       "      <td>88.0</td>\n",
       "      <td>NaN</td>\n",
       "      <td>NaN</td>\n",
       "      <td>NW</td>\n",
       "      <td>46.0</td>\n",
       "      <td>W</td>\n",
       "      <td>...</td>\n",
       "      <td>98.0</td>\n",
       "      <td>95.0</td>\n",
       "      <td>NaN</td>\n",
       "      <td>NaN</td>\n",
       "      <td>NaN</td>\n",
       "      <td>NaN</td>\n",
       "      <td>4.4</td>\n",
       "      <td>6.0</td>\n",
       "      <td>Yes</td>\n",
       "      <td>No</td>\n",
       "    </tr>\n",
       "  </tbody>\n",
       "</table>\n",
       "<p>5 rows × 23 columns</p>\n",
       "</div>"
      ],
      "text/plain": [
       "      Tanggal KodeLokasi  SuhuMin  SuhuMax  Hujan  Penguapan  SinarMatahari  \\\n",
       "0  04/11/2010        C39     11.0     27.5    0.0        NaN            6.4   \n",
       "1  26/03/2015        C35     10.0     19.9    0.2        NaN            NaN   \n",
       "2  22/03/2016        C18      9.2     27.2    0.0        5.2           10.4   \n",
       "3  09/12/2011        C31     17.7     27.0    0.0        4.6            6.7   \n",
       "4  20/05/2017        C14      2.3      7.9   88.0        NaN            NaN   \n",
       "\n",
       "  ArahAnginTerkencang  KecepatanAnginTerkencang ArahAngin9am  ...  \\\n",
       "0                 WSW                      46.0            W  ...   \n",
       "1                 WNW                      56.0            W  ...   \n",
       "2                 SSW                      33.0           NE  ...   \n",
       "3                  SW                      35.0            E  ...   \n",
       "4                  NW                      46.0            W  ...   \n",
       "\n",
       "  Kelembaban9am  Kelembaban3pm  Tekanan9am  Tekanan3pm  Awan9am  Awan3pm  \\\n",
       "0          39.0           56.0      1013.0      1012.4      4.0      7.0   \n",
       "1          76.0           32.0      1017.0      1015.2      8.0      1.0   \n",
       "2          89.0           27.0      1018.6      1015.7      0.0      1.0   \n",
       "3          55.0           41.0      1010.2      1008.6      7.0      6.0   \n",
       "4          98.0           95.0         NaN         NaN      NaN      NaN   \n",
       "\n",
       "   Suhu9am  Suhu3pm  BersaljuHariIni  BersaljuBesok  \n",
       "0     25.7     23.6               No             No  \n",
       "1     10.7     18.9               No            Yes  \n",
       "2     13.9     26.3               No             No  \n",
       "3     22.3     26.4               No             No  \n",
       "4      4.4      6.0              Yes             No  \n",
       "\n",
       "[5 rows x 23 columns]"
      ]
     },
     "execution_count": 4,
     "metadata": {},
     "output_type": "execute_result"
    }
   ],
   "source": [
    "# Load data testing salju\n",
    "url2 = \"https://raw.githubusercontent.com/RezaAYahya/Classification/main/salju_test.csv\"\n",
    "download2 = requests.get(url2).content\n",
    "\n",
    "df_test = pd.read_csv(io.StringIO(download2.decode('utf-8')))\n",
    "df_test.head()"
   ]
  },
  {
   "cell_type": "markdown",
   "metadata": {},
   "source": [
    "## Eksplorasi Data\n",
    "1. Identifikasi Data <br>\n",
    "    a. Dimensi Data <br>\n",
    "    b. Info Data <br>\n",
    "    c. Missing Values <br>\n",
    "2. Univariate Analysis (Explore Kolom Target)\n",
    "3. Bivariate Analysis\n",
    "4. Multivariate Analysis"
   ]
  },
  {
   "cell_type": "markdown",
   "metadata": {},
   "source": [
    "### Identifikasi Data"
   ]
  },
  {
   "cell_type": "markdown",
   "metadata": {},
   "source": [
    "#### Dimensi Data"
   ]
  },
  {
   "cell_type": "code",
   "execution_count": 5,
   "metadata": {},
   "outputs": [
    {
     "data": {
      "text/plain": [
       "(109095, 24)"
      ]
     },
     "execution_count": 5,
     "metadata": {},
     "output_type": "execute_result"
    }
   ],
   "source": [
    "# Melihat jumlah baris dan kolom data train salju\n",
    "df_train.shape"
   ]
  },
  {
   "cell_type": "code",
   "execution_count": 6,
   "metadata": {},
   "outputs": [
    {
     "data": {
      "text/plain": [
       "(18182, 23)"
      ]
     },
     "execution_count": 6,
     "metadata": {},
     "output_type": "execute_result"
    }
   ],
   "source": [
    "# Melihat jumlah baris dan kolom data test salju\n",
    "df_test.shape"
   ]
  },
  {
   "cell_type": "markdown",
   "metadata": {},
   "source": [
    "#### Info Data"
   ]
  },
  {
   "cell_type": "code",
   "execution_count": 7,
   "metadata": {},
   "outputs": [
    {
     "name": "stdout",
     "output_type": "stream",
     "text": [
      "<class 'pandas.core.frame.DataFrame'>\n",
      "RangeIndex: 109095 entries, 0 to 109094\n",
      "Data columns (total 24 columns):\n",
      " #   Column                    Non-Null Count   Dtype  \n",
      "---  ------                    --------------   -----  \n",
      " 0   id                        109095 non-null  int64  \n",
      " 1   Tanggal                   109095 non-null  object \n",
      " 2   KodeLokasi                109095 non-null  object \n",
      " 3   SuhuMin                   107973 non-null  float64\n",
      " 4   SuhuMax                   108166 non-null  float64\n",
      " 5   Hujan                     106664 non-null  float64\n",
      " 6   Penguapan                 62071 non-null   float64\n",
      " 7   SinarMatahari             56716 non-null   float64\n",
      " 8   ArahAnginTerkencang       101351 non-null  object \n",
      " 9   KecepatanAnginTerkencang  101399 non-null  float64\n",
      " 10  ArahAngin9am              101172 non-null  object \n",
      " 11  ArahAngin3pm              105898 non-null  object \n",
      " 12  KecepatanAngin9am         107742 non-null  float64\n",
      " 13  KecepatanAngin3pm         106792 non-null  float64\n",
      " 14  Kelembaban9am             107093 non-null  float64\n",
      " 15  Kelembaban3pm             105721 non-null  float64\n",
      " 16  Tekanan9am                97768 non-null   float64\n",
      " 17  Tekanan3pm                97787 non-null   float64\n",
      " 18  Awan9am                   67251 non-null   float64\n",
      " 19  Awan3pm                   64624 non-null   float64\n",
      " 20  Suhu9am                   107755 non-null  float64\n",
      " 21  Suhu3pm                   106397 non-null  float64\n",
      " 22  BersaljuHariIni           106664 non-null  object \n",
      " 23  BersaljuBesok             106664 non-null  object \n",
      "dtypes: float64(16), int64(1), object(7)\n",
      "memory usage: 17.1+ MB\n"
     ]
    }
   ],
   "source": [
    "# Melihat informasi dari data train salju\n",
    "df_train.info()"
   ]
  },
  {
   "cell_type": "code",
   "execution_count": 8,
   "metadata": {},
   "outputs": [
    {
     "name": "stdout",
     "output_type": "stream",
     "text": [
      "<class 'pandas.core.frame.DataFrame'>\n",
      "RangeIndex: 18182 entries, 0 to 18181\n",
      "Data columns (total 23 columns):\n",
      " #   Column                    Non-Null Count  Dtype  \n",
      "---  ------                    --------------  -----  \n",
      " 0   Tanggal                   18182 non-null  object \n",
      " 1   KodeLokasi                18182 non-null  object \n",
      " 2   SuhuMin                   18017 non-null  float64\n",
      " 3   SuhuMax                   18017 non-null  float64\n",
      " 4   Hujan                     17795 non-null  float64\n",
      " 5   Penguapan                 10326 non-null  float64\n",
      " 6   SinarMatahari             9464 non-null   float64\n",
      " 7   ArahAnginTerkencang       16901 non-null  object \n",
      " 8   KecepatanAnginTerkencang  16908 non-null  float64\n",
      " 9   ArahAngin9am              16874 non-null  object \n",
      " 10  ArahAngin3pm              17686 non-null  object \n",
      " 11  KecepatanAngin9am         17984 non-null  float64\n",
      " 12  KecepatanAngin3pm         17828 non-null  float64\n",
      " 13  Kelembaban9am             17852 non-null  float64\n",
      " 14  Kelembaban3pm             17634 non-null  float64\n",
      " 15  Tekanan9am                16317 non-null  float64\n",
      " 16  Tekanan3pm                16329 non-null  float64\n",
      " 17  Awan9am                   11140 non-null  float64\n",
      " 18  Awan3pm                   10726 non-null  float64\n",
      " 19  Suhu9am                   17963 non-null  float64\n",
      " 20  Suhu3pm                   17740 non-null  float64\n",
      " 21  BersaljuHariIni           17795 non-null  object \n",
      " 22  BersaljuBesok             17763 non-null  object \n",
      "dtypes: float64(16), object(7)\n",
      "memory usage: 2.7+ MB\n"
     ]
    }
   ],
   "source": [
    "# Melihat informasi dari data test salju\n",
    "df_test.info()"
   ]
  },
  {
   "cell_type": "markdown",
   "metadata": {},
   "source": [
    "#### Missing Values"
   ]
  },
  {
   "cell_type": "code",
   "execution_count": 9,
   "metadata": {},
   "outputs": [
    {
     "data": {
      "text/plain": [
       "id                              0\n",
       "Tanggal                         0\n",
       "KodeLokasi                      0\n",
       "SuhuMin                      1122\n",
       "SuhuMax                       929\n",
       "Hujan                        2431\n",
       "Penguapan                   47024\n",
       "SinarMatahari               52379\n",
       "ArahAnginTerkencang          7744\n",
       "KecepatanAnginTerkencang     7696\n",
       "ArahAngin9am                 7923\n",
       "ArahAngin3pm                 3197\n",
       "KecepatanAngin9am            1353\n",
       "KecepatanAngin3pm            2303\n",
       "Kelembaban9am                2002\n",
       "Kelembaban3pm                3374\n",
       "Tekanan9am                  11327\n",
       "Tekanan3pm                  11308\n",
       "Awan9am                     41844\n",
       "Awan3pm                     44471\n",
       "Suhu9am                      1340\n",
       "Suhu3pm                      2698\n",
       "BersaljuHariIni              2431\n",
       "BersaljuBesok                2431\n",
       "dtype: int64"
      ]
     },
     "execution_count": 9,
     "metadata": {},
     "output_type": "execute_result"
    }
   ],
   "source": [
    "# Mengecheck nilai null dari data train salju\n",
    "df_train.isnull().sum()"
   ]
  },
  {
   "cell_type": "code",
   "execution_count": 10,
   "metadata": {},
   "outputs": [
    {
     "data": {
      "text/plain": [
       "Tanggal                        0\n",
       "KodeLokasi                     0\n",
       "SuhuMin                      165\n",
       "SuhuMax                      165\n",
       "Hujan                        387\n",
       "Penguapan                   7856\n",
       "SinarMatahari               8718\n",
       "ArahAnginTerkencang         1281\n",
       "KecepatanAnginTerkencang    1274\n",
       "ArahAngin9am                1308\n",
       "ArahAngin3pm                 496\n",
       "KecepatanAngin9am            198\n",
       "KecepatanAngin3pm            354\n",
       "Kelembaban9am                330\n",
       "Kelembaban3pm                548\n",
       "Tekanan9am                  1865\n",
       "Tekanan3pm                  1853\n",
       "Awan9am                     7042\n",
       "Awan3pm                     7456\n",
       "Suhu9am                      219\n",
       "Suhu3pm                      442\n",
       "BersaljuHariIni              387\n",
       "BersaljuBesok                419\n",
       "dtype: int64"
      ]
     },
     "execution_count": 10,
     "metadata": {},
     "output_type": "execute_result"
    }
   ],
   "source": [
    "df_test.isnull().sum()"
   ]
  },
  {
   "cell_type": "markdown",
   "metadata": {},
   "source": [
    "### Univariate Analysis\n",
    "> Explore kolom target (BersaljuBesok)\n",
    "1. Check Missing Values\n",
    "2. Check Unique Values\n",
    "3. Check Distribusi Data"
   ]
  },
  {
   "cell_type": "markdown",
   "metadata": {},
   "source": [
    "#### Missing Values"
   ]
  },
  {
   "cell_type": "code",
   "execution_count": 11,
   "metadata": {},
   "outputs": [
    {
     "data": {
      "text/plain": [
       "2431"
      ]
     },
     "execution_count": 11,
     "metadata": {},
     "output_type": "execute_result"
    }
   ],
   "source": [
    "df_train['BersaljuBesok'].isnull().sum()"
   ]
  },
  {
   "cell_type": "markdown",
   "metadata": {},
   "source": [
    "Terdapat 2431 missing values pada data train."
   ]
  },
  {
   "cell_type": "code",
   "execution_count": 12,
   "metadata": {},
   "outputs": [
    {
     "data": {
      "text/plain": [
       "0"
      ]
     },
     "execution_count": 12,
     "metadata": {},
     "output_type": "execute_result"
    }
   ],
   "source": [
    "# Handling Missing values\n",
    "modus = df_train['BersaljuBesok'].mode()\n",
    "df_train['BersaljuBesok'].fillna(modus[0], inplace=True)\n",
    "df_train['BersaljuBesok'].isnull().sum()"
   ]
  },
  {
   "cell_type": "code",
   "execution_count": 13,
   "metadata": {},
   "outputs": [
    {
     "data": {
      "text/plain": [
       "419"
      ]
     },
     "execution_count": 13,
     "metadata": {},
     "output_type": "execute_result"
    }
   ],
   "source": [
    "df_test['BersaljuBesok'].isnull().sum()"
   ]
  },
  {
   "cell_type": "markdown",
   "metadata": {},
   "source": [
    "Terdapat 419 missing values pada data test."
   ]
  },
  {
   "cell_type": "code",
   "execution_count": 14,
   "metadata": {},
   "outputs": [
    {
     "data": {
      "text/plain": [
       "0"
      ]
     },
     "execution_count": 14,
     "metadata": {},
     "output_type": "execute_result"
    }
   ],
   "source": [
    "# Handling Missing values\n",
    "modus = df_test['BersaljuBesok'].mode()\n",
    "df_test['BersaljuBesok'].fillna(modus[0], inplace=True)\n",
    "df_test['BersaljuBesok'].isnull().sum()"
   ]
  },
  {
   "cell_type": "markdown",
   "metadata": {},
   "source": [
    "#### Unique Values"
   ]
  },
  {
   "cell_type": "code",
   "execution_count": 15,
   "metadata": {},
   "outputs": [
    {
     "data": {
      "text/plain": [
       "array(['Tidak', 'Ya'], dtype=object)"
      ]
     },
     "execution_count": 15,
     "metadata": {},
     "output_type": "execute_result"
    }
   ],
   "source": [
    "df_train['BersaljuBesok'].unique()"
   ]
  },
  {
   "cell_type": "code",
   "execution_count": 16,
   "metadata": {},
   "outputs": [
    {
     "data": {
      "text/plain": [
       "array(['No', 'Yes'], dtype=object)"
      ]
     },
     "execution_count": 16,
     "metadata": {},
     "output_type": "execute_result"
    }
   ],
   "source": [
    "df_test['BersaljuBesok'].unique()"
   ]
  },
  {
   "cell_type": "markdown",
   "metadata": {},
   "source": [
    "Data class pada training dan testing masih belum konsisten nilainya, pada data train nilainya adalah 'Tidak' dan 'Ya' sedangkan pada data test nilainya adalah 'No' dan 'Yes'."
   ]
  },
  {
   "cell_type": "code",
   "execution_count": 17,
   "metadata": {},
   "outputs": [],
   "source": [
    "df_train['BersaljuBesok'].replace({'Tidak': 0, 'Ya': 1},inplace = True)\n",
    "df_test['BersaljuBesok'].replace({'No': 0, 'Yes': 1},inplace = True)"
   ]
  },
  {
   "cell_type": "markdown",
   "metadata": {},
   "source": [
    "Convert 'Ya' dan 'Tidak' ke binary 1/0."
   ]
  },
  {
   "cell_type": "code",
   "execution_count": 18,
   "metadata": {},
   "outputs": [
    {
     "data": {
      "text/plain": [
       "array([0, 1], dtype=int64)"
      ]
     },
     "execution_count": 18,
     "metadata": {},
     "output_type": "execute_result"
    }
   ],
   "source": [
    "df_train['BersaljuBesok'].unique()"
   ]
  },
  {
   "cell_type": "code",
   "execution_count": 19,
   "metadata": {},
   "outputs": [
    {
     "data": {
      "text/plain": [
       "array([0, 1], dtype=int64)"
      ]
     },
     "execution_count": 19,
     "metadata": {},
     "output_type": "execute_result"
    }
   ],
   "source": [
    "df_test['BersaljuBesok'].unique()"
   ]
  },
  {
   "cell_type": "markdown",
   "metadata": {},
   "source": [
    "Nilai pada masing-masing data telah sama."
   ]
  },
  {
   "cell_type": "markdown",
   "metadata": {},
   "source": [
    "#### Distribusi Data"
   ]
  },
  {
   "cell_type": "code",
   "execution_count": 20,
   "metadata": {},
   "outputs": [
    {
     "data": {
      "text/plain": [
       "0    85132\n",
       "1    23963\n",
       "Name: BersaljuBesok, dtype: int64"
      ]
     },
     "execution_count": 20,
     "metadata": {},
     "output_type": "execute_result"
    }
   ],
   "source": [
    "df_train['BersaljuBesok'].value_counts()"
   ]
  },
  {
   "cell_type": "code",
   "execution_count": 21,
   "metadata": {},
   "outputs": [
    {
     "data": {
      "image/png": "[encoded data removed]",
      "text/plain": [
       "<Figure size 432x576 with 1 Axes>"
      ]
     },
     "metadata": {},
     "output_type": "display_data"
    }
   ],
   "source": [
    "f, ax = plt.subplots(figsize=(6, 8))\n",
    "ax = sns.countplot(x=\"BersaljuBesok\", data=df_train, palette=\"Set1\")\n",
    "plt.show()"
   ]
  },
  {
   "cell_type": "markdown",
   "metadata": {},
   "source": [
    "Kolom target pada data training masih imbalance."
   ]
  },
  {
   "cell_type": "markdown",
   "metadata": {},
   "source": [
    "### Bivariate Analysis\n",
    "1. Datetime\n",
    "2. Categorical\n",
    "3. Numerical"
   ]
  },
  {
   "cell_type": "code",
   "execution_count": 22,
   "metadata": {},
   "outputs": [
    {
     "data": {
      "text/plain": [
       "id                            int64\n",
       "Tanggal                      object\n",
       "KodeLokasi                   object\n",
       "SuhuMin                     float64\n",
       "SuhuMax                     float64\n",
       "Hujan                       float64\n",
       "Penguapan                   float64\n",
       "SinarMatahari               float64\n",
       "ArahAnginTerkencang          object\n",
       "KecepatanAnginTerkencang    float64\n",
       "ArahAngin9am                 object\n",
       "ArahAngin3pm                 object\n",
       "KecepatanAngin9am           float64\n",
       "KecepatanAngin3pm           float64\n",
       "Kelembaban9am               float64\n",
       "Kelembaban3pm               float64\n",
       "Tekanan9am                  float64\n",
       "Tekanan3pm                  float64\n",
       "Awan9am                     float64\n",
       "Awan3pm                     float64\n",
       "Suhu9am                     float64\n",
       "Suhu3pm                     float64\n",
       "BersaljuHariIni              object\n",
       "BersaljuBesok                 int64\n",
       "dtype: object"
      ]
     },
     "execution_count": 22,
     "metadata": {},
     "output_type": "execute_result"
    }
   ],
   "source": [
    "# Melihat tipe data dari data train salju\n",
    "df_train.dtypes"
   ]
  },
  {
   "cell_type": "code",
   "execution_count": 23,
   "metadata": {},
   "outputs": [
    {
     "data": {
      "text/plain": [
       "Tanggal                      object\n",
       "KodeLokasi                   object\n",
       "SuhuMin                     float64\n",
       "SuhuMax                     float64\n",
       "Hujan                       float64\n",
       "Penguapan                   float64\n",
       "SinarMatahari               float64\n",
       "ArahAnginTerkencang          object\n",
       "KecepatanAnginTerkencang    float64\n",
       "ArahAngin9am                 object\n",
       "ArahAngin3pm                 object\n",
       "KecepatanAngin9am           float64\n",
       "KecepatanAngin3pm           float64\n",
       "Kelembaban9am               float64\n",
       "Kelembaban3pm               float64\n",
       "Tekanan9am                  float64\n",
       "Tekanan3pm                  float64\n",
       "Awan9am                     float64\n",
       "Awan3pm                     float64\n",
       "Suhu9am                     float64\n",
       "Suhu3pm                     float64\n",
       "BersaljuHariIni              object\n",
       "BersaljuBesok                 int64\n",
       "dtype: object"
      ]
     },
     "execution_count": 23,
     "metadata": {},
     "output_type": "execute_result"
    }
   ],
   "source": [
    "# Melihat tipe data dari data train salju\n",
    "df_test.dtypes"
   ]
  },
  {
   "cell_type": "markdown",
   "metadata": {},
   "source": [
    "#### Datetime"
   ]
  },
  {
   "cell_type": "code",
   "execution_count": 24,
   "metadata": {},
   "outputs": [],
   "source": [
    "# Merubah type data tanggal menjadi date\n",
    "df_train['Tanggal'] = pd.to_datetime(df_train['Tanggal'])\n",
    "df_test['Tanggal'] = pd.to_datetime(df_test['Tanggal'])"
   ]
  },
  {
   "cell_type": "markdown",
   "metadata": {},
   "source": [
    "#### Tahun"
   ]
  },
  {
   "cell_type": "code",
   "execution_count": 25,
   "metadata": {},
   "outputs": [
    {
     "data": {
      "text/plain": [
       "0    2014\n",
       "1    2014\n",
       "2    2011\n",
       "3    2012\n",
       "4    2016\n",
       "Name: Tahun, dtype: int64"
      ]
     },
     "execution_count": 25,
     "metadata": {},
     "output_type": "execute_result"
    }
   ],
   "source": [
    "# Convert tanggal menjadi satuan tahun di data train salju\n",
    "df_train['Tahun'] = df_train['Tanggal'].dt.year\n",
    "df_train['Tahun'].head()"
   ]
  },
  {
   "cell_type": "code",
   "execution_count": 26,
   "metadata": {},
   "outputs": [
    {
     "data": {
      "text/plain": [
       "0    2010\n",
       "1    2015\n",
       "2    2016\n",
       "3    2011\n",
       "4    2017\n",
       "Name: Tahun, dtype: int64"
      ]
     },
     "execution_count": 26,
     "metadata": {},
     "output_type": "execute_result"
    }
   ],
   "source": [
    "# Convert tanggal menjadi satuan tahun di data test salju\n",
    "df_test['Tahun'] = df_test['Tanggal'].dt.year\n",
    "df_test['Tahun'].head()"
   ]
  },
  {
   "cell_type": "markdown",
   "metadata": {},
   "source": [
    "#### Bulan"
   ]
  },
  {
   "cell_type": "code",
   "execution_count": 27,
   "metadata": {},
   "outputs": [
    {
     "data": {
      "text/plain": [
       "0     1\n",
       "1     7\n",
       "2     2\n",
       "3     8\n",
       "4    10\n",
       "Name: Bulan, dtype: int64"
      ]
     },
     "execution_count": 27,
     "metadata": {},
     "output_type": "execute_result"
    }
   ],
   "source": [
    "# Convert tanggal menjadi satuan bulan di data train salju\n",
    "df_train['Bulan'] = df_train['Tanggal'].dt.month\n",
    "df_train['Bulan'].head()"
   ]
  },
  {
   "cell_type": "code",
   "execution_count": 28,
   "metadata": {},
   "outputs": [
    {
     "data": {
      "text/plain": [
       "0    4\n",
       "1    3\n",
       "2    3\n",
       "3    9\n",
       "4    5\n",
       "Name: Bulan, dtype: int64"
      ]
     },
     "execution_count": 28,
     "metadata": {},
     "output_type": "execute_result"
    }
   ],
   "source": [
    "# Convert tanggal menjadi satuan bulan di data test salju\n",
    "df_test['Bulan'] = df_test['Tanggal'].dt.month\n",
    "df_test['Bulan'].head()"
   ]
  },
  {
   "cell_type": "markdown",
   "metadata": {},
   "source": [
    "#### Hari"
   ]
  },
  {
   "cell_type": "code",
   "execution_count": 29,
   "metadata": {},
   "outputs": [
    {
     "data": {
      "text/plain": [
       "0     6\n",
       "1    15\n",
       "2    16\n",
       "3     8\n",
       "4    29\n",
       "Name: Hari, dtype: int64"
      ]
     },
     "execution_count": 29,
     "metadata": {},
     "output_type": "execute_result"
    }
   ],
   "source": [
    "# Convert tanggal menjadi satuan hari di data train salju\n",
    "df_train['Hari'] = df_train['Tanggal'].dt.day\n",
    "df_train['Hari'].head()"
   ]
  },
  {
   "cell_type": "code",
   "execution_count": 30,
   "metadata": {},
   "outputs": [
    {
     "data": {
      "text/plain": [
       "0    11\n",
       "1    26\n",
       "2    22\n",
       "3    12\n",
       "4    20\n",
       "Name: Hari, dtype: int64"
      ]
     },
     "execution_count": 30,
     "metadata": {},
     "output_type": "execute_result"
    }
   ],
   "source": [
    "# Convert tanggal menjadi satuan hari di data train salju\n",
    "df_test['Hari'] = df_test['Tanggal'].dt.day\n",
    "df_test['Hari'].head()"
   ]
  },
  {
   "cell_type": "markdown",
   "metadata": {},
   "source": [
    "#### Drop Feature"
   ]
  },
  {
   "cell_type": "code",
   "execution_count": 31,
   "metadata": {},
   "outputs": [],
   "source": [
    "# Drop kolom dari data train dan data test\n",
    "df_train.drop(['id', 'Tanggal'], axis=1, inplace = True)\n",
    "df_test.drop(['Tanggal'], axis=1, inplace = True)"
   ]
  },
  {
   "cell_type": "markdown",
   "metadata": {},
   "source": [
    "#### Categorical"
   ]
  },
  {
   "cell_type": "code",
   "execution_count": 32,
   "metadata": {},
   "outputs": [
    {
     "name": "stdout",
     "output_type": "stream",
     "text": [
      "Terdapat 5 categorical variables di data train salju\n",
      "\n",
      "Contohnya adalah : ['KodeLokasi', 'ArahAnginTerkencang', 'ArahAngin9am', 'ArahAngin3pm', 'BersaljuHariIni']\n"
     ]
    }
   ],
   "source": [
    "# Melihat data yang bertipe kategorical di data train salju\n",
    "categorical_train = [var for var in df_train.columns if df_train[var].dtype=='O']\n",
    "print('Terdapat {} categorical variables di data train salju\\n'.format(len(categorical_train)))\n",
    "print('Contohnya adalah :', categorical_train)"
   ]
  },
  {
   "cell_type": "code",
   "execution_count": 33,
   "metadata": {},
   "outputs": [
    {
     "name": "stdout",
     "output_type": "stream",
     "text": [
      "Terdapat 5 categorical variables di data test salju\n",
      "\n",
      "Contohnya adalah : ['KodeLokasi', 'ArahAnginTerkencang', 'ArahAngin9am', 'ArahAngin3pm', 'BersaljuHariIni']\n"
     ]
    }
   ],
   "source": [
    "# Melihat data yang bertipe kategorical di data test salju\n",
    "categorical_test = [var for var in df_test.columns if df_test[var].dtype=='O']\n",
    "print('Terdapat {} categorical variables di data test salju\\n'.format(len(categorical_test)))\n",
    "print('Contohnya adalah :', categorical_test)"
   ]
  },
  {
   "cell_type": "markdown",
   "metadata": {},
   "source": [
    "#### Numerical"
   ]
  },
  {
   "cell_type": "code",
   "execution_count": 34,
   "metadata": {},
   "outputs": [
    {
     "name": "stdout",
     "output_type": "stream",
     "text": [
      "Terdapat 20 numerical variables di data train salju\n",
      "\n",
      "Contohnya adalah : ['SuhuMin', 'SuhuMax', 'Hujan', 'Penguapan', 'SinarMatahari', 'KecepatanAnginTerkencang', 'KecepatanAngin9am', 'KecepatanAngin3pm', 'Kelembaban9am', 'Kelembaban3pm', 'Tekanan9am', 'Tekanan3pm', 'Awan9am', 'Awan3pm', 'Suhu9am', 'Suhu3pm', 'BersaljuBesok', 'Tahun', 'Bulan', 'Hari']\n"
     ]
    }
   ],
   "source": [
    "# Melihat data yang bertipe numerical di data train salju\n",
    "numerical_train = [var for var in df_train.columns if df_train[var].dtype!='O']\n",
    "print('Terdapat {} numerical variables di data train salju\\n'.format(len(numerical_train)))\n",
    "print('Contohnya adalah :', numerical_train)"
   ]
  },
  {
   "cell_type": "code",
   "execution_count": 35,
   "metadata": {},
   "outputs": [
    {
     "name": "stdout",
     "output_type": "stream",
     "text": [
      "Terdapat 20 numerical variables di data test salju\n",
      "\n",
      "Contohnya adalah : ['SuhuMin', 'SuhuMax', 'Hujan', 'Penguapan', 'SinarMatahari', 'KecepatanAnginTerkencang', 'KecepatanAngin9am', 'KecepatanAngin3pm', 'Kelembaban9am', 'Kelembaban3pm', 'Tekanan9am', 'Tekanan3pm', 'Awan9am', 'Awan3pm', 'Suhu9am', 'Suhu3pm', 'BersaljuBesok', 'Tahun', 'Bulan', 'Hari']\n"
     ]
    }
   ],
   "source": [
    "# Melihat data yang bertipe numerical di data test salju\n",
    "numerical_test = [var for var in df_test.columns if df_test[var].dtype!='O']\n",
    "print('Terdapat {} numerical variables di data test salju\\n'.format(len(numerical_test)))\n",
    "print('Contohnya adalah :', numerical_test)"
   ]
  },
  {
   "cell_type": "markdown",
   "metadata": {},
   "source": [
    "### Multivariate Analysis"
   ]
  },
  {
   "cell_type": "code",
   "execution_count": 36,
   "metadata": {},
   "outputs": [
    {
     "data": {
      "text/html": [
       "<div>\n",
       "<style scoped>\n",
       "    .dataframe tbody tr th:only-of-type {\n",
       "        vertical-align: middle;\n",
       "    }\n",
       "\n",
       "    .dataframe tbody tr th {\n",
       "        vertical-align: top;\n",
       "    }\n",
       "\n",
       "    .dataframe thead th {\n",
       "        text-align: right;\n",
       "    }\n",
       "</style>\n",
       "<table border=\"1\" class=\"dataframe\">\n",
       "  <thead>\n",
       "    <tr style=\"text-align: right;\">\n",
       "      <th></th>\n",
       "      <th>SuhuMin</th>\n",
       "      <th>SuhuMax</th>\n",
       "      <th>Hujan</th>\n",
       "      <th>Penguapan</th>\n",
       "      <th>SinarMatahari</th>\n",
       "      <th>KecepatanAnginTerkencang</th>\n",
       "      <th>KecepatanAngin9am</th>\n",
       "      <th>KecepatanAngin3pm</th>\n",
       "      <th>Kelembaban9am</th>\n",
       "      <th>Kelembaban3pm</th>\n",
       "      <th>Tekanan9am</th>\n",
       "      <th>Tekanan3pm</th>\n",
       "      <th>Awan9am</th>\n",
       "      <th>Awan3pm</th>\n",
       "      <th>Suhu9am</th>\n",
       "      <th>Suhu3pm</th>\n",
       "    </tr>\n",
       "  </thead>\n",
       "  <tbody>\n",
       "    <tr>\n",
       "      <th>SuhuMin</th>\n",
       "      <td>1.000000</td>\n",
       "      <td>0.735500</td>\n",
       "      <td>0.104391</td>\n",
       "      <td>0.465508</td>\n",
       "      <td>0.072501</td>\n",
       "      <td>0.177627</td>\n",
       "      <td>0.174358</td>\n",
       "      <td>0.174122</td>\n",
       "      <td>-0.232101</td>\n",
       "      <td>0.007974</td>\n",
       "      <td>-0.449684</td>\n",
       "      <td>-0.459596</td>\n",
       "      <td>0.077349</td>\n",
       "      <td>0.021105</td>\n",
       "      <td>0.901208</td>\n",
       "      <td>0.707578</td>\n",
       "    </tr>\n",
       "    <tr>\n",
       "      <th>SuhuMax</th>\n",
       "      <td>0.735500</td>\n",
       "      <td>1.000000</td>\n",
       "      <td>-0.074669</td>\n",
       "      <td>0.585475</td>\n",
       "      <td>0.470991</td>\n",
       "      <td>0.068244</td>\n",
       "      <td>0.013632</td>\n",
       "      <td>0.050793</td>\n",
       "      <td>-0.504014</td>\n",
       "      <td>-0.507921</td>\n",
       "      <td>-0.331431</td>\n",
       "      <td>-0.426012</td>\n",
       "      <td>-0.291573</td>\n",
       "      <td>-0.279039</td>\n",
       "      <td>0.886984</td>\n",
       "      <td>0.984434</td>\n",
       "    </tr>\n",
       "    <tr>\n",
       "      <th>Hujan</th>\n",
       "      <td>0.104391</td>\n",
       "      <td>-0.074669</td>\n",
       "      <td>1.000000</td>\n",
       "      <td>-0.058940</td>\n",
       "      <td>-0.226845</td>\n",
       "      <td>0.135081</td>\n",
       "      <td>0.087157</td>\n",
       "      <td>0.059562</td>\n",
       "      <td>0.223661</td>\n",
       "      <td>0.254898</td>\n",
       "      <td>-0.168638</td>\n",
       "      <td>-0.127506</td>\n",
       "      <td>0.195540</td>\n",
       "      <td>0.170791</td>\n",
       "      <td>0.011781</td>\n",
       "      <td>-0.079160</td>\n",
       "    </tr>\n",
       "    <tr>\n",
       "      <th>Penguapan</th>\n",
       "      <td>0.465508</td>\n",
       "      <td>0.585475</td>\n",
       "      <td>-0.058940</td>\n",
       "      <td>1.000000</td>\n",
       "      <td>0.364745</td>\n",
       "      <td>0.198965</td>\n",
       "      <td>0.188950</td>\n",
       "      <td>0.128217</td>\n",
       "      <td>-0.499698</td>\n",
       "      <td>-0.387161</td>\n",
       "      <td>-0.268648</td>\n",
       "      <td>-0.291740</td>\n",
       "      <td>-0.181615</td>\n",
       "      <td>-0.181563</td>\n",
       "      <td>0.542808</td>\n",
       "      <td>0.570758</td>\n",
       "    </tr>\n",
       "    <tr>\n",
       "      <th>SinarMatahari</th>\n",
       "      <td>0.072501</td>\n",
       "      <td>0.470991</td>\n",
       "      <td>-0.226845</td>\n",
       "      <td>0.364745</td>\n",
       "      <td>1.000000</td>\n",
       "      <td>-0.035040</td>\n",
       "      <td>0.002004</td>\n",
       "      <td>0.051812</td>\n",
       "      <td>-0.489242</td>\n",
       "      <td>-0.627920</td>\n",
       "      <td>0.041321</td>\n",
       "      <td>-0.020052</td>\n",
       "      <td>-0.676965</td>\n",
       "      <td>-0.703482</td>\n",
       "      <td>0.291601</td>\n",
       "      <td>0.490993</td>\n",
       "    </tr>\n",
       "    <tr>\n",
       "      <th>KecepatanAnginTerkencang</th>\n",
       "      <td>0.177627</td>\n",
       "      <td>0.068244</td>\n",
       "      <td>0.135081</td>\n",
       "      <td>0.198965</td>\n",
       "      <td>-0.035040</td>\n",
       "      <td>1.000000</td>\n",
       "      <td>0.604677</td>\n",
       "      <td>0.686629</td>\n",
       "      <td>-0.214062</td>\n",
       "      <td>-0.026049</td>\n",
       "      <td>-0.460665</td>\n",
       "      <td>-0.415953</td>\n",
       "      <td>0.071323</td>\n",
       "      <td>0.105835</td>\n",
       "      <td>0.150043</td>\n",
       "      <td>0.033001</td>\n",
       "    </tr>\n",
       "    <tr>\n",
       "      <th>KecepatanAngin9am</th>\n",
       "      <td>0.174358</td>\n",
       "      <td>0.013632</td>\n",
       "      <td>0.087157</td>\n",
       "      <td>0.188950</td>\n",
       "      <td>0.002004</td>\n",
       "      <td>0.604677</td>\n",
       "      <td>1.000000</td>\n",
       "      <td>0.518093</td>\n",
       "      <td>-0.272566</td>\n",
       "      <td>-0.032366</td>\n",
       "      <td>-0.229197</td>\n",
       "      <td>-0.176461</td>\n",
       "      <td>0.024425</td>\n",
       "      <td>0.051593</td>\n",
       "      <td>0.127675</td>\n",
       "      <td>0.004132</td>\n",
       "    </tr>\n",
       "    <tr>\n",
       "      <th>KecepatanAngin3pm</th>\n",
       "      <td>0.174122</td>\n",
       "      <td>0.050793</td>\n",
       "      <td>0.059562</td>\n",
       "      <td>0.128217</td>\n",
       "      <td>0.051812</td>\n",
       "      <td>0.686629</td>\n",
       "      <td>0.518093</td>\n",
       "      <td>1.000000</td>\n",
       "      <td>-0.144640</td>\n",
       "      <td>0.016263</td>\n",
       "      <td>-0.298189</td>\n",
       "      <td>-0.257869</td>\n",
       "      <td>0.050446</td>\n",
       "      <td>0.023239</td>\n",
       "      <td>0.162047</td>\n",
       "      <td>0.027859</td>\n",
       "    </tr>\n",
       "    <tr>\n",
       "      <th>Kelembaban9am</th>\n",
       "      <td>-0.232101</td>\n",
       "      <td>-0.504014</td>\n",
       "      <td>0.223661</td>\n",
       "      <td>-0.499698</td>\n",
       "      <td>-0.489242</td>\n",
       "      <td>-0.214062</td>\n",
       "      <td>-0.272566</td>\n",
       "      <td>-0.144640</td>\n",
       "      <td>1.000000</td>\n",
       "      <td>0.667101</td>\n",
       "      <td>0.138628</td>\n",
       "      <td>0.185534</td>\n",
       "      <td>0.452897</td>\n",
       "      <td>0.356101</td>\n",
       "      <td>-0.471206</td>\n",
       "      <td>-0.498840</td>\n",
       "    </tr>\n",
       "    <tr>\n",
       "      <th>Kelembaban3pm</th>\n",
       "      <td>0.007974</td>\n",
       "      <td>-0.507921</td>\n",
       "      <td>0.254898</td>\n",
       "      <td>-0.387161</td>\n",
       "      <td>-0.627920</td>\n",
       "      <td>-0.026049</td>\n",
       "      <td>-0.032366</td>\n",
       "      <td>0.016263</td>\n",
       "      <td>0.667101</td>\n",
       "      <td>1.000000</td>\n",
       "      <td>-0.028295</td>\n",
       "      <td>0.050983</td>\n",
       "      <td>0.517553</td>\n",
       "      <td>0.523358</td>\n",
       "      <td>-0.219775</td>\n",
       "      <td>-0.557240</td>\n",
       "    </tr>\n",
       "    <tr>\n",
       "      <th>Tekanan9am</th>\n",
       "      <td>-0.449684</td>\n",
       "      <td>-0.331431</td>\n",
       "      <td>-0.168638</td>\n",
       "      <td>-0.268648</td>\n",
       "      <td>0.041321</td>\n",
       "      <td>-0.460665</td>\n",
       "      <td>-0.229197</td>\n",
       "      <td>-0.298189</td>\n",
       "      <td>0.138628</td>\n",
       "      <td>-0.028295</td>\n",
       "      <td>1.000000</td>\n",
       "      <td>0.961395</td>\n",
       "      <td>-0.128340</td>\n",
       "      <td>-0.145674</td>\n",
       "      <td>-0.421864</td>\n",
       "      <td>-0.285568</td>\n",
       "    </tr>\n",
       "    <tr>\n",
       "      <th>Tekanan3pm</th>\n",
       "      <td>-0.459596</td>\n",
       "      <td>-0.426012</td>\n",
       "      <td>-0.127506</td>\n",
       "      <td>-0.291740</td>\n",
       "      <td>-0.020052</td>\n",
       "      <td>-0.415953</td>\n",
       "      <td>-0.176461</td>\n",
       "      <td>-0.257869</td>\n",
       "      <td>0.185534</td>\n",
       "      <td>0.050983</td>\n",
       "      <td>0.961395</td>\n",
       "      <td>1.000000</td>\n",
       "      <td>-0.060072</td>\n",
       "      <td>-0.083186</td>\n",
       "      <td>-0.469039</td>\n",
       "      <td>-0.387910</td>\n",
       "    </tr>\n",
       "    <tr>\n",
       "      <th>Awan9am</th>\n",
       "      <td>0.077349</td>\n",
       "      <td>-0.291573</td>\n",
       "      <td>0.195540</td>\n",
       "      <td>-0.181615</td>\n",
       "      <td>-0.676965</td>\n",
       "      <td>0.071323</td>\n",
       "      <td>0.024425</td>\n",
       "      <td>0.050446</td>\n",
       "      <td>0.452897</td>\n",
       "      <td>0.517553</td>\n",
       "      <td>-0.128340</td>\n",
       "      <td>-0.060072</td>\n",
       "      <td>1.000000</td>\n",
       "      <td>0.602034</td>\n",
       "      <td>-0.138669</td>\n",
       "      <td>-0.304298</td>\n",
       "    </tr>\n",
       "    <tr>\n",
       "      <th>Awan3pm</th>\n",
       "      <td>0.021105</td>\n",
       "      <td>-0.279039</td>\n",
       "      <td>0.170791</td>\n",
       "      <td>-0.181563</td>\n",
       "      <td>-0.703482</td>\n",
       "      <td>0.105835</td>\n",
       "      <td>0.051593</td>\n",
       "      <td>0.023239</td>\n",
       "      <td>0.356101</td>\n",
       "      <td>0.523358</td>\n",
       "      <td>-0.145674</td>\n",
       "      <td>-0.083186</td>\n",
       "      <td>0.602034</td>\n",
       "      <td>1.000000</td>\n",
       "      <td>-0.126781</td>\n",
       "      <td>-0.318489</td>\n",
       "    </tr>\n",
       "    <tr>\n",
       "      <th>Suhu9am</th>\n",
       "      <td>0.901208</td>\n",
       "      <td>0.886984</td>\n",
       "      <td>0.011781</td>\n",
       "      <td>0.542808</td>\n",
       "      <td>0.291601</td>\n",
       "      <td>0.150043</td>\n",
       "      <td>0.127675</td>\n",
       "      <td>0.162047</td>\n",
       "      <td>-0.471206</td>\n",
       "      <td>-0.219775</td>\n",
       "      <td>-0.421864</td>\n",
       "      <td>-0.469039</td>\n",
       "      <td>-0.138669</td>\n",
       "      <td>-0.126781</td>\n",
       "      <td>1.000000</td>\n",
       "      <td>0.860194</td>\n",
       "    </tr>\n",
       "    <tr>\n",
       "      <th>Suhu3pm</th>\n",
       "      <td>0.707578</td>\n",
       "      <td>0.984434</td>\n",
       "      <td>-0.079160</td>\n",
       "      <td>0.570758</td>\n",
       "      <td>0.490993</td>\n",
       "      <td>0.033001</td>\n",
       "      <td>0.004132</td>\n",
       "      <td>0.027859</td>\n",
       "      <td>-0.498840</td>\n",
       "      <td>-0.557240</td>\n",
       "      <td>-0.285568</td>\n",
       "      <td>-0.387910</td>\n",
       "      <td>-0.304298</td>\n",
       "      <td>-0.318489</td>\n",
       "      <td>0.860194</td>\n",
       "      <td>1.000000</td>\n",
       "    </tr>\n",
       "  </tbody>\n",
       "</table>\n",
       "</div>"
      ],
      "text/plain": [
       "                           SuhuMin   SuhuMax     Hujan  Penguapan  \\\n",
       "SuhuMin                   1.000000  0.735500  0.104391   0.465508   \n",
       "SuhuMax                   0.735500  1.000000 -0.074669   0.585475   \n",
       "Hujan                     0.104391 -0.074669  1.000000  -0.058940   \n",
       "Penguapan                 0.465508  0.585475 -0.058940   1.000000   \n",
       "SinarMatahari             0.072501  0.470991 -0.226845   0.364745   \n",
       "KecepatanAnginTerkencang  0.177627  0.068244  0.135081   0.198965   \n",
       "KecepatanAngin9am         0.174358  0.013632  0.087157   0.188950   \n",
       "KecepatanAngin3pm         0.174122  0.050793  0.059562   0.128217   \n",
       "Kelembaban9am            -0.232101 -0.504014  0.223661  -0.499698   \n",
       "Kelembaban3pm             0.007974 -0.507921  0.254898  -0.387161   \n",
       "Tekanan9am               -0.449684 -0.331431 -0.168638  -0.268648   \n",
       "Tekanan3pm               -0.459596 -0.426012 -0.127506  -0.291740   \n",
       "Awan9am                   0.077349 -0.291573  0.195540  -0.181615   \n",
       "Awan3pm                   0.021105 -0.279039  0.170791  -0.181563   \n",
       "Suhu9am                   0.901208  0.886984  0.011781   0.542808   \n",
       "Suhu3pm                   0.707578  0.984434 -0.079160   0.570758   \n",
       "\n",
       "                          SinarMatahari  KecepatanAnginTerkencang  \\\n",
       "SuhuMin                        0.072501                  0.177627   \n",
       "SuhuMax                        0.470991                  0.068244   \n",
       "Hujan                         -0.226845                  0.135081   \n",
       "Penguapan                      0.364745                  0.198965   \n",
       "SinarMatahari                  1.000000                 -0.035040   \n",
       "KecepatanAnginTerkencang      -0.035040                  1.000000   \n",
       "KecepatanAngin9am              0.002004                  0.604677   \n",
       "KecepatanAngin3pm              0.051812                  0.686629   \n",
       "Kelembaban9am                 -0.489242                 -0.214062   \n",
       "Kelembaban3pm                 -0.627920                 -0.026049   \n",
       "Tekanan9am                     0.041321                 -0.460665   \n",
       "Tekanan3pm                    -0.020052                 -0.415953   \n",
       "Awan9am                       -0.676965                  0.071323   \n",
       "Awan3pm                       -0.703482                  0.105835   \n",
       "Suhu9am                        0.291601                  0.150043   \n",
       "Suhu3pm                        0.490993                  0.033001   \n",
       "\n",
       "                          KecepatanAngin9am  KecepatanAngin3pm  Kelembaban9am  \\\n",
       "SuhuMin                            0.174358           0.174122      -0.232101   \n",
       "SuhuMax                            0.013632           0.050793      -0.504014   \n",
       "Hujan                              0.087157           0.059562       0.223661   \n",
       "Penguapan                          0.188950           0.128217      -0.499698   \n",
       "SinarMatahari                      0.002004           0.051812      -0.489242   \n",
       "KecepatanAnginTerkencang           0.604677           0.686629      -0.214062   \n",
       "KecepatanAngin9am                  1.000000           0.518093      -0.272566   \n",
       "KecepatanAngin3pm                  0.518093           1.000000      -0.144640   \n",
       "Kelembaban9am                     -0.272566          -0.144640       1.000000   \n",
       "Kelembaban3pm                     -0.032366           0.016263       0.667101   \n",
       "Tekanan9am                        -0.229197          -0.298189       0.138628   \n",
       "Tekanan3pm                        -0.176461          -0.257869       0.185534   \n",
       "Awan9am                            0.024425           0.050446       0.452897   \n",
       "Awan3pm                            0.051593           0.023239       0.356101   \n",
       "Suhu9am                            0.127675           0.162047      -0.471206   \n",
       "Suhu3pm                            0.004132           0.027859      -0.498840   \n",
       "\n",
       "                          Kelembaban3pm  Tekanan9am  Tekanan3pm   Awan9am  \\\n",
       "SuhuMin                        0.007974   -0.449684   -0.459596  0.077349   \n",
       "SuhuMax                       -0.507921   -0.331431   -0.426012 -0.291573   \n",
       "Hujan                          0.254898   -0.168638   -0.127506  0.195540   \n",
       "Penguapan                     -0.387161   -0.268648   -0.291740 -0.181615   \n",
       "SinarMatahari                 -0.627920    0.041321   -0.020052 -0.676965   \n",
       "KecepatanAnginTerkencang      -0.026049   -0.460665   -0.415953  0.071323   \n",
       "KecepatanAngin9am             -0.032366   -0.229197   -0.176461  0.024425   \n",
       "KecepatanAngin3pm              0.016263   -0.298189   -0.257869  0.050446   \n",
       "Kelembaban9am                  0.667101    0.138628    0.185534  0.452897   \n",
       "Kelembaban3pm                  1.000000   -0.028295    0.050983  0.517553   \n",
       "Tekanan9am                    -0.028295    1.000000    0.961395 -0.128340   \n",
       "Tekanan3pm                     0.050983    0.961395    1.000000 -0.060072   \n",
       "Awan9am                        0.517553   -0.128340   -0.060072  1.000000   \n",
       "Awan3pm                        0.523358   -0.145674   -0.083186  0.602034   \n",
       "Suhu9am                       -0.219775   -0.421864   -0.469039 -0.138669   \n",
       "Suhu3pm                       -0.557240   -0.285568   -0.387910 -0.304298   \n",
       "\n",
       "                           Awan3pm   Suhu9am   Suhu3pm  \n",
       "SuhuMin                   0.021105  0.901208  0.707578  \n",
       "SuhuMax                  -0.279039  0.886984  0.984434  \n",
       "Hujan                     0.170791  0.011781 -0.079160  \n",
       "Penguapan                -0.181563  0.542808  0.570758  \n",
       "SinarMatahari            -0.703482  0.291601  0.490993  \n",
       "KecepatanAnginTerkencang  0.105835  0.150043  0.033001  \n",
       "KecepatanAngin9am         0.051593  0.127675  0.004132  \n",
       "KecepatanAngin3pm         0.023239  0.162047  0.027859  \n",
       "Kelembaban9am             0.356101 -0.471206 -0.498840  \n",
       "Kelembaban3pm             0.523358 -0.219775 -0.557240  \n",
       "Tekanan9am               -0.145674 -0.421864 -0.285568  \n",
       "Tekanan3pm               -0.083186 -0.469039 -0.387910  \n",
       "Awan9am                   0.602034 -0.138669 -0.304298  \n",
       "Awan3pm                   1.000000 -0.126781 -0.318489  \n",
       "Suhu9am                  -0.126781  1.000000  0.860194  \n",
       "Suhu3pm                  -0.318489  0.860194  1.000000  "
      ]
     },
     "execution_count": 36,
     "metadata": {},
     "output_type": "execute_result"
    }
   ],
   "source": [
    "korelasi = df_train.select_dtypes(include = ['float64']).iloc[:, :].corr()\n",
    "korelasi"
   ]
  },
  {
   "cell_type": "code",
   "execution_count": 37,
   "metadata": {},
   "outputs": [
    {
     "data": {
      "image/png": "[encoded data removed]",
      "text/plain": [
       "<Figure size 1080x1080 with 2 Axes>"
      ]
     },
     "metadata": {},
     "output_type": "display_data"
    }
   ],
   "source": [
    "# Visualisasi korelasi\n",
    "plt.figure(figsize=(15, 15))\n",
    "sns.heatmap(korelasi, vmax=1, square=True, fmt='.1g', annot=True)\n",
    "plt.show()"
   ]
  },
  {
   "cell_type": "markdown",
   "metadata": {},
   "source": [
    "## Preprocessing\n",
    "1. Handling Class Imbalance\n",
    "2. Handling Datetime\n",
    "3. Handling missing values\n",
    "4. Handling outliers"
   ]
  },
  {
   "cell_type": "markdown",
   "metadata": {},
   "source": [
    "### Handling Class Imbalance"
   ]
  },
  {
   "cell_type": "code",
   "execution_count": 38,
   "metadata": {},
   "outputs": [],
   "source": [
    "from sklearn.utils import resample\n",
    "\n",
    "tidak = df_train[df_train.BersaljuBesok == 0]\n",
    "ya = df_train[df_train.BersaljuBesok == 1]\n",
    "ya_oversampled = resample(ya, replace=True, n_samples=len(tidak), random_state=123)\n",
    "oversampled = pd.concat([tidak, ya_oversampled])"
   ]
  },
  {
   "cell_type": "code",
   "execution_count": 39,
   "metadata": {},
   "outputs": [
    {
     "data": {
      "image/png": "[encoded data removed]",
      "text/plain": [
       "<Figure size 576x360 with 1 Axes>"
      ]
     },
     "metadata": {},
     "output_type": "display_data"
    }
   ],
   "source": [
    "fig = plt.figure(figsize = (8,5))\n",
    "df_train.BersaljuBesok.value_counts(normalize = True).plot(kind='bar', color= ['skyblue','navy'], alpha = 0.9, rot=0)\n",
    "plt.title('BersaljuBesok Sebelum Oversampling (Imbalanced Dataset)')\n",
    "plt.show()"
   ]
  },
  {
   "cell_type": "code",
   "execution_count": 40,
   "metadata": {},
   "outputs": [
    {
     "data": {
      "image/png": "[encoded data removed]",
      "text/plain": [
       "<Figure size 576x360 with 1 Axes>"
      ]
     },
     "metadata": {},
     "output_type": "display_data"
    }
   ],
   "source": [
    "fig = plt.figure(figsize = (8,5))\n",
    "oversampled.BersaljuBesok.value_counts(normalize = True).plot(kind='bar', color= ['skyblue','navy'], alpha = 0.9, rot=0)\n",
    "plt.title('BersaljuBesok Setelah Oversampling (Balanced Dataset)')\n",
    "plt.show()"
   ]
  },
  {
   "cell_type": "code",
   "execution_count": 41,
   "metadata": {},
   "outputs": [],
   "source": [
    "oversampled.reset_index(drop=True, inplace=True)\n",
    "df_train = oversampled.copy()"
   ]
  },
  {
   "cell_type": "markdown",
   "metadata": {},
   "source": [
    "### Handling Missing Values"
   ]
  },
  {
   "cell_type": "code",
   "execution_count": 42,
   "metadata": {},
   "outputs": [
    {
     "data": {
      "text/plain": [
       "KodeLokasi                 0\n",
       "ArahAnginTerkencang    12498\n",
       "ArahAngin9am           11517\n",
       "ArahAngin3pm            5170\n",
       "BersaljuHariIni         3696\n",
       "dtype: int64"
      ]
     },
     "execution_count": 42,
     "metadata": {},
     "output_type": "execute_result"
    }
   ],
   "source": [
    "# Categorical Train\n",
    "df_train[categorical_train].isnull().sum()"
   ]
  },
  {
   "cell_type": "code",
   "execution_count": 43,
   "metadata": {},
   "outputs": [
    {
     "data": {
      "text/plain": [
       "KodeLokasi                0\n",
       "ArahAnginTerkencang    1281\n",
       "ArahAngin9am           1308\n",
       "ArahAngin3pm            496\n",
       "BersaljuHariIni         387\n",
       "dtype: int64"
      ]
     },
     "execution_count": 43,
     "metadata": {},
     "output_type": "execute_result"
    }
   ],
   "source": [
    "# Categorical Test\n",
    "df_test[categorical_test].isnull().sum()"
   ]
  },
  {
   "cell_type": "code",
   "execution_count": 44,
   "metadata": {},
   "outputs": [],
   "source": [
    "for feature in categorical_train:\n",
    "    if feature != 'KodeLokasi':\n",
    "        modus_train = df_train[feature].mode()\n",
    "        modus_test = df_test[feature].mode()\n",
    "        df_train[feature].fillna(modus_train[0], inplace=True)\n",
    "        df_test[feature].fillna(modus_test[0], inplace=True)"
   ]
  },
  {
   "cell_type": "code",
   "execution_count": 45,
   "metadata": {},
   "outputs": [
    {
     "data": {
      "text/plain": [
       "SuhuMin                      1434\n",
       "SuhuMax                      1060\n",
       "Hujan                        3696\n",
       "Penguapan                   73480\n",
       "SinarMatahari               80868\n",
       "KecepatanAnginTerkencang    12399\n",
       "KecepatanAngin9am            1950\n",
       "KecepatanAngin3pm            3530\n",
       "Kelembaban9am                2995\n",
       "Kelembaban3pm                5234\n",
       "Tekanan9am                  17335\n",
       "Tekanan3pm                  17363\n",
       "Awan9am                     63116\n",
       "Awan3pm                     66407\n",
       "Suhu9am                      1858\n",
       "Suhu3pm                      4083\n",
       "BersaljuBesok                   0\n",
       "Tahun                           0\n",
       "Bulan                           0\n",
       "Hari                            0\n",
       "dtype: int64"
      ]
     },
     "execution_count": 45,
     "metadata": {},
     "output_type": "execute_result"
    }
   ],
   "source": [
    "# Numerical Train\n",
    "df_train[numerical_train].isnull().sum()"
   ]
  },
  {
   "cell_type": "code",
   "execution_count": 46,
   "metadata": {},
   "outputs": [
    {
     "data": {
      "text/plain": [
       "SuhuMin                      165\n",
       "SuhuMax                      165\n",
       "Hujan                        387\n",
       "Penguapan                   7856\n",
       "SinarMatahari               8718\n",
       "KecepatanAnginTerkencang    1274\n",
       "KecepatanAngin9am            198\n",
       "KecepatanAngin3pm            354\n",
       "Kelembaban9am                330\n",
       "Kelembaban3pm                548\n",
       "Tekanan9am                  1865\n",
       "Tekanan3pm                  1853\n",
       "Awan9am                     7042\n",
       "Awan3pm                     7456\n",
       "Suhu9am                      219\n",
       "Suhu3pm                      442\n",
       "BersaljuBesok                  0\n",
       "Tahun                          0\n",
       "Bulan                          0\n",
       "Hari                           0\n",
       "dtype: int64"
      ]
     },
     "execution_count": 46,
     "metadata": {},
     "output_type": "execute_result"
    }
   ],
   "source": [
    "# Numerical Train\n",
    "df_test[numerical_test].isnull().sum()"
   ]
  },
  {
   "cell_type": "code",
   "execution_count": 47,
   "metadata": {},
   "outputs": [],
   "source": [
    "for feature in numerical_train:\n",
    "    if feature != 'BersaljuBesok' and feature != 'Tahun' and feature != 'Bulan' and feature != 'Hari':\n",
    "        mean_train = int(df_train[feature].mean(skipna=True))\n",
    "        mean_test = int(df_test[feature].mean(skipna=True))\n",
    "        df_test[feature].fillna(mean_test, inplace=True)\n",
    "        df_train[feature].fillna(mean_train, inplace=True)"
   ]
  },
  {
   "cell_type": "code",
   "execution_count": 48,
   "metadata": {},
   "outputs": [
    {
     "data": {
      "text/plain": [
       "KodeLokasi                  False\n",
       "SuhuMin                     False\n",
       "SuhuMax                     False\n",
       "Hujan                       False\n",
       "Penguapan                   False\n",
       "SinarMatahari               False\n",
       "ArahAnginTerkencang         False\n",
       "KecepatanAnginTerkencang    False\n",
       "ArahAngin9am                False\n",
       "ArahAngin3pm                False\n",
       "KecepatanAngin9am           False\n",
       "KecepatanAngin3pm           False\n",
       "Kelembaban9am               False\n",
       "Kelembaban3pm               False\n",
       "Tekanan9am                  False\n",
       "Tekanan3pm                  False\n",
       "Awan9am                     False\n",
       "Awan3pm                     False\n",
       "Suhu9am                     False\n",
       "Suhu3pm                     False\n",
       "BersaljuHariIni             False\n",
       "BersaljuBesok               False\n",
       "Tahun                       False\n",
       "Bulan                       False\n",
       "Hari                        False\n",
       "dtype: bool"
      ]
     },
     "execution_count": 48,
     "metadata": {},
     "output_type": "execute_result"
    }
   ],
   "source": [
    "df_train.isna().any()"
   ]
  },
  {
   "cell_type": "code",
   "execution_count": 49,
   "metadata": {},
   "outputs": [
    {
     "data": {
      "text/plain": [
       "KodeLokasi                  False\n",
       "SuhuMin                     False\n",
       "SuhuMax                     False\n",
       "Hujan                       False\n",
       "Penguapan                   False\n",
       "SinarMatahari               False\n",
       "ArahAnginTerkencang         False\n",
       "KecepatanAnginTerkencang    False\n",
       "ArahAngin9am                False\n",
       "ArahAngin3pm                False\n",
       "KecepatanAngin9am           False\n",
       "KecepatanAngin3pm           False\n",
       "Kelembaban9am               False\n",
       "Kelembaban3pm               False\n",
       "Tekanan9am                  False\n",
       "Tekanan3pm                  False\n",
       "Awan9am                     False\n",
       "Awan3pm                     False\n",
       "Suhu9am                     False\n",
       "Suhu3pm                     False\n",
       "BersaljuHariIni             False\n",
       "BersaljuBesok               False\n",
       "Tahun                       False\n",
       "Bulan                       False\n",
       "Hari                        False\n",
       "dtype: bool"
      ]
     },
     "execution_count": 49,
     "metadata": {},
     "output_type": "execute_result"
    }
   ],
   "source": [
    "df_test.isna().any()"
   ]
  },
  {
   "cell_type": "markdown",
   "metadata": {},
   "source": [
    "Missing values telah dihandle."
   ]
  },
  {
   "cell_type": "markdown",
   "metadata": {},
   "source": [
    "### Handling Outliers\n",
    "1. Data Training\n",
    "2. Data Test"
   ]
  },
  {
   "cell_type": "code",
   "execution_count": 50,
   "metadata": {},
   "outputs": [],
   "source": [
    "def max_value(df, variable, top):\n",
    "    return np.where(df[variable]>top, top, df[variable])"
   ]
  },
  {
   "cell_type": "markdown",
   "metadata": {},
   "source": [
    "#### Data Training"
   ]
  },
  {
   "cell_type": "code",
   "execution_count": 51,
   "metadata": {},
   "outputs": [
    {
     "name": "stdout",
     "output_type": "stream",
     "text": [
      "        SuhuMin   SuhuMax     Hujan  Penguapan  SinarMatahari  \\\n",
      "count  170264.0  170264.0  170264.0   170264.0       170264.0   \n",
      "mean       13.0      22.0       4.0        5.0            6.0   \n",
      "std         6.0       7.0      11.0        3.0            3.0   \n",
      "min        -8.0      -5.0       0.0        0.0            0.0   \n",
      "25%         8.0      17.0       0.0        4.0            6.0   \n",
      "50%        12.0      22.0       0.0        5.0            6.0   \n",
      "75%        17.0      27.0       3.0        5.0            7.0   \n",
      "max        34.0      47.0     371.0      145.0           14.0   \n",
      "\n",
      "       KecepatanAnginTerkencang  KecepatanAngin9am  KecepatanAngin3pm  \\\n",
      "count                  170264.0           170264.0           170264.0   \n",
      "mean                       42.0               15.0               19.0   \n",
      "std                        14.0                9.0                9.0   \n",
      "min                         7.0                0.0                0.0   \n",
      "25%                        33.0                7.0               13.0   \n",
      "50%                        41.0               13.0               19.0   \n",
      "75%                        50.0               20.0               24.0   \n",
      "max                       135.0              130.0               87.0   \n",
      "\n",
      "       Kelembaban9am  Kelembaban3pm  Tekanan9am  Tekanan3pm   Awan9am  \\\n",
      "count       170264.0       170264.0    170264.0    170264.0  170264.0   \n",
      "mean            72.0           58.0      1016.0      1014.0       5.0   \n",
      "std             18.0           21.0         7.0         7.0       2.0   \n",
      "min              0.0            0.0       980.0       978.0       0.0   \n",
      "25%             61.0           43.0      1012.0      1010.0       5.0   \n",
      "50%             73.0           58.0      1016.0      1014.0       5.0   \n",
      "75%             87.0           73.0      1021.0      1018.0       7.0   \n",
      "max            100.0          100.0      1041.0      1040.0       9.0   \n",
      "\n",
      "        Awan3pm   Suhu9am   Suhu3pm  BersaljuBesok     Tahun     Bulan  \\\n",
      "count  170264.0  170264.0  170264.0       170264.0  170264.0  170264.0   \n",
      "mean        5.0      17.0      21.0            0.0    2013.0       6.0   \n",
      "std         2.0       6.0       7.0            1.0       3.0       3.0   \n",
      "min         0.0      -7.0      -5.0            0.0    2007.0       1.0   \n",
      "25%         5.0      12.0      16.0            0.0    2011.0       4.0   \n",
      "50%         5.0      16.0      20.0            0.0    2013.0       6.0   \n",
      "75%         7.0      21.0      25.0            1.0    2015.0       9.0   \n",
      "max         9.0      40.0      47.0            1.0    2017.0      12.0   \n",
      "\n",
      "           Hari  \n",
      "count  170264.0  \n",
      "mean       16.0  \n",
      "std         9.0  \n",
      "min         1.0  \n",
      "25%         8.0  \n",
      "50%        16.0  \n",
      "75%        23.0  \n",
      "max        31.0   2\n"
     ]
    }
   ],
   "source": [
    "print(round(df_train[numerical_train].describe()),2)"
   ]
  },
  {
   "cell_type": "markdown",
   "metadata": {},
   "source": [
    "Bisa dilihat atribut **Hujan**, **Penguapan**, **KecepatanAngin3pm**, dan **KecepatanAngin9am** ada kemungkinan memiliki outliers karena nilai maxnya dengan mean terlalu jauh jaraknya."
   ]
  },
  {
   "cell_type": "code",
   "execution_count": 52,
   "metadata": {},
   "outputs": [
    {
     "data": {
      "text/plain": [
       "Text(0, 0.5, 'KecepatanAngin9am')"
      ]
     },
     "execution_count": 52,
     "metadata": {},
     "output_type": "execute_result"
    },
    {
     "data": {
      "image/png": "[encoded data removed]",
      "text/plain": [
       "<Figure size 1080x720 with 4 Axes>"
      ]
     },
     "metadata": {},
     "output_type": "display_data"
    }
   ],
   "source": [
    "plt.figure(figsize=(15,10))\n",
    "\n",
    "\n",
    "plt.subplot(2, 2, 1)\n",
    "fig = df_train.boxplot(column='Hujan')\n",
    "fig.set_title('')\n",
    "fig.set_ylabel('Hujan')\n",
    "\n",
    "\n",
    "plt.subplot(2, 2, 2)\n",
    "fig = df_train.boxplot(column='Penguapan')\n",
    "fig.set_title('')\n",
    "fig.set_ylabel('Penguapan')\n",
    "\n",
    "\n",
    "plt.subplot(2, 2, 3)\n",
    "fig = df_train.boxplot(column='KecepatanAngin3pm')\n",
    "fig.set_title('')\n",
    "fig.set_ylabel('KecepatanAngin3pm')\n",
    "\n",
    "\n",
    "plt.subplot(2, 2, 4)\n",
    "fig = df_train.boxplot(column='KecepatanAngin9am')\n",
    "fig.set_title('')\n",
    "fig.set_ylabel('KecepatanAngin9am')"
   ]
  },
  {
   "cell_type": "markdown",
   "metadata": {},
   "source": [
    "Dari boxplot terlihat bahwa keempat atribut tersebut memiliki outliers."
   ]
  },
  {
   "cell_type": "code",
   "execution_count": 53,
   "metadata": {},
   "outputs": [
    {
     "name": "stdout",
     "output_type": "stream",
     "text": [
      "Nilai outliers Hujan adalah < -8.399999999999999 or > 11.2\n",
      "Nilai outliers Penguapan adalah < 0.1999999999999993 or > 8.600000000000001\n",
      "Nilai outliers KecepatanAngin9am adalah < -32.0 or > 59.0\n",
      "Nilai outliers KecepatanAngin3pm adalah < -20.0 or > 57.0\n"
     ]
    }
   ],
   "source": [
    "num_outliers = ['Hujan', 'Penguapan', 'KecepatanAngin9am', 'KecepatanAngin3pm']\n",
    "for feature in num_outliers:\n",
    "    IQR = df_train[feature].quantile(0.75) - df_train[feature].quantile(0.25)\n",
    "    Lower_fence = df_train[feature].quantile(0.25) - (IQR * 3)\n",
    "    Upper_fence = df_train[feature].quantile(0.75) + (IQR * 3)\n",
    "    print('Nilai outliers {column} adalah < {lowerboundary} or > {upperboundary}'.format(column=feature, lowerboundary=Lower_fence, upperboundary=Upper_fence))"
   ]
  },
  {
   "cell_type": "markdown",
   "metadata": {},
   "source": [
    "Nilai diatas adalah nilai Upper dan Lower **Outer** Fence dari atribut yang memiliki outliers."
   ]
  },
  {
   "cell_type": "code",
   "execution_count": 54,
   "metadata": {},
   "outputs": [],
   "source": [
    "df_train['Hujan'] = max_value(df_train, 'Hujan', 11.2)\n",
    "df_train['Penguapan'] = max_value(df_train, 'Penguapan', 8.6)\n",
    "df_train['KecepatanAngin9am'] = max_value(df_train, 'KecepatanAngin9am', 59)\n",
    "df_train['KecepatanAngin3pm'] = max_value(df_train, 'KecepatanAngin3pm', 57)"
   ]
  },
  {
   "cell_type": "markdown",
   "metadata": {},
   "source": [
    "#### Data Testing"
   ]
  },
  {
   "cell_type": "code",
   "execution_count": 55,
   "metadata": {},
   "outputs": [
    {
     "name": "stdout",
     "output_type": "stream",
     "text": [
      "       SuhuMin  SuhuMax    Hujan  Penguapan  SinarMatahari  \\\n",
      "count  18182.0  18182.0  18182.0    18182.0        18182.0   \n",
      "mean      12.0     23.0      2.0        5.0            7.0   \n",
      "std        6.0      7.0      8.0        3.0            3.0   \n",
      "min       -8.0     -2.0      0.0        0.0            0.0   \n",
      "25%        8.0     18.0      0.0        4.0            7.0   \n",
      "50%       12.0     23.0      0.0        5.0            7.0   \n",
      "75%       17.0     28.0      1.0        5.0            9.0   \n",
      "max       31.0     48.0    247.0       69.0           14.0   \n",
      "\n",
      "       KecepatanAnginTerkencang  KecepatanAngin9am  KecepatanAngin3pm  \\\n",
      "count                   18182.0            18182.0            18182.0   \n",
      "mean                       40.0               14.0               19.0   \n",
      "std                        13.0                9.0                9.0   \n",
      "min                         6.0                0.0                0.0   \n",
      "25%                        31.0                7.0               13.0   \n",
      "50%                        39.0               13.0               18.0   \n",
      "75%                        46.0               19.0               24.0   \n",
      "max                       122.0               83.0               83.0   \n",
      "\n",
      "       Kelembaban9am  Kelembaban3pm  Tekanan9am  Tekanan3pm  Awan9am  Awan3pm  \\\n",
      "count        18182.0        18182.0     18182.0     18182.0  18182.0  18182.0   \n",
      "mean            69.0           51.0      1018.0      1015.0      4.0      4.0   \n",
      "std             19.0           20.0         7.0         7.0      2.0      2.0   \n",
      "min              2.0            1.0       982.0       984.0      0.0      0.0   \n",
      "25%             57.0           37.0      1014.0      1011.0      3.0      4.0   \n",
      "50%             69.0           51.0      1017.0      1015.0      4.0      4.0   \n",
      "75%             83.0           65.0      1022.0      1019.0      6.0      6.0   \n",
      "max            100.0          100.0      1041.0      1038.0      8.0      8.0   \n",
      "\n",
      "       Suhu9am  Suhu3pm  BersaljuBesok    Tahun    Bulan     Hari  \n",
      "count  18182.0  18182.0        18182.0  18182.0  18182.0  18182.0  \n",
      "mean      17.0     22.0            0.0   2013.0      6.0     16.0  \n",
      "std        6.0      7.0            0.0      3.0      3.0      9.0  \n",
      "min       -5.0     -4.0            0.0   2007.0      1.0      1.0  \n",
      "25%       12.0     17.0            0.0   2011.0      3.0      8.0  \n",
      "50%       17.0     21.0            0.0   2013.0      6.0     16.0  \n",
      "75%       22.0     26.0            0.0   2015.0      9.0     23.0  \n",
      "max       38.0     46.0            1.0   2017.0     12.0     31.0   2\n"
     ]
    }
   ],
   "source": [
    "print(round(df_test[numerical_test].describe()),2)"
   ]
  },
  {
   "cell_type": "markdown",
   "metadata": {},
   "source": [
    "Bisa dilihat atribut **Hujan**, **Penguapan**, **KecepatanAngin3pm**, dan **KecepatanAngin9am** ada kemungkinan memiliki outliers karena nilai maxnya dengan mean terlalu jauh jaraknya."
   ]
  },
  {
   "cell_type": "code",
   "execution_count": 56,
   "metadata": {},
   "outputs": [
    {
     "data": {
      "text/plain": [
       "Text(0, 0.5, 'KecepatanAngin9am')"
      ]
     },
     "execution_count": 56,
     "metadata": {},
     "output_type": "execute_result"
    },
    {
     "data": {
      "image/png": "[encoded data removed]",
      "text/plain": [
       "<Figure size 1080x720 with 4 Axes>"
      ]
     },
     "metadata": {},
     "output_type": "display_data"
    }
   ],
   "source": [
    "plt.figure(figsize=(15,10))\n",
    "\n",
    "\n",
    "plt.subplot(2, 2, 1)\n",
    "fig = df_test.boxplot(column='Hujan')\n",
    "fig.set_title('')\n",
    "fig.set_ylabel('Hujan')\n",
    "\n",
    "\n",
    "plt.subplot(2, 2, 2)\n",
    "fig = df_test.boxplot(column='Penguapan')\n",
    "fig.set_title('')\n",
    "fig.set_ylabel('Penguapan')\n",
    "\n",
    "\n",
    "plt.subplot(2, 2, 3)\n",
    "fig = df_test.boxplot(column='KecepatanAngin3pm')\n",
    "fig.set_title('')\n",
    "fig.set_ylabel('KecepatanAngin3pm')\n",
    "\n",
    "\n",
    "plt.subplot(2, 2, 4)\n",
    "fig = df_test.boxplot(column='KecepatanAngin9am')\n",
    "fig.set_title('')\n",
    "fig.set_ylabel('KecepatanAngin9am')"
   ]
  },
  {
   "cell_type": "markdown",
   "metadata": {},
   "source": [
    "Dari boxplot terlihat bahwa keempat atribut tersebut memiliki outliers."
   ]
  },
  {
   "cell_type": "code",
   "execution_count": 57,
   "metadata": {},
   "outputs": [
    {
     "name": "stdout",
     "output_type": "stream",
     "text": [
      "Nilai outliers Hujan adalah < -3.0 or > 4.0\n",
      "Nilai outliers Penguapan adalah < 0.5999999999999996 or > 9.0\n",
      "Nilai outliers KecepatanAngin9am adalah < -29.0 or > 55.0\n",
      "Nilai outliers KecepatanAngin3pm adalah < -20.0 or > 57.0\n"
     ]
    }
   ],
   "source": [
    "num_outliers = ['Hujan', 'Penguapan', 'KecepatanAngin9am', 'KecepatanAngin3pm']\n",
    "for feature in num_outliers:\n",
    "    IQR = df_test[feature].quantile(0.75) - df_test[feature].quantile(0.25)\n",
    "    Lower_fence = df_test[feature].quantile(0.25) - (IQR * 3)\n",
    "    Upper_fence = df_test[feature].quantile(0.75) + (IQR * 3)\n",
    "    print('Nilai outliers {column} adalah < {lowerboundary} or > {upperboundary}'.format(column=feature, lowerboundary=Lower_fence, upperboundary=Upper_fence))"
   ]
  },
  {
   "cell_type": "markdown",
   "metadata": {},
   "source": [
    "Nilai diatas adalah nilai Upper dan Lower **Outer** Fence dari atribut yang memiliki outliers."
   ]
  },
  {
   "cell_type": "code",
   "execution_count": 58,
   "metadata": {},
   "outputs": [],
   "source": [
    "df_test['Hujan'] = max_value(df_test, 'Hujan', 4)\n",
    "df_test['Penguapan'] = max_value(df_test, 'Penguapan', 9)\n",
    "df_test['KecepatanAngin9am'] = max_value(df_test, 'KecepatanAngin9am', 55)\n",
    "df_test['KecepatanAngin3pm'] = max_value(df_test, 'KecepatanAngin3pm', 57)"
   ]
  },
  {
   "cell_type": "code",
   "execution_count": 59,
   "metadata": {},
   "outputs": [
    {
     "data": {
      "text/html": [
       "<div>\n",
       "<style scoped>\n",
       "    .dataframe tbody tr th:only-of-type {\n",
       "        vertical-align: middle;\n",
       "    }\n",
       "\n",
       "    .dataframe tbody tr th {\n",
       "        vertical-align: top;\n",
       "    }\n",
       "\n",
       "    .dataframe thead th {\n",
       "        text-align: right;\n",
       "    }\n",
       "</style>\n",
       "<table border=\"1\" class=\"dataframe\">\n",
       "  <thead>\n",
       "    <tr style=\"text-align: right;\">\n",
       "      <th></th>\n",
       "      <th>SuhuMin</th>\n",
       "      <th>SuhuMax</th>\n",
       "      <th>Hujan</th>\n",
       "      <th>Penguapan</th>\n",
       "      <th>SinarMatahari</th>\n",
       "      <th>KecepatanAnginTerkencang</th>\n",
       "      <th>KecepatanAngin9am</th>\n",
       "      <th>KecepatanAngin3pm</th>\n",
       "      <th>Kelembaban9am</th>\n",
       "      <th>Kelembaban3pm</th>\n",
       "      <th>Tekanan9am</th>\n",
       "      <th>Tekanan3pm</th>\n",
       "      <th>Awan9am</th>\n",
       "      <th>Awan3pm</th>\n",
       "      <th>Suhu9am</th>\n",
       "      <th>Suhu3pm</th>\n",
       "      <th>BersaljuBesok</th>\n",
       "      <th>Tahun</th>\n",
       "      <th>Bulan</th>\n",
       "      <th>Hari</th>\n",
       "    </tr>\n",
       "  </thead>\n",
       "  <tbody>\n",
       "    <tr>\n",
       "      <th>count</th>\n",
       "      <td>170264.000000</td>\n",
       "      <td>170264.000000</td>\n",
       "      <td>170264.000000</td>\n",
       "      <td>170264.000000</td>\n",
       "      <td>170264.000000</td>\n",
       "      <td>170264.000000</td>\n",
       "      <td>170264.000000</td>\n",
       "      <td>170264.000000</td>\n",
       "      <td>170264.000000</td>\n",
       "      <td>170264.000000</td>\n",
       "      <td>170264.000000</td>\n",
       "      <td>170264.000000</td>\n",
       "      <td>170264.000000</td>\n",
       "      <td>170264.000000</td>\n",
       "      <td>170264.000000</td>\n",
       "      <td>170264.000000</td>\n",
       "      <td>170264.000000</td>\n",
       "      <td>170264.000000</td>\n",
       "      <td>170264.000000</td>\n",
       "      <td>170264.000000</td>\n",
       "    </tr>\n",
       "    <tr>\n",
       "      <th>mean</th>\n",
       "      <td>12.532572</td>\n",
       "      <td>22.436198</td>\n",
       "      <td>2.141621</td>\n",
       "      <td>4.791884</td>\n",
       "      <td>6.241552</td>\n",
       "      <td>42.169537</td>\n",
       "      <td>14.607944</td>\n",
       "      <td>19.202415</td>\n",
       "      <td>72.148499</td>\n",
       "      <td>57.774362</td>\n",
       "      <td>1016.429215</td>\n",
       "      <td>1014.173244</td>\n",
       "      <td>5.042487</td>\n",
       "      <td>5.124753</td>\n",
       "      <td>16.855265</td>\n",
       "      <td>20.744339</td>\n",
       "      <td>0.500000</td>\n",
       "      <td>2012.738036</td>\n",
       "      <td>6.451440</td>\n",
       "      <td>15.749013</td>\n",
       "    </tr>\n",
       "    <tr>\n",
       "      <th>std</th>\n",
       "      <td>6.349268</td>\n",
       "      <td>7.072702</td>\n",
       "      <td>3.665111</td>\n",
       "      <td>1.961501</td>\n",
       "      <td>2.859395</td>\n",
       "      <td>14.224445</td>\n",
       "      <td>9.160048</td>\n",
       "      <td>9.114112</td>\n",
       "      <td>18.360190</td>\n",
       "      <td>21.475354</td>\n",
       "      <td>6.981303</td>\n",
       "      <td>6.922607</td>\n",
       "      <td>2.197844</td>\n",
       "      <td>2.043858</td>\n",
       "      <td>6.402578</td>\n",
       "      <td>6.838690</td>\n",
       "      <td>0.500001</td>\n",
       "      <td>2.536960</td>\n",
       "      <td>3.402407</td>\n",
       "      <td>8.818376</td>\n",
       "    </tr>\n",
       "    <tr>\n",
       "      <th>min</th>\n",
       "      <td>-8.500000</td>\n",
       "      <td>-4.800000</td>\n",
       "      <td>0.000000</td>\n",
       "      <td>0.000000</td>\n",
       "      <td>0.000000</td>\n",
       "      <td>7.000000</td>\n",
       "      <td>0.000000</td>\n",
       "      <td>0.000000</td>\n",
       "      <td>0.000000</td>\n",
       "      <td>0.000000</td>\n",
       "      <td>980.500000</td>\n",
       "      <td>978.200000</td>\n",
       "      <td>0.000000</td>\n",
       "      <td>0.000000</td>\n",
       "      <td>-7.200000</td>\n",
       "      <td>-5.400000</td>\n",
       "      <td>0.000000</td>\n",
       "      <td>2007.000000</td>\n",
       "      <td>1.000000</td>\n",
       "      <td>1.000000</td>\n",
       "    </tr>\n",
       "    <tr>\n",
       "      <th>25%</th>\n",
       "      <td>8.000000</td>\n",
       "      <td>17.200000</td>\n",
       "      <td>0.000000</td>\n",
       "      <td>3.800000</td>\n",
       "      <td>6.000000</td>\n",
       "      <td>33.000000</td>\n",
       "      <td>7.000000</td>\n",
       "      <td>13.000000</td>\n",
       "      <td>61.000000</td>\n",
       "      <td>43.000000</td>\n",
       "      <td>1012.300000</td>\n",
       "      <td>1009.900000</td>\n",
       "      <td>5.000000</td>\n",
       "      <td>5.000000</td>\n",
       "      <td>12.200000</td>\n",
       "      <td>15.800000</td>\n",
       "      <td>0.000000</td>\n",
       "      <td>2011.000000</td>\n",
       "      <td>4.000000</td>\n",
       "      <td>8.000000</td>\n",
       "    </tr>\n",
       "    <tr>\n",
       "      <th>50%</th>\n",
       "      <td>12.200000</td>\n",
       "      <td>21.800000</td>\n",
       "      <td>0.000000</td>\n",
       "      <td>5.000000</td>\n",
       "      <td>6.000000</td>\n",
       "      <td>41.000000</td>\n",
       "      <td>13.000000</td>\n",
       "      <td>19.000000</td>\n",
       "      <td>73.000000</td>\n",
       "      <td>58.000000</td>\n",
       "      <td>1016.000000</td>\n",
       "      <td>1014.000000</td>\n",
       "      <td>5.000000</td>\n",
       "      <td>5.000000</td>\n",
       "      <td>16.400000</td>\n",
       "      <td>20.000000</td>\n",
       "      <td>0.500000</td>\n",
       "      <td>2013.000000</td>\n",
       "      <td>6.000000</td>\n",
       "      <td>16.000000</td>\n",
       "    </tr>\n",
       "    <tr>\n",
       "      <th>75%</th>\n",
       "      <td>17.200000</td>\n",
       "      <td>27.300000</td>\n",
       "      <td>2.800000</td>\n",
       "      <td>5.000000</td>\n",
       "      <td>7.100000</td>\n",
       "      <td>50.000000</td>\n",
       "      <td>20.000000</td>\n",
       "      <td>24.000000</td>\n",
       "      <td>87.000000</td>\n",
       "      <td>73.000000</td>\n",
       "      <td>1020.800000</td>\n",
       "      <td>1018.500000</td>\n",
       "      <td>7.000000</td>\n",
       "      <td>7.000000</td>\n",
       "      <td>21.300000</td>\n",
       "      <td>25.300000</td>\n",
       "      <td>1.000000</td>\n",
       "      <td>2015.000000</td>\n",
       "      <td>9.000000</td>\n",
       "      <td>23.000000</td>\n",
       "    </tr>\n",
       "    <tr>\n",
       "      <th>max</th>\n",
       "      <td>33.900000</td>\n",
       "      <td>47.300000</td>\n",
       "      <td>11.200000</td>\n",
       "      <td>8.600000</td>\n",
       "      <td>14.300000</td>\n",
       "      <td>135.000000</td>\n",
       "      <td>59.000000</td>\n",
       "      <td>57.000000</td>\n",
       "      <td>100.000000</td>\n",
       "      <td>100.000000</td>\n",
       "      <td>1041.000000</td>\n",
       "      <td>1039.600000</td>\n",
       "      <td>9.000000</td>\n",
       "      <td>9.000000</td>\n",
       "      <td>40.200000</td>\n",
       "      <td>46.700000</td>\n",
       "      <td>1.000000</td>\n",
       "      <td>2017.000000</td>\n",
       "      <td>12.000000</td>\n",
       "      <td>31.000000</td>\n",
       "    </tr>\n",
       "  </tbody>\n",
       "</table>\n",
       "</div>"
      ],
      "text/plain": [
       "             SuhuMin        SuhuMax          Hujan      Penguapan  \\\n",
       "count  170264.000000  170264.000000  170264.000000  170264.000000   \n",
       "mean       12.532572      22.436198       2.141621       4.791884   \n",
       "std         6.349268       7.072702       3.665111       1.961501   \n",
       "min        -8.500000      -4.800000       0.000000       0.000000   \n",
       "25%         8.000000      17.200000       0.000000       3.800000   \n",
       "50%        12.200000      21.800000       0.000000       5.000000   \n",
       "75%        17.200000      27.300000       2.800000       5.000000   \n",
       "max        33.900000      47.300000      11.200000       8.600000   \n",
       "\n",
       "       SinarMatahari  KecepatanAnginTerkencang  KecepatanAngin9am  \\\n",
       "count  170264.000000             170264.000000      170264.000000   \n",
       "mean        6.241552                 42.169537          14.607944   \n",
       "std         2.859395                 14.224445           9.160048   \n",
       "min         0.000000                  7.000000           0.000000   \n",
       "25%         6.000000                 33.000000           7.000000   \n",
       "50%         6.000000                 41.000000          13.000000   \n",
       "75%         7.100000                 50.000000          20.000000   \n",
       "max        14.300000                135.000000          59.000000   \n",
       "\n",
       "       KecepatanAngin3pm  Kelembaban9am  Kelembaban3pm     Tekanan9am  \\\n",
       "count      170264.000000  170264.000000  170264.000000  170264.000000   \n",
       "mean           19.202415      72.148499      57.774362    1016.429215   \n",
       "std             9.114112      18.360190      21.475354       6.981303   \n",
       "min             0.000000       0.000000       0.000000     980.500000   \n",
       "25%            13.000000      61.000000      43.000000    1012.300000   \n",
       "50%            19.000000      73.000000      58.000000    1016.000000   \n",
       "75%            24.000000      87.000000      73.000000    1020.800000   \n",
       "max            57.000000     100.000000     100.000000    1041.000000   \n",
       "\n",
       "          Tekanan3pm        Awan9am        Awan3pm        Suhu9am  \\\n",
       "count  170264.000000  170264.000000  170264.000000  170264.000000   \n",
       "mean     1014.173244       5.042487       5.124753      16.855265   \n",
       "std         6.922607       2.197844       2.043858       6.402578   \n",
       "min       978.200000       0.000000       0.000000      -7.200000   \n",
       "25%      1009.900000       5.000000       5.000000      12.200000   \n",
       "50%      1014.000000       5.000000       5.000000      16.400000   \n",
       "75%      1018.500000       7.000000       7.000000      21.300000   \n",
       "max      1039.600000       9.000000       9.000000      40.200000   \n",
       "\n",
       "             Suhu3pm  BersaljuBesok          Tahun          Bulan  \\\n",
       "count  170264.000000  170264.000000  170264.000000  170264.000000   \n",
       "mean       20.744339       0.500000    2012.738036       6.451440   \n",
       "std         6.838690       0.500001       2.536960       3.402407   \n",
       "min        -5.400000       0.000000    2007.000000       1.000000   \n",
       "25%        15.800000       0.000000    2011.000000       4.000000   \n",
       "50%        20.000000       0.500000    2013.000000       6.000000   \n",
       "75%        25.300000       1.000000    2015.000000       9.000000   \n",
       "max        46.700000       1.000000    2017.000000      12.000000   \n",
       "\n",
       "                Hari  \n",
       "count  170264.000000  \n",
       "mean       15.749013  \n",
       "std         8.818376  \n",
       "min         1.000000  \n",
       "25%         8.000000  \n",
       "50%        16.000000  \n",
       "75%        23.000000  \n",
       "max        31.000000  "
      ]
     },
     "execution_count": 59,
     "metadata": {},
     "output_type": "execute_result"
    }
   ],
   "source": [
    "df_train.describe()"
   ]
  },
  {
   "cell_type": "code",
   "execution_count": 60,
   "metadata": {},
   "outputs": [
    {
     "data": {
      "text/html": [
       "<div>\n",
       "<style scoped>\n",
       "    .dataframe tbody tr th:only-of-type {\n",
       "        vertical-align: middle;\n",
       "    }\n",
       "\n",
       "    .dataframe tbody tr th {\n",
       "        vertical-align: top;\n",
       "    }\n",
       "\n",
       "    .dataframe thead th {\n",
       "        text-align: right;\n",
       "    }\n",
       "</style>\n",
       "<table border=\"1\" class=\"dataframe\">\n",
       "  <thead>\n",
       "    <tr style=\"text-align: right;\">\n",
       "      <th></th>\n",
       "      <th>SuhuMin</th>\n",
       "      <th>SuhuMax</th>\n",
       "      <th>Hujan</th>\n",
       "      <th>Penguapan</th>\n",
       "      <th>SinarMatahari</th>\n",
       "      <th>KecepatanAnginTerkencang</th>\n",
       "      <th>KecepatanAngin9am</th>\n",
       "      <th>KecepatanAngin3pm</th>\n",
       "      <th>Kelembaban9am</th>\n",
       "      <th>Kelembaban3pm</th>\n",
       "      <th>Tekanan9am</th>\n",
       "      <th>Tekanan3pm</th>\n",
       "      <th>Awan9am</th>\n",
       "      <th>Awan3pm</th>\n",
       "      <th>Suhu9am</th>\n",
       "      <th>Suhu3pm</th>\n",
       "      <th>BersaljuBesok</th>\n",
       "      <th>Tahun</th>\n",
       "      <th>Bulan</th>\n",
       "      <th>Hari</th>\n",
       "    </tr>\n",
       "  </thead>\n",
       "  <tbody>\n",
       "    <tr>\n",
       "      <th>count</th>\n",
       "      <td>18182.000000</td>\n",
       "      <td>18182.000000</td>\n",
       "      <td>18182.000000</td>\n",
       "      <td>18182.000000</td>\n",
       "      <td>18182.000000</td>\n",
       "      <td>18182.000000</td>\n",
       "      <td>18182.000000</td>\n",
       "      <td>18182.000000</td>\n",
       "      <td>18182.000000</td>\n",
       "      <td>18182.000000</td>\n",
       "      <td>18182.000000</td>\n",
       "      <td>18182.000000</td>\n",
       "      <td>18182.000000</td>\n",
       "      <td>18182.000000</td>\n",
       "      <td>18182.000000</td>\n",
       "      <td>18182.000000</td>\n",
       "      <td>18182.000000</td>\n",
       "      <td>18182.000000</td>\n",
       "      <td>18182.000000</td>\n",
       "      <td>18182.000000</td>\n",
       "    </tr>\n",
       "    <tr>\n",
       "      <th>mean</th>\n",
       "      <td>12.231042</td>\n",
       "      <td>23.292922</td>\n",
       "      <td>0.812067</td>\n",
       "      <td>4.990727</td>\n",
       "      <td>7.327995</td>\n",
       "      <td>39.905841</td>\n",
       "      <td>13.956935</td>\n",
       "      <td>18.570289</td>\n",
       "      <td>68.777307</td>\n",
       "      <td>51.425586</td>\n",
       "      <td>1017.504048</td>\n",
       "      <td>1015.162611</td>\n",
       "      <td>4.275602</td>\n",
       "      <td>4.293972</td>\n",
       "      <td>17.048356</td>\n",
       "      <td>21.755582</td>\n",
       "      <td>0.216643</td>\n",
       "      <td>2012.779452</td>\n",
       "      <td>6.424266</td>\n",
       "      <td>15.574469</td>\n",
       "    </tr>\n",
       "    <tr>\n",
       "      <th>std</th>\n",
       "      <td>6.403833</td>\n",
       "      <td>7.124486</td>\n",
       "      <td>1.419686</td>\n",
       "      <td>2.036255</td>\n",
       "      <td>2.756909</td>\n",
       "      <td>13.012771</td>\n",
       "      <td>8.756863</td>\n",
       "      <td>8.643314</td>\n",
       "      <td>18.984231</td>\n",
       "      <td>20.483514</td>\n",
       "      <td>6.772925</td>\n",
       "      <td>6.702776</td>\n",
       "      <td>2.273233</td>\n",
       "      <td>2.107419</td>\n",
       "      <td>6.485144</td>\n",
       "      <td>6.893782</td>\n",
       "      <td>0.411969</td>\n",
       "      <td>2.551376</td>\n",
       "      <td>3.439253</td>\n",
       "      <td>8.830499</td>\n",
       "    </tr>\n",
       "    <tr>\n",
       "      <th>min</th>\n",
       "      <td>-7.600000</td>\n",
       "      <td>-2.500000</td>\n",
       "      <td>0.000000</td>\n",
       "      <td>0.000000</td>\n",
       "      <td>0.000000</td>\n",
       "      <td>6.000000</td>\n",
       "      <td>0.000000</td>\n",
       "      <td>0.000000</td>\n",
       "      <td>2.000000</td>\n",
       "      <td>1.000000</td>\n",
       "      <td>982.300000</td>\n",
       "      <td>984.500000</td>\n",
       "      <td>0.000000</td>\n",
       "      <td>0.000000</td>\n",
       "      <td>-5.200000</td>\n",
       "      <td>-3.700000</td>\n",
       "      <td>0.000000</td>\n",
       "      <td>2007.000000</td>\n",
       "      <td>1.000000</td>\n",
       "      <td>1.000000</td>\n",
       "    </tr>\n",
       "    <tr>\n",
       "      <th>25%</th>\n",
       "      <td>7.700000</td>\n",
       "      <td>18.000000</td>\n",
       "      <td>0.000000</td>\n",
       "      <td>4.200000</td>\n",
       "      <td>7.000000</td>\n",
       "      <td>31.000000</td>\n",
       "      <td>7.000000</td>\n",
       "      <td>13.000000</td>\n",
       "      <td>57.000000</td>\n",
       "      <td>37.000000</td>\n",
       "      <td>1013.500000</td>\n",
       "      <td>1010.900000</td>\n",
       "      <td>3.000000</td>\n",
       "      <td>4.000000</td>\n",
       "      <td>12.400000</td>\n",
       "      <td>16.800000</td>\n",
       "      <td>0.000000</td>\n",
       "      <td>2011.000000</td>\n",
       "      <td>3.000000</td>\n",
       "      <td>8.000000</td>\n",
       "    </tr>\n",
       "    <tr>\n",
       "      <th>50%</th>\n",
       "      <td>12.000000</td>\n",
       "      <td>22.800000</td>\n",
       "      <td>0.000000</td>\n",
       "      <td>5.000000</td>\n",
       "      <td>7.000000</td>\n",
       "      <td>39.000000</td>\n",
       "      <td>13.000000</td>\n",
       "      <td>18.000000</td>\n",
       "      <td>69.000000</td>\n",
       "      <td>51.000000</td>\n",
       "      <td>1017.000000</td>\n",
       "      <td>1015.000000</td>\n",
       "      <td>4.000000</td>\n",
       "      <td>4.000000</td>\n",
       "      <td>16.900000</td>\n",
       "      <td>21.000000</td>\n",
       "      <td>0.000000</td>\n",
       "      <td>2013.000000</td>\n",
       "      <td>6.000000</td>\n",
       "      <td>16.000000</td>\n",
       "    </tr>\n",
       "    <tr>\n",
       "      <th>75%</th>\n",
       "      <td>16.900000</td>\n",
       "      <td>28.300000</td>\n",
       "      <td>1.000000</td>\n",
       "      <td>5.400000</td>\n",
       "      <td>8.700000</td>\n",
       "      <td>46.000000</td>\n",
       "      <td>19.000000</td>\n",
       "      <td>24.000000</td>\n",
       "      <td>83.000000</td>\n",
       "      <td>65.000000</td>\n",
       "      <td>1021.700000</td>\n",
       "      <td>1019.300000</td>\n",
       "      <td>6.000000</td>\n",
       "      <td>6.000000</td>\n",
       "      <td>21.600000</td>\n",
       "      <td>26.400000</td>\n",
       "      <td>0.000000</td>\n",
       "      <td>2015.000000</td>\n",
       "      <td>9.000000</td>\n",
       "      <td>23.000000</td>\n",
       "    </tr>\n",
       "    <tr>\n",
       "      <th>max</th>\n",
       "      <td>31.400000</td>\n",
       "      <td>48.100000</td>\n",
       "      <td>4.000000</td>\n",
       "      <td>9.000000</td>\n",
       "      <td>14.500000</td>\n",
       "      <td>122.000000</td>\n",
       "      <td>55.000000</td>\n",
       "      <td>57.000000</td>\n",
       "      <td>100.000000</td>\n",
       "      <td>100.000000</td>\n",
       "      <td>1040.600000</td>\n",
       "      <td>1038.400000</td>\n",
       "      <td>8.000000</td>\n",
       "      <td>8.000000</td>\n",
       "      <td>37.700000</td>\n",
       "      <td>46.100000</td>\n",
       "      <td>1.000000</td>\n",
       "      <td>2017.000000</td>\n",
       "      <td>12.000000</td>\n",
       "      <td>31.000000</td>\n",
       "    </tr>\n",
       "  </tbody>\n",
       "</table>\n",
       "</div>"
      ],
      "text/plain": [
       "            SuhuMin       SuhuMax         Hujan     Penguapan  SinarMatahari  \\\n",
       "count  18182.000000  18182.000000  18182.000000  18182.000000   18182.000000   \n",
       "mean      12.231042     23.292922      0.812067      4.990727       7.327995   \n",
       "std        6.403833      7.124486      1.419686      2.036255       2.756909   \n",
       "min       -7.600000     -2.500000      0.000000      0.000000       0.000000   \n",
       "25%        7.700000     18.000000      0.000000      4.200000       7.000000   \n",
       "50%       12.000000     22.800000      0.000000      5.000000       7.000000   \n",
       "75%       16.900000     28.300000      1.000000      5.400000       8.700000   \n",
       "max       31.400000     48.100000      4.000000      9.000000      14.500000   \n",
       "\n",
       "       KecepatanAnginTerkencang  KecepatanAngin9am  KecepatanAngin3pm  \\\n",
       "count              18182.000000       18182.000000       18182.000000   \n",
       "mean                  39.905841          13.956935          18.570289   \n",
       "std                   13.012771           8.756863           8.643314   \n",
       "min                    6.000000           0.000000           0.000000   \n",
       "25%                   31.000000           7.000000          13.000000   \n",
       "50%                   39.000000          13.000000          18.000000   \n",
       "75%                   46.000000          19.000000          24.000000   \n",
       "max                  122.000000          55.000000          57.000000   \n",
       "\n",
       "       Kelembaban9am  Kelembaban3pm    Tekanan9am    Tekanan3pm       Awan9am  \\\n",
       "count   18182.000000   18182.000000  18182.000000  18182.000000  18182.000000   \n",
       "mean       68.777307      51.425586   1017.504048   1015.162611      4.275602   \n",
       "std        18.984231      20.483514      6.772925      6.702776      2.273233   \n",
       "min         2.000000       1.000000    982.300000    984.500000      0.000000   \n",
       "25%        57.000000      37.000000   1013.500000   1010.900000      3.000000   \n",
       "50%        69.000000      51.000000   1017.000000   1015.000000      4.000000   \n",
       "75%        83.000000      65.000000   1021.700000   1019.300000      6.000000   \n",
       "max       100.000000     100.000000   1040.600000   1038.400000      8.000000   \n",
       "\n",
       "            Awan3pm       Suhu9am       Suhu3pm  BersaljuBesok         Tahun  \\\n",
       "count  18182.000000  18182.000000  18182.000000   18182.000000  18182.000000   \n",
       "mean       4.293972     17.048356     21.755582       0.216643   2012.779452   \n",
       "std        2.107419      6.485144      6.893782       0.411969      2.551376   \n",
       "min        0.000000     -5.200000     -3.700000       0.000000   2007.000000   \n",
       "25%        4.000000     12.400000     16.800000       0.000000   2011.000000   \n",
       "50%        4.000000     16.900000     21.000000       0.000000   2013.000000   \n",
       "75%        6.000000     21.600000     26.400000       0.000000   2015.000000   \n",
       "max        8.000000     37.700000     46.100000       1.000000   2017.000000   \n",
       "\n",
       "              Bulan          Hari  \n",
       "count  18182.000000  18182.000000  \n",
       "mean       6.424266     15.574469  \n",
       "std        3.439253      8.830499  \n",
       "min        1.000000      1.000000  \n",
       "25%        3.000000      8.000000  \n",
       "50%        6.000000     16.000000  \n",
       "75%        9.000000     23.000000  \n",
       "max       12.000000     31.000000  "
      ]
     },
     "execution_count": 60,
     "metadata": {},
     "output_type": "execute_result"
    }
   ],
   "source": [
    "df_test.describe()"
   ]
  },
  {
   "cell_type": "markdown",
   "metadata": {},
   "source": [
    "Outliers telah dihandle."
   ]
  },
  {
   "cell_type": "markdown",
   "metadata": {},
   "source": [
    "### Encode Data"
   ]
  },
  {
   "cell_type": "code",
   "execution_count": 67,
   "metadata": {},
   "outputs": [],
   "source": [
    "# Merubah semua data categorical menjadi numerical di data train salju\n",
    "labelencoder = LabelEncoder()\n",
    "df_train['KodeLokasi'] = labelencoder.fit_transform(df_train['KodeLokasi'])\n",
    "df_train['ArahAnginTerkencang'] = labelencoder.fit_transform(df_train['ArahAnginTerkencang'])\n",
    "df_train['ArahAngin9am'] = labelencoder.fit_transform(df_train['ArahAngin9am'])\n",
    "df_train['ArahAngin3pm'] = labelencoder.fit_transform(df_train['ArahAngin3pm'])\n",
    "df_train['BersaljuHariIni'] = labelencoder.fit_transform(df_train['BersaljuHariIni'])"
   ]
  },
  {
   "cell_type": "code",
   "execution_count": 68,
   "metadata": {},
   "outputs": [
    {
     "data": {
      "text/plain": [
       "KodeLokasi                    int32\n",
       "SuhuMin                     float64\n",
       "SuhuMax                     float64\n",
       "Hujan                       float64\n",
       "Penguapan                   float64\n",
       "SinarMatahari               float64\n",
       "ArahAnginTerkencang           int32\n",
       "KecepatanAnginTerkencang    float64\n",
       "ArahAngin9am                  int32\n",
       "ArahAngin3pm                  int32\n",
       "KecepatanAngin9am           float64\n",
       "KecepatanAngin3pm           float64\n",
       "Kelembaban9am               float64\n",
       "Kelembaban3pm               float64\n",
       "Tekanan9am                  float64\n",
       "Tekanan3pm                  float64\n",
       "Awan9am                     float64\n",
       "Awan3pm                     float64\n",
       "Suhu9am                     float64\n",
       "Suhu3pm                     float64\n",
       "BersaljuHariIni               int32\n",
       "BersaljuBesok                 int64\n",
       "Tahun                         int64\n",
       "Bulan                         int64\n",
       "Hari                          int64\n",
       "dtype: object"
      ]
     },
     "execution_count": 68,
     "metadata": {},
     "output_type": "execute_result"
    }
   ],
   "source": [
    "df_train.dtypes"
   ]
  },
  {
   "cell_type": "code",
   "execution_count": 69,
   "metadata": {},
   "outputs": [],
   "source": [
    "# Merubah semua data categorical menjadi numerical di data test salju\n",
    "df_test['KodeLokasi'] = labelencoder.fit_transform(df_test['KodeLokasi'])\n",
    "df_test['ArahAnginTerkencang'] = labelencoder.fit_transform(df_test['ArahAnginTerkencang'])\n",
    "df_test['ArahAngin9am'] = labelencoder.fit_transform(df_test['ArahAngin9am'])\n",
    "df_test['ArahAngin3pm'] = labelencoder.fit_transform(df_test['ArahAngin3pm'])\n",
    "df_test['BersaljuHariIni'] = labelencoder.fit_transform(df_test['BersaljuHariIni'])"
   ]
  },
  {
   "cell_type": "code",
   "execution_count": 70,
   "metadata": {},
   "outputs": [
    {
     "data": {
      "text/plain": [
       "KodeLokasi                    int32\n",
       "SuhuMin                     float64\n",
       "SuhuMax                     float64\n",
       "Hujan                       float64\n",
       "Penguapan                   float64\n",
       "SinarMatahari               float64\n",
       "ArahAnginTerkencang           int32\n",
       "KecepatanAnginTerkencang    float64\n",
       "ArahAngin9am                  int32\n",
       "ArahAngin3pm                  int32\n",
       "KecepatanAngin9am           float64\n",
       "KecepatanAngin3pm           float64\n",
       "Kelembaban9am               float64\n",
       "Kelembaban3pm               float64\n",
       "Tekanan9am                  float64\n",
       "Tekanan3pm                  float64\n",
       "Awan9am                     float64\n",
       "Awan3pm                     float64\n",
       "Suhu9am                     float64\n",
       "Suhu3pm                     float64\n",
       "BersaljuHariIni               int32\n",
       "BersaljuBesok                 int64\n",
       "Tahun                         int64\n",
       "Bulan                         int64\n",
       "Hari                          int64\n",
       "dtype: object"
      ]
     },
     "execution_count": 70,
     "metadata": {},
     "output_type": "execute_result"
    }
   ],
   "source": [
    "df_test.dtypes"
   ]
  },
  {
   "cell_type": "code",
   "execution_count": 71,
   "metadata": {},
   "outputs": [
    {
     "data": {
      "text/html": [
       "<div>\n",
       "<style scoped>\n",
       "    .dataframe tbody tr th:only-of-type {\n",
       "        vertical-align: middle;\n",
       "    }\n",
       "\n",
       "    .dataframe tbody tr th {\n",
       "        vertical-align: top;\n",
       "    }\n",
       "\n",
       "    .dataframe thead th {\n",
       "        text-align: right;\n",
       "    }\n",
       "</style>\n",
       "<table border=\"1\" class=\"dataframe\">\n",
       "  <thead>\n",
       "    <tr style=\"text-align: right;\">\n",
       "      <th></th>\n",
       "      <th>KodeLokasi</th>\n",
       "      <th>SuhuMin</th>\n",
       "      <th>SuhuMax</th>\n",
       "      <th>Hujan</th>\n",
       "      <th>Penguapan</th>\n",
       "      <th>SinarMatahari</th>\n",
       "      <th>ArahAnginTerkencang</th>\n",
       "      <th>KecepatanAnginTerkencang</th>\n",
       "      <th>ArahAngin9am</th>\n",
       "      <th>ArahAngin3pm</th>\n",
       "      <th>...</th>\n",
       "      <th>Tekanan3pm</th>\n",
       "      <th>Awan9am</th>\n",
       "      <th>Awan3pm</th>\n",
       "      <th>Suhu9am</th>\n",
       "      <th>Suhu3pm</th>\n",
       "      <th>BersaljuHariIni</th>\n",
       "      <th>BersaljuBesok</th>\n",
       "      <th>Tahun</th>\n",
       "      <th>Bulan</th>\n",
       "      <th>Hari</th>\n",
       "    </tr>\n",
       "  </thead>\n",
       "  <tbody>\n",
       "    <tr>\n",
       "      <th>0</th>\n",
       "      <td>0.687500</td>\n",
       "      <td>0.445755</td>\n",
       "      <td>0.389635</td>\n",
       "      <td>0.428571</td>\n",
       "      <td>0.581395</td>\n",
       "      <td>0.419580</td>\n",
       "      <td>1.000000</td>\n",
       "      <td>0.132812</td>\n",
       "      <td>0.2</td>\n",
       "      <td>1.000000</td>\n",
       "      <td>...</td>\n",
       "      <td>0.656352</td>\n",
       "      <td>0.555556</td>\n",
       "      <td>0.555556</td>\n",
       "      <td>0.428270</td>\n",
       "      <td>0.391555</td>\n",
       "      <td>1.0</td>\n",
       "      <td>0.0</td>\n",
       "      <td>0.7</td>\n",
       "      <td>0.000000</td>\n",
       "      <td>0.166667</td>\n",
       "    </tr>\n",
       "    <tr>\n",
       "      <th>1</th>\n",
       "      <td>0.833333</td>\n",
       "      <td>0.629717</td>\n",
       "      <td>0.706334</td>\n",
       "      <td>0.000000</td>\n",
       "      <td>0.581395</td>\n",
       "      <td>0.419580</td>\n",
       "      <td>0.133333</td>\n",
       "      <td>0.289062</td>\n",
       "      <td>0.6</td>\n",
       "      <td>0.600000</td>\n",
       "      <td>...</td>\n",
       "      <td>0.583062</td>\n",
       "      <td>0.555556</td>\n",
       "      <td>0.555556</td>\n",
       "      <td>0.654008</td>\n",
       "      <td>0.671785</td>\n",
       "      <td>0.0</td>\n",
       "      <td>0.0</td>\n",
       "      <td>0.4</td>\n",
       "      <td>0.090909</td>\n",
       "      <td>0.500000</td>\n",
       "    </tr>\n",
       "    <tr>\n",
       "      <th>2</th>\n",
       "      <td>0.604167</td>\n",
       "      <td>0.372642</td>\n",
       "      <td>0.562380</td>\n",
       "      <td>0.000000</td>\n",
       "      <td>0.976744</td>\n",
       "      <td>0.727273</td>\n",
       "      <td>0.733333</td>\n",
       "      <td>0.367188</td>\n",
       "      <td>0.2</td>\n",
       "      <td>0.800000</td>\n",
       "      <td>...</td>\n",
       "      <td>0.630293</td>\n",
       "      <td>0.111111</td>\n",
       "      <td>0.777778</td>\n",
       "      <td>0.474684</td>\n",
       "      <td>0.548944</td>\n",
       "      <td>0.0</td>\n",
       "      <td>0.0</td>\n",
       "      <td>0.5</td>\n",
       "      <td>0.636364</td>\n",
       "      <td>0.233333</td>\n",
       "    </tr>\n",
       "    <tr>\n",
       "      <th>3</th>\n",
       "      <td>0.958333</td>\n",
       "      <td>0.339623</td>\n",
       "      <td>0.481766</td>\n",
       "      <td>0.000000</td>\n",
       "      <td>0.418605</td>\n",
       "      <td>0.881119</td>\n",
       "      <td>0.200000</td>\n",
       "      <td>0.234375</td>\n",
       "      <td>0.4</td>\n",
       "      <td>0.133333</td>\n",
       "      <td>...</td>\n",
       "      <td>0.594463</td>\n",
       "      <td>0.222222</td>\n",
       "      <td>0.666667</td>\n",
       "      <td>0.413502</td>\n",
       "      <td>0.451056</td>\n",
       "      <td>0.0</td>\n",
       "      <td>0.0</td>\n",
       "      <td>0.9</td>\n",
       "      <td>0.818182</td>\n",
       "      <td>0.933333</td>\n",
       "    </tr>\n",
       "    <tr>\n",
       "      <th>4</th>\n",
       "      <td>0.062500</td>\n",
       "      <td>0.540094</td>\n",
       "      <td>0.510557</td>\n",
       "      <td>0.000000</td>\n",
       "      <td>0.372093</td>\n",
       "      <td>0.307692</td>\n",
       "      <td>0.800000</td>\n",
       "      <td>0.250000</td>\n",
       "      <td>0.8</td>\n",
       "      <td>0.733333</td>\n",
       "      <td>...</td>\n",
       "      <td>0.558632</td>\n",
       "      <td>0.777778</td>\n",
       "      <td>0.777778</td>\n",
       "      <td>0.504219</td>\n",
       "      <td>0.508637</td>\n",
       "      <td>0.0</td>\n",
       "      <td>0.0</td>\n",
       "      <td>0.4</td>\n",
       "      <td>1.000000</td>\n",
       "      <td>0.166667</td>\n",
       "    </tr>\n",
       "  </tbody>\n",
       "</table>\n",
       "<p>5 rows × 25 columns</p>\n",
       "</div>"
      ],
      "text/plain": [
       "   KodeLokasi   SuhuMin   SuhuMax     Hujan  Penguapan  SinarMatahari  \\\n",
       "0    0.687500  0.445755  0.389635  0.428571   0.581395       0.419580   \n",
       "1    0.833333  0.629717  0.706334  0.000000   0.581395       0.419580   \n",
       "2    0.604167  0.372642  0.562380  0.000000   0.976744       0.727273   \n",
       "3    0.958333  0.339623  0.481766  0.000000   0.418605       0.881119   \n",
       "4    0.062500  0.540094  0.510557  0.000000   0.372093       0.307692   \n",
       "\n",
       "   ArahAnginTerkencang  KecepatanAnginTerkencang  ArahAngin9am  ArahAngin3pm  \\\n",
       "0             1.000000                  0.132812           0.2      1.000000   \n",
       "1             0.133333                  0.289062           0.6      0.600000   \n",
       "2             0.733333                  0.367188           0.2      0.800000   \n",
       "3             0.200000                  0.234375           0.4      0.133333   \n",
       "4             0.800000                  0.250000           0.8      0.733333   \n",
       "\n",
       "   ...  Tekanan3pm   Awan9am   Awan3pm   Suhu9am   Suhu3pm  BersaljuHariIni  \\\n",
       "0  ...    0.656352  0.555556  0.555556  0.428270  0.391555              1.0   \n",
       "1  ...    0.583062  0.555556  0.555556  0.654008  0.671785              0.0   \n",
       "2  ...    0.630293  0.111111  0.777778  0.474684  0.548944              0.0   \n",
       "3  ...    0.594463  0.222222  0.666667  0.413502  0.451056              0.0   \n",
       "4  ...    0.558632  0.777778  0.777778  0.504219  0.508637              0.0   \n",
       "\n",
       "   BersaljuBesok  Tahun     Bulan      Hari  \n",
       "0            0.0    0.7  0.000000  0.166667  \n",
       "1            0.0    0.4  0.090909  0.500000  \n",
       "2            0.0    0.5  0.636364  0.233333  \n",
       "3            0.0    0.9  0.818182  0.933333  \n",
       "4            0.0    0.4  1.000000  0.166667  \n",
       "\n",
       "[5 rows x 25 columns]"
      ]
     },
     "execution_count": 71,
     "metadata": {},
     "output_type": "execute_result"
    }
   ],
   "source": [
    "# Normalisasi data train dengan menggunakan min-max normalization\n",
    "df_train = (df_train - df_train.min()) / (df_train.max() - df_train.min())\n",
    "df_train.head(5)"
   ]
  },
  {
   "cell_type": "code",
   "execution_count": 72,
   "metadata": {},
   "outputs": [
    {
     "data": {
      "text/html": [
       "<div>\n",
       "<style scoped>\n",
       "    .dataframe tbody tr th:only-of-type {\n",
       "        vertical-align: middle;\n",
       "    }\n",
       "\n",
       "    .dataframe tbody tr th {\n",
       "        vertical-align: top;\n",
       "    }\n",
       "\n",
       "    .dataframe thead th {\n",
       "        text-align: right;\n",
       "    }\n",
       "</style>\n",
       "<table border=\"1\" class=\"dataframe\">\n",
       "  <thead>\n",
       "    <tr style=\"text-align: right;\">\n",
       "      <th></th>\n",
       "      <th>KodeLokasi</th>\n",
       "      <th>SuhuMin</th>\n",
       "      <th>SuhuMax</th>\n",
       "      <th>Hujan</th>\n",
       "      <th>Penguapan</th>\n",
       "      <th>SinarMatahari</th>\n",
       "      <th>ArahAnginTerkencang</th>\n",
       "      <th>KecepatanAnginTerkencang</th>\n",
       "      <th>ArahAngin9am</th>\n",
       "      <th>ArahAngin3pm</th>\n",
       "      <th>...</th>\n",
       "      <th>Tekanan3pm</th>\n",
       "      <th>Awan9am</th>\n",
       "      <th>Awan3pm</th>\n",
       "      <th>Suhu9am</th>\n",
       "      <th>Suhu3pm</th>\n",
       "      <th>BersaljuHariIni</th>\n",
       "      <th>BersaljuBesok</th>\n",
       "      <th>Tahun</th>\n",
       "      <th>Bulan</th>\n",
       "      <th>Hari</th>\n",
       "    </tr>\n",
       "  </thead>\n",
       "  <tbody>\n",
       "    <tr>\n",
       "      <th>0</th>\n",
       "      <td>0.666667</td>\n",
       "      <td>0.476923</td>\n",
       "      <td>0.592885</td>\n",
       "      <td>0.00</td>\n",
       "      <td>0.555556</td>\n",
       "      <td>0.441379</td>\n",
       "      <td>1.000000</td>\n",
       "      <td>0.344828</td>\n",
       "      <td>0.866667</td>\n",
       "      <td>0.866667</td>\n",
       "      <td>...</td>\n",
       "      <td>0.517625</td>\n",
       "      <td>0.500</td>\n",
       "      <td>0.875</td>\n",
       "      <td>0.720280</td>\n",
       "      <td>0.548193</td>\n",
       "      <td>0.0</td>\n",
       "      <td>0.0</td>\n",
       "      <td>0.3</td>\n",
       "      <td>0.272727</td>\n",
       "      <td>0.333333</td>\n",
       "    </tr>\n",
       "    <tr>\n",
       "      <th>1</th>\n",
       "      <td>0.583333</td>\n",
       "      <td>0.451282</td>\n",
       "      <td>0.442688</td>\n",
       "      <td>0.05</td>\n",
       "      <td>0.555556</td>\n",
       "      <td>0.482759</td>\n",
       "      <td>0.933333</td>\n",
       "      <td>0.431034</td>\n",
       "      <td>0.866667</td>\n",
       "      <td>0.466667</td>\n",
       "      <td>...</td>\n",
       "      <td>0.569573</td>\n",
       "      <td>1.000</td>\n",
       "      <td>0.125</td>\n",
       "      <td>0.370629</td>\n",
       "      <td>0.453815</td>\n",
       "      <td>0.0</td>\n",
       "      <td>1.0</td>\n",
       "      <td>0.8</td>\n",
       "      <td>0.181818</td>\n",
       "      <td>0.833333</td>\n",
       "    </tr>\n",
       "    <tr>\n",
       "      <th>2</th>\n",
       "      <td>0.187500</td>\n",
       "      <td>0.430769</td>\n",
       "      <td>0.586957</td>\n",
       "      <td>0.00</td>\n",
       "      <td>0.577778</td>\n",
       "      <td>0.717241</td>\n",
       "      <td>0.733333</td>\n",
       "      <td>0.232759</td>\n",
       "      <td>0.266667</td>\n",
       "      <td>0.200000</td>\n",
       "      <td>...</td>\n",
       "      <td>0.578850</td>\n",
       "      <td>0.000</td>\n",
       "      <td>0.125</td>\n",
       "      <td>0.445221</td>\n",
       "      <td>0.602410</td>\n",
       "      <td>0.0</td>\n",
       "      <td>0.0</td>\n",
       "      <td>0.9</td>\n",
       "      <td>0.181818</td>\n",
       "      <td>0.700000</td>\n",
       "    </tr>\n",
       "    <tr>\n",
       "      <th>3</th>\n",
       "      <td>0.500000</td>\n",
       "      <td>0.648718</td>\n",
       "      <td>0.583004</td>\n",
       "      <td>0.00</td>\n",
       "      <td>0.511111</td>\n",
       "      <td>0.462069</td>\n",
       "      <td>0.800000</td>\n",
       "      <td>0.250000</td>\n",
       "      <td>0.000000</td>\n",
       "      <td>0.666667</td>\n",
       "      <td>...</td>\n",
       "      <td>0.447124</td>\n",
       "      <td>0.875</td>\n",
       "      <td>0.750</td>\n",
       "      <td>0.641026</td>\n",
       "      <td>0.604418</td>\n",
       "      <td>0.0</td>\n",
       "      <td>0.0</td>\n",
       "      <td>0.4</td>\n",
       "      <td>0.727273</td>\n",
       "      <td>0.366667</td>\n",
       "    </tr>\n",
       "    <tr>\n",
       "      <th>4</th>\n",
       "      <td>0.104167</td>\n",
       "      <td>0.253846</td>\n",
       "      <td>0.205534</td>\n",
       "      <td>1.00</td>\n",
       "      <td>0.555556</td>\n",
       "      <td>0.482759</td>\n",
       "      <td>0.466667</td>\n",
       "      <td>0.344828</td>\n",
       "      <td>0.866667</td>\n",
       "      <td>0.933333</td>\n",
       "      <td>...</td>\n",
       "      <td>0.565863</td>\n",
       "      <td>0.500</td>\n",
       "      <td>0.500</td>\n",
       "      <td>0.223776</td>\n",
       "      <td>0.194779</td>\n",
       "      <td>1.0</td>\n",
       "      <td>0.0</td>\n",
       "      <td>1.0</td>\n",
       "      <td>0.363636</td>\n",
       "      <td>0.633333</td>\n",
       "    </tr>\n",
       "  </tbody>\n",
       "</table>\n",
       "<p>5 rows × 25 columns</p>\n",
       "</div>"
      ],
      "text/plain": [
       "   KodeLokasi   SuhuMin   SuhuMax  Hujan  Penguapan  SinarMatahari  \\\n",
       "0    0.666667  0.476923  0.592885   0.00   0.555556       0.441379   \n",
       "1    0.583333  0.451282  0.442688   0.05   0.555556       0.482759   \n",
       "2    0.187500  0.430769  0.586957   0.00   0.577778       0.717241   \n",
       "3    0.500000  0.648718  0.583004   0.00   0.511111       0.462069   \n",
       "4    0.104167  0.253846  0.205534   1.00   0.555556       0.482759   \n",
       "\n",
       "   ArahAnginTerkencang  KecepatanAnginTerkencang  ArahAngin9am  ArahAngin3pm  \\\n",
       "0             1.000000                  0.344828      0.866667      0.866667   \n",
       "1             0.933333                  0.431034      0.866667      0.466667   \n",
       "2             0.733333                  0.232759      0.266667      0.200000   \n",
       "3             0.800000                  0.250000      0.000000      0.666667   \n",
       "4             0.466667                  0.344828      0.866667      0.933333   \n",
       "\n",
       "   ...  Tekanan3pm  Awan9am  Awan3pm   Suhu9am   Suhu3pm  BersaljuHariIni  \\\n",
       "0  ...    0.517625    0.500    0.875  0.720280  0.548193              0.0   \n",
       "1  ...    0.569573    1.000    0.125  0.370629  0.453815              0.0   \n",
       "2  ...    0.578850    0.000    0.125  0.445221  0.602410              0.0   \n",
       "3  ...    0.447124    0.875    0.750  0.641026  0.604418              0.0   \n",
       "4  ...    0.565863    0.500    0.500  0.223776  0.194779              1.0   \n",
       "\n",
       "   BersaljuBesok  Tahun     Bulan      Hari  \n",
       "0            0.0    0.3  0.272727  0.333333  \n",
       "1            1.0    0.8  0.181818  0.833333  \n",
       "2            0.0    0.9  0.181818  0.700000  \n",
       "3            0.0    0.4  0.727273  0.366667  \n",
       "4            0.0    1.0  0.363636  0.633333  \n",
       "\n",
       "[5 rows x 25 columns]"
      ]
     },
     "execution_count": 72,
     "metadata": {},
     "output_type": "execute_result"
    }
   ],
   "source": [
    "# Normalisasi data test dengan menggunakan min-max normalization\n",
    "df_test = (df_test - df_test.min()) / (df_test.max() - df_test.min())\n",
    "df_test.head(5)"
   ]
  },
  {
   "cell_type": "code",
   "execution_count": null,
   "metadata": {},
   "outputs": [],
   "source": []
  }
 ],
 "metadata": {
  "kernelspec": {
   "display_name": "Python 3",
   "language": "python",
   "name": "python3"
  },
  "language_info": {
   "codemirror_mode": {
    "name": "ipython",
    "version": 3
   },
   "file_extension": ".py",
   "mimetype": "text/x-python",
   "name": "python",
   "nbconvert_exporter": "python",
   "pygments_lexer": "ipython3",
   "version": "3.8.2"
  }
 },
 "nbformat": 4,
 "nbformat_minor": 4
}
